{
 "cells": [
  {
   "cell_type": "markdown",
   "id": "9e84ac87",
   "metadata": {},
   "source": [
    "### Problem Statement:\n",
    "Predicitng Google stock Prices based on previous year data.\n",
    "\n",
    "This involves Time Series forecasting methods"
   ]
  },
  {
   "cell_type": "markdown",
   "id": "177cced2",
   "metadata": {},
   "source": [
    "### Importing Libraries & Dataset"
   ]
  },
  {
   "cell_type": "code",
   "execution_count": 1,
   "id": "c049a553",
   "metadata": {},
   "outputs": [],
   "source": [
    "import pandas as pd\n",
    "import numpy as np\n",
    "import tensorflow as tf\n",
    "\n",
    "data = pd.read_csv(r'C:\\Users\\SHREE\\Downloads\\Python CODES\\Google Stock Price Prediction using RNN\\Google_Stock_Price_Train.csv')\n",
    "train_data = data.copy()"
   ]
  },
  {
   "cell_type": "markdown",
   "id": "350ac0e7",
   "metadata": {},
   "source": [
    "### Selecting the Feature Variable for Prediction"
   ]
  },
  {
   "cell_type": "code",
   "execution_count": 2,
   "id": "76af06ad",
   "metadata": {},
   "outputs": [],
   "source": [
    "train_data = train_data.loc[:, ['Open']]"
   ]
  },
  {
   "cell_type": "markdown",
   "id": "45d87377",
   "metadata": {},
   "source": [
    "### Normalizing the Data"
   ]
  },
  {
   "cell_type": "code",
   "execution_count": 3,
   "id": "b75d7677",
   "metadata": {},
   "outputs": [],
   "source": [
    "from sklearn.preprocessing import MinMaxScaler\n",
    "\n",
    "mms = MinMaxScaler()\n",
    "\n",
    "train_data = mms.fit_transform(train_data)"
   ]
  },
  {
   "cell_type": "markdown",
   "id": "acedafdc",
   "metadata": {},
   "source": [
    "### Splitting the Data"
   ]
  },
  {
   "cell_type": "code",
   "execution_count": 4,
   "id": "c56a6674",
   "metadata": {},
   "outputs": [],
   "source": [
    "x_train = []\n",
    "\n",
    "y_train = []\n",
    "\n",
    "\n",
    "for i in range(60, len(train_data)):\n",
    "    x_train.append(train_data[i-60:i, 0])\n",
    "    y_train.append(train_data[i, 0])\n",
    "\n",
    "x_train, y_train = np.array(x_train), np.array(y_train)\n",
    "\n",
    "x_train = np.reshape(x_train, (x_train.shape[0], x_train.shape[1], 1))"
   ]
  },
  {
   "cell_type": "markdown",
   "id": "f485014c",
   "metadata": {},
   "source": [
    "### Model Creation"
   ]
  },
  {
   "cell_type": "code",
   "execution_count": 5,
   "id": "753b7b65",
   "metadata": {},
   "outputs": [
    {
     "name": "stdout",
     "output_type": "stream",
     "text": [
      "Epoch 1/2\n",
      "38/38 [==============================] - 100s 809ms/step - loss: 0.0425\n",
      "Epoch 2/2\n",
      "38/38 [==============================] - 35s 929ms/step - loss: 0.0077\n"
     ]
    },
    {
     "data": {
      "text/plain": [
       "<keras.callbacks.History at 0x1b924e96af0>"
      ]
     },
     "execution_count": 5,
     "metadata": {},
     "output_type": "execute_result"
    }
   ],
   "source": [
    "rnn = tf.keras.models.Sequential()\n",
    "\n",
    "rnn.add(tf.keras.layers.LSTM(units=50, return_sequences=True, input_shape = (x_train.shape[1], 1)))\n",
    "\n",
    "rnn.add(tf.keras.layers.Dropout(0.2))\n",
    "\n",
    "rnn.add(tf.keras.layers.LSTM(units=50, return_sequences=True))\n",
    "\n",
    "rnn.add(tf.keras.layers.Dropout(0.2))\n",
    "\n",
    "rnn.add(tf.keras.layers.LSTM(units=50, return_sequences=True))\n",
    "\n",
    "rnn.add(tf.keras.layers.Dropout(0.2))\n",
    "\n",
    "rnn.add(tf.keras.layers.LSTM(units=50, return_sequences=True))\n",
    "\n",
    "rnn.add(tf.keras.layers.Dropout(0.2))\n",
    "\n",
    "rnn.add(tf.keras.layers.LSTM(units=50))\n",
    "\n",
    "rnn.add(tf.keras.layers.Dropout(0.2))\n",
    "\n",
    "rnn.add(tf.keras.layers.Dense(units=1))\n",
    "\n",
    "rnn.compile(optimizer='adam', loss='mean_squared_error')\n",
    "\n",
    "rnn.fit(x_train, y_train, epochs=2, batch_size=32)"
   ]
  },
  {
   "cell_type": "markdown",
   "id": "8cfc37fc",
   "metadata": {},
   "source": [
    "### Model Evaluation"
   ]
  },
  {
   "cell_type": "code",
   "execution_count": 6,
   "id": "bae76741",
   "metadata": {},
   "outputs": [],
   "source": [
    "dl_test = pd.read_csv(r'C:\\Users\\SHREE\\Downloads\\Python CODES\\Google Stock Price Prediction using RNN\\Google_Stock_Price_Test.csv')\n",
    "\n",
    "test_data = dl_test.copy()\n",
    "\n",
    "test_data = test_data.loc[:, ['Open']]\n",
    "\n",
    "additional_data = data.copy()\n",
    "\n",
    "additional_data = additional_data.tail(60)\n",
    "\n",
    "additional_data = additional_data.loc[:, ['Open']]\n",
    "\n",
    "\n",
    "test_set = pd.concat((additional_data, test_data), axis=0)\n",
    "\n",
    "test_set = mms.transform(test_set)"
   ]
  },
  {
   "cell_type": "code",
   "execution_count": 7,
   "id": "a58b8789",
   "metadata": {},
   "outputs": [],
   "source": [
    "x_test = []\n",
    "\n",
    "for i in range(60, len(test_set)):\n",
    "    x_test.append(test_set[i-60:i, 0])\n",
    "    \n",
    "x_test = np.array(x_test)\n",
    "\n",
    "x_test = np.reshape(x_test, (x_test.shape[0], x_test.shape[1], 1))\n",
    "    \n",
    "results = rnn.predict(x_test)\n",
    "\n",
    "real_results = mms.inverse_transform(results)"
   ]
  },
  {
   "cell_type": "markdown",
   "id": "35425a73",
   "metadata": {},
   "source": [
    "### Visualizing the Result"
   ]
  },
  {
   "cell_type": "code",
   "execution_count": 8,
   "id": "bade9c07",
   "metadata": {},
   "outputs": [
    {
     "data": {
      "image/png": "[encoded data removed]",
      "text/plain": [
       "<Figure size 432x288 with 1 Axes>"
      ]
     },
     "metadata": {
      "needs_background": "light"
     },
     "output_type": "display_data"
    }
   ],
   "source": [
    "import matplotlib.pyplot as plt\n",
    "\n",
    "plt.plot(real_results)\n",
    "plt.show()"
   ]
  }
 ],
 "metadata": {
  "kernelspec": {
   "display_name": "Python 3 (ipykernel)",
   "language": "python",
   "name": "python3"
  },
  "language_info": {
   "codemirror_mode": {
    "name": "ipython",
    "version": 3
   },
   "file_extension": ".py",
   "mimetype": "text/x-python",
   "name": "python",
   "nbconvert_exporter": "python",
   "pygments_lexer": "ipython3",
   "version": "3.8.8"
  }
 },
 "nbformat": 4,
 "nbformat_minor": 5
}
