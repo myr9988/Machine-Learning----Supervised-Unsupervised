{
 "cells": [
  {
   "cell_type": "code",
   "execution_count": 1,
   "id": "b663278d",
   "metadata": {},
   "outputs": [],
   "source": [
    "#Importing libraries\n",
    "\n",
    "import numpy as np\n",
    "import pandas as pd\n",
    "import seaborn as sns\n",
    "import matplotlib.pyplot as plt\n",
    "from sklearn.preprocessing import StandardScaler\n",
    "from sklearn.metrics import mean_squared_error, r2_score\n",
    "from sklearn.metrics import mean_absolute_error, mean_squared_error\n",
    "from sklearn.model_selection import train_test_split, cross_validate\n",
    "from sklearn.linear_model import Ridge, LinearRegression, SGDRegressor, Lasso, ElasticNet\n",
    "from xgboost import XGBRegressor\n",
    "\n",
    "# To Avoid unnecessary warnings\n",
    "import warnings\n",
    "warnings.filterwarnings('ignore')"
   ]
  },
  {
   "cell_type": "markdown",
   "id": "ea61fcc1",
   "metadata": {},
   "source": [
    "Data preparation and preprocessing"
   ]
  },
  {
   "cell_type": "code",
   "execution_count": 2,
   "id": "d0fb7aa9",
   "metadata": {},
   "outputs": [
    {
     "data": {
      "text/html": [
       "<div>\n",
       "<style scoped>\n",
       "    .dataframe tbody tr th:only-of-type {\n",
       "        vertical-align: middle;\n",
       "    }\n",
       "\n",
       "    .dataframe tbody tr th {\n",
       "        vertical-align: top;\n",
       "    }\n",
       "\n",
       "    .dataframe thead th {\n",
       "        text-align: right;\n",
       "    }\n",
       "</style>\n",
       "<table border=\"1\" class=\"dataframe\">\n",
       "  <thead>\n",
       "    <tr style=\"text-align: right;\">\n",
       "      <th></th>\n",
       "      <th>Id</th>\n",
       "      <th>MSSubClass</th>\n",
       "      <th>MSZoning</th>\n",
       "      <th>LotFrontage</th>\n",
       "      <th>LotArea</th>\n",
       "      <th>Street</th>\n",
       "      <th>Alley</th>\n",
       "      <th>LotShape</th>\n",
       "      <th>LandContour</th>\n",
       "      <th>Utilities</th>\n",
       "      <th>...</th>\n",
       "      <th>PoolArea</th>\n",
       "      <th>PoolQC</th>\n",
       "      <th>Fence</th>\n",
       "      <th>MiscFeature</th>\n",
       "      <th>MiscVal</th>\n",
       "      <th>MoSold</th>\n",
       "      <th>YrSold</th>\n",
       "      <th>SaleType</th>\n",
       "      <th>SaleCondition</th>\n",
       "      <th>SalePrice</th>\n",
       "    </tr>\n",
       "  </thead>\n",
       "  <tbody>\n",
       "    <tr>\n",
       "      <th>0</th>\n",
       "      <td>1</td>\n",
       "      <td>60</td>\n",
       "      <td>RL</td>\n",
       "      <td>65.0</td>\n",
       "      <td>8450</td>\n",
       "      <td>Pave</td>\n",
       "      <td>NaN</td>\n",
       "      <td>Reg</td>\n",
       "      <td>Lvl</td>\n",
       "      <td>AllPub</td>\n",
       "      <td>...</td>\n",
       "      <td>0</td>\n",
       "      <td>NaN</td>\n",
       "      <td>NaN</td>\n",
       "      <td>NaN</td>\n",
       "      <td>0</td>\n",
       "      <td>2</td>\n",
       "      <td>2008</td>\n",
       "      <td>WD</td>\n",
       "      <td>Normal</td>\n",
       "      <td>208500</td>\n",
       "    </tr>\n",
       "    <tr>\n",
       "      <th>1</th>\n",
       "      <td>2</td>\n",
       "      <td>20</td>\n",
       "      <td>RL</td>\n",
       "      <td>80.0</td>\n",
       "      <td>9600</td>\n",
       "      <td>Pave</td>\n",
       "      <td>NaN</td>\n",
       "      <td>Reg</td>\n",
       "      <td>Lvl</td>\n",
       "      <td>AllPub</td>\n",
       "      <td>...</td>\n",
       "      <td>0</td>\n",
       "      <td>NaN</td>\n",
       "      <td>NaN</td>\n",
       "      <td>NaN</td>\n",
       "      <td>0</td>\n",
       "      <td>5</td>\n",
       "      <td>2007</td>\n",
       "      <td>WD</td>\n",
       "      <td>Normal</td>\n",
       "      <td>181500</td>\n",
       "    </tr>\n",
       "    <tr>\n",
       "      <th>2</th>\n",
       "      <td>3</td>\n",
       "      <td>60</td>\n",
       "      <td>RL</td>\n",
       "      <td>68.0</td>\n",
       "      <td>11250</td>\n",
       "      <td>Pave</td>\n",
       "      <td>NaN</td>\n",
       "      <td>IR1</td>\n",
       "      <td>Lvl</td>\n",
       "      <td>AllPub</td>\n",
       "      <td>...</td>\n",
       "      <td>0</td>\n",
       "      <td>NaN</td>\n",
       "      <td>NaN</td>\n",
       "      <td>NaN</td>\n",
       "      <td>0</td>\n",
       "      <td>9</td>\n",
       "      <td>2008</td>\n",
       "      <td>WD</td>\n",
       "      <td>Normal</td>\n",
       "      <td>223500</td>\n",
       "    </tr>\n",
       "    <tr>\n",
       "      <th>3</th>\n",
       "      <td>4</td>\n",
       "      <td>70</td>\n",
       "      <td>RL</td>\n",
       "      <td>60.0</td>\n",
       "      <td>9550</td>\n",
       "      <td>Pave</td>\n",
       "      <td>NaN</td>\n",
       "      <td>IR1</td>\n",
       "      <td>Lvl</td>\n",
       "      <td>AllPub</td>\n",
       "      <td>...</td>\n",
       "      <td>0</td>\n",
       "      <td>NaN</td>\n",
       "      <td>NaN</td>\n",
       "      <td>NaN</td>\n",
       "      <td>0</td>\n",
       "      <td>2</td>\n",
       "      <td>2006</td>\n",
       "      <td>WD</td>\n",
       "      <td>Abnorml</td>\n",
       "      <td>140000</td>\n",
       "    </tr>\n",
       "    <tr>\n",
       "      <th>4</th>\n",
       "      <td>5</td>\n",
       "      <td>60</td>\n",
       "      <td>RL</td>\n",
       "      <td>84.0</td>\n",
       "      <td>14260</td>\n",
       "      <td>Pave</td>\n",
       "      <td>NaN</td>\n",
       "      <td>IR1</td>\n",
       "      <td>Lvl</td>\n",
       "      <td>AllPub</td>\n",
       "      <td>...</td>\n",
       "      <td>0</td>\n",
       "      <td>NaN</td>\n",
       "      <td>NaN</td>\n",
       "      <td>NaN</td>\n",
       "      <td>0</td>\n",
       "      <td>12</td>\n",
       "      <td>2008</td>\n",
       "      <td>WD</td>\n",
       "      <td>Normal</td>\n",
       "      <td>250000</td>\n",
       "    </tr>\n",
       "  </tbody>\n",
       "</table>\n",
       "<p>5 rows × 81 columns</p>\n",
       "</div>"
      ],
      "text/plain": [
       "   Id  MSSubClass MSZoning  LotFrontage  LotArea Street Alley LotShape  \\\n",
       "0   1          60       RL         65.0     8450   Pave   NaN      Reg   \n",
       "1   2          20       RL         80.0     9600   Pave   NaN      Reg   \n",
       "2   3          60       RL         68.0    11250   Pave   NaN      IR1   \n",
       "3   4          70       RL         60.0     9550   Pave   NaN      IR1   \n",
       "4   5          60       RL         84.0    14260   Pave   NaN      IR1   \n",
       "\n",
       "  LandContour Utilities  ... PoolArea PoolQC Fence MiscFeature MiscVal MoSold  \\\n",
       "0         Lvl    AllPub  ...        0    NaN   NaN         NaN       0      2   \n",
       "1         Lvl    AllPub  ...        0    NaN   NaN         NaN       0      5   \n",
       "2         Lvl    AllPub  ...        0    NaN   NaN         NaN       0      9   \n",
       "3         Lvl    AllPub  ...        0    NaN   NaN         NaN       0      2   \n",
       "4         Lvl    AllPub  ...        0    NaN   NaN         NaN       0     12   \n",
       "\n",
       "  YrSold  SaleType  SaleCondition  SalePrice  \n",
       "0   2008        WD         Normal     208500  \n",
       "1   2007        WD         Normal     181500  \n",
       "2   2008        WD         Normal     223500  \n",
       "3   2006        WD        Abnorml     140000  \n",
       "4   2008        WD         Normal     250000  \n",
       "\n",
       "[5 rows x 81 columns]"
      ]
     },
     "execution_count": 2,
     "metadata": {},
     "output_type": "execute_result"
    }
   ],
   "source": [
    "#Loading data\n",
    "\n",
    "test_data = pd.read_csv(r'C:\\Users\\SHREE\\Downloads\\Python CODES\\Predicting house prices\\test.csv')\n",
    "train_data = pd.read_csv(r'C:\\Users\\SHREE\\Downloads\\Python CODES\\Predicting house prices\\train.csv')\n",
    "train_data.head()"
   ]
  },
  {
   "cell_type": "code",
   "execution_count": 3,
   "id": "150b7dd9",
   "metadata": {},
   "outputs": [],
   "source": [
    "train_data = train_data.drop(['Id'] , axis =1)\n",
    "test_data = test_data.drop(['Id'] , axis =1)"
   ]
  },
  {
   "cell_type": "code",
   "execution_count": 4,
   "id": "959bb429",
   "metadata": {},
   "outputs": [
    {
     "name": "stdout",
     "output_type": "stream",
     "text": [
      "Number of rows: 1460\n",
      "Number of columns: 80\n"
     ]
    }
   ],
   "source": [
    "# Checking the number of rows and columns\n",
    "\n",
    "print('Number of rows:', train_data.shape[0])\n",
    "print('Number of columns:', train_data.shape[1])"
   ]
  },
  {
   "cell_type": "code",
   "execution_count": 5,
   "id": "e5fb209c",
   "metadata": {},
   "outputs": [
    {
     "name": "stdout",
     "output_type": "stream",
     "text": [
      "<class 'pandas.core.frame.DataFrame'>\n",
      "RangeIndex: 1460 entries, 0 to 1459\n",
      "Data columns (total 80 columns):\n",
      " #   Column         Non-Null Count  Dtype  \n",
      "---  ------         --------------  -----  \n",
      " 0   MSSubClass     1460 non-null   int64  \n",
      " 1   MSZoning       1460 non-null   object \n",
      " 2   LotFrontage    1201 non-null   float64\n",
      " 3   LotArea        1460 non-null   int64  \n",
      " 4   Street         1460 non-null   object \n",
      " 5   Alley          91 non-null     object \n",
      " 6   LotShape       1460 non-null   object \n",
      " 7   LandContour    1460 non-null   object \n",
      " 8   Utilities      1460 non-null   object \n",
      " 9   LotConfig      1460 non-null   object \n",
      " 10  LandSlope      1460 non-null   object \n",
      " 11  Neighborhood   1460 non-null   object \n",
      " 12  Condition1     1460 non-null   object \n",
      " 13  Condition2     1460 non-null   object \n",
      " 14  BldgType       1460 non-null   object \n",
      " 15  HouseStyle     1460 non-null   object \n",
      " 16  OverallQual    1460 non-null   int64  \n",
      " 17  OverallCond    1460 non-null   int64  \n",
      " 18  YearBuilt      1460 non-null   int64  \n",
      " 19  YearRemodAdd   1460 non-null   int64  \n",
      " 20  RoofStyle      1460 non-null   object \n",
      " 21  RoofMatl       1460 non-null   object \n",
      " 22  Exterior1st    1460 non-null   object \n",
      " 23  Exterior2nd    1460 non-null   object \n",
      " 24  MasVnrType     1452 non-null   object \n",
      " 25  MasVnrArea     1452 non-null   float64\n",
      " 26  ExterQual      1460 non-null   object \n",
      " 27  ExterCond      1460 non-null   object \n",
      " 28  Foundation     1460 non-null   object \n",
      " 29  BsmtQual       1423 non-null   object \n",
      " 30  BsmtCond       1423 non-null   object \n",
      " 31  BsmtExposure   1422 non-null   object \n",
      " 32  BsmtFinType1   1423 non-null   object \n",
      " 33  BsmtFinSF1     1460 non-null   int64  \n",
      " 34  BsmtFinType2   1422 non-null   object \n",
      " 35  BsmtFinSF2     1460 non-null   int64  \n",
      " 36  BsmtUnfSF      1460 non-null   int64  \n",
      " 37  TotalBsmtSF    1460 non-null   int64  \n",
      " 38  Heating        1460 non-null   object \n",
      " 39  HeatingQC      1460 non-null   object \n",
      " 40  CentralAir     1460 non-null   object \n",
      " 41  Electrical     1459 non-null   object \n",
      " 42  1stFlrSF       1460 non-null   int64  \n",
      " 43  2ndFlrSF       1460 non-null   int64  \n",
      " 44  LowQualFinSF   1460 non-null   int64  \n",
      " 45  GrLivArea      1460 non-null   int64  \n",
      " 46  BsmtFullBath   1460 non-null   int64  \n",
      " 47  BsmtHalfBath   1460 non-null   int64  \n",
      " 48  FullBath       1460 non-null   int64  \n",
      " 49  HalfBath       1460 non-null   int64  \n",
      " 50  BedroomAbvGr   1460 non-null   int64  \n",
      " 51  KitchenAbvGr   1460 non-null   int64  \n",
      " 52  KitchenQual    1460 non-null   object \n",
      " 53  TotRmsAbvGrd   1460 non-null   int64  \n",
      " 54  Functional     1460 non-null   object \n",
      " 55  Fireplaces     1460 non-null   int64  \n",
      " 56  FireplaceQu    770 non-null    object \n",
      " 57  GarageType     1379 non-null   object \n",
      " 58  GarageYrBlt    1379 non-null   float64\n",
      " 59  GarageFinish   1379 non-null   object \n",
      " 60  GarageCars     1460 non-null   int64  \n",
      " 61  GarageArea     1460 non-null   int64  \n",
      " 62  GarageQual     1379 non-null   object \n",
      " 63  GarageCond     1379 non-null   object \n",
      " 64  PavedDrive     1460 non-null   object \n",
      " 65  WoodDeckSF     1460 non-null   int64  \n",
      " 66  OpenPorchSF    1460 non-null   int64  \n",
      " 67  EnclosedPorch  1460 non-null   int64  \n",
      " 68  3SsnPorch      1460 non-null   int64  \n",
      " 69  ScreenPorch    1460 non-null   int64  \n",
      " 70  PoolArea       1460 non-null   int64  \n",
      " 71  PoolQC         7 non-null      object \n",
      " 72  Fence          281 non-null    object \n",
      " 73  MiscFeature    54 non-null     object \n",
      " 74  MiscVal        1460 non-null   int64  \n",
      " 75  MoSold         1460 non-null   int64  \n",
      " 76  YrSold         1460 non-null   int64  \n",
      " 77  SaleType       1460 non-null   object \n",
      " 78  SaleCondition  1460 non-null   object \n",
      " 79  SalePrice      1460 non-null   int64  \n",
      "dtypes: float64(3), int64(34), object(43)\n",
      "memory usage: 912.6+ KB\n"
     ]
    }
   ],
   "source": [
    "train_data.info()"
   ]
  },
  {
   "cell_type": "code",
   "execution_count": 6,
   "id": "49a8398c",
   "metadata": {},
   "outputs": [],
   "source": [
    "# Extracting numerical data\n",
    "\n",
    "train_data = train_data.select_dtypes(include=['int64', 'float64'])\n",
    "\n",
    "test_data =  test_data.select_dtypes(include=['int64', 'float64'])"
   ]
  },
  {
   "cell_type": "code",
   "execution_count": 7,
   "id": "9a8baa0f",
   "metadata": {},
   "outputs": [
    {
     "data": {
      "text/html": [
       "<div>\n",
       "<style scoped>\n",
       "    .dataframe tbody tr th:only-of-type {\n",
       "        vertical-align: middle;\n",
       "    }\n",
       "\n",
       "    .dataframe tbody tr th {\n",
       "        vertical-align: top;\n",
       "    }\n",
       "\n",
       "    .dataframe thead th {\n",
       "        text-align: right;\n",
       "    }\n",
       "</style>\n",
       "<table border=\"1\" class=\"dataframe\">\n",
       "  <thead>\n",
       "    <tr style=\"text-align: right;\">\n",
       "      <th></th>\n",
       "      <th>MSSubClass</th>\n",
       "      <th>LotFrontage</th>\n",
       "      <th>LotArea</th>\n",
       "      <th>OverallQual</th>\n",
       "      <th>OverallCond</th>\n",
       "      <th>YearBuilt</th>\n",
       "      <th>YearRemodAdd</th>\n",
       "      <th>MasVnrArea</th>\n",
       "      <th>BsmtFinSF1</th>\n",
       "      <th>BsmtFinSF2</th>\n",
       "      <th>...</th>\n",
       "      <th>WoodDeckSF</th>\n",
       "      <th>OpenPorchSF</th>\n",
       "      <th>EnclosedPorch</th>\n",
       "      <th>3SsnPorch</th>\n",
       "      <th>ScreenPorch</th>\n",
       "      <th>PoolArea</th>\n",
       "      <th>MiscVal</th>\n",
       "      <th>MoSold</th>\n",
       "      <th>YrSold</th>\n",
       "      <th>SalePrice</th>\n",
       "    </tr>\n",
       "  </thead>\n",
       "  <tbody>\n",
       "    <tr>\n",
       "      <th>0</th>\n",
       "      <td>60</td>\n",
       "      <td>65.0</td>\n",
       "      <td>8450</td>\n",
       "      <td>7</td>\n",
       "      <td>5</td>\n",
       "      <td>2003</td>\n",
       "      <td>2003</td>\n",
       "      <td>196.0</td>\n",
       "      <td>706</td>\n",
       "      <td>0</td>\n",
       "      <td>...</td>\n",
       "      <td>0</td>\n",
       "      <td>61</td>\n",
       "      <td>0</td>\n",
       "      <td>0</td>\n",
       "      <td>0</td>\n",
       "      <td>0</td>\n",
       "      <td>0</td>\n",
       "      <td>2</td>\n",
       "      <td>2008</td>\n",
       "      <td>208500</td>\n",
       "    </tr>\n",
       "    <tr>\n",
       "      <th>1</th>\n",
       "      <td>20</td>\n",
       "      <td>80.0</td>\n",
       "      <td>9600</td>\n",
       "      <td>6</td>\n",
       "      <td>8</td>\n",
       "      <td>1976</td>\n",
       "      <td>1976</td>\n",
       "      <td>0.0</td>\n",
       "      <td>978</td>\n",
       "      <td>0</td>\n",
       "      <td>...</td>\n",
       "      <td>298</td>\n",
       "      <td>0</td>\n",
       "      <td>0</td>\n",
       "      <td>0</td>\n",
       "      <td>0</td>\n",
       "      <td>0</td>\n",
       "      <td>0</td>\n",
       "      <td>5</td>\n",
       "      <td>2007</td>\n",
       "      <td>181500</td>\n",
       "    </tr>\n",
       "    <tr>\n",
       "      <th>2</th>\n",
       "      <td>60</td>\n",
       "      <td>68.0</td>\n",
       "      <td>11250</td>\n",
       "      <td>7</td>\n",
       "      <td>5</td>\n",
       "      <td>2001</td>\n",
       "      <td>2002</td>\n",
       "      <td>162.0</td>\n",
       "      <td>486</td>\n",
       "      <td>0</td>\n",
       "      <td>...</td>\n",
       "      <td>0</td>\n",
       "      <td>42</td>\n",
       "      <td>0</td>\n",
       "      <td>0</td>\n",
       "      <td>0</td>\n",
       "      <td>0</td>\n",
       "      <td>0</td>\n",
       "      <td>9</td>\n",
       "      <td>2008</td>\n",
       "      <td>223500</td>\n",
       "    </tr>\n",
       "    <tr>\n",
       "      <th>3</th>\n",
       "      <td>70</td>\n",
       "      <td>60.0</td>\n",
       "      <td>9550</td>\n",
       "      <td>7</td>\n",
       "      <td>5</td>\n",
       "      <td>1915</td>\n",
       "      <td>1970</td>\n",
       "      <td>0.0</td>\n",
       "      <td>216</td>\n",
       "      <td>0</td>\n",
       "      <td>...</td>\n",
       "      <td>0</td>\n",
       "      <td>35</td>\n",
       "      <td>272</td>\n",
       "      <td>0</td>\n",
       "      <td>0</td>\n",
       "      <td>0</td>\n",
       "      <td>0</td>\n",
       "      <td>2</td>\n",
       "      <td>2006</td>\n",
       "      <td>140000</td>\n",
       "    </tr>\n",
       "    <tr>\n",
       "      <th>4</th>\n",
       "      <td>60</td>\n",
       "      <td>84.0</td>\n",
       "      <td>14260</td>\n",
       "      <td>8</td>\n",
       "      <td>5</td>\n",
       "      <td>2000</td>\n",
       "      <td>2000</td>\n",
       "      <td>350.0</td>\n",
       "      <td>655</td>\n",
       "      <td>0</td>\n",
       "      <td>...</td>\n",
       "      <td>192</td>\n",
       "      <td>84</td>\n",
       "      <td>0</td>\n",
       "      <td>0</td>\n",
       "      <td>0</td>\n",
       "      <td>0</td>\n",
       "      <td>0</td>\n",
       "      <td>12</td>\n",
       "      <td>2008</td>\n",
       "      <td>250000</td>\n",
       "    </tr>\n",
       "  </tbody>\n",
       "</table>\n",
       "<p>5 rows × 37 columns</p>\n",
       "</div>"
      ],
      "text/plain": [
       "   MSSubClass  LotFrontage  LotArea  OverallQual  OverallCond  YearBuilt  \\\n",
       "0          60         65.0     8450            7            5       2003   \n",
       "1          20         80.0     9600            6            8       1976   \n",
       "2          60         68.0    11250            7            5       2001   \n",
       "3          70         60.0     9550            7            5       1915   \n",
       "4          60         84.0    14260            8            5       2000   \n",
       "\n",
       "   YearRemodAdd  MasVnrArea  BsmtFinSF1  BsmtFinSF2  ...  WoodDeckSF  \\\n",
       "0          2003       196.0         706           0  ...           0   \n",
       "1          1976         0.0         978           0  ...         298   \n",
       "2          2002       162.0         486           0  ...           0   \n",
       "3          1970         0.0         216           0  ...           0   \n",
       "4          2000       350.0         655           0  ...         192   \n",
       "\n",
       "   OpenPorchSF  EnclosedPorch  3SsnPorch  ScreenPorch  PoolArea  MiscVal  \\\n",
       "0           61              0          0            0         0        0   \n",
       "1            0              0          0            0         0        0   \n",
       "2           42              0          0            0         0        0   \n",
       "3           35            272          0            0         0        0   \n",
       "4           84              0          0            0         0        0   \n",
       "\n",
       "   MoSold  YrSold  SalePrice  \n",
       "0       2    2008     208500  \n",
       "1       5    2007     181500  \n",
       "2       9    2008     223500  \n",
       "3       2    2006     140000  \n",
       "4      12    2008     250000  \n",
       "\n",
       "[5 rows x 37 columns]"
      ]
     },
     "execution_count": 7,
     "metadata": {},
     "output_type": "execute_result"
    }
   ],
   "source": [
    "train_data.head()"
   ]
  },
  {
   "cell_type": "code",
   "execution_count": 8,
   "id": "724b5e24",
   "metadata": {},
   "outputs": [
    {
     "data": {
      "image/png": "[encoded data removed]",
      "text/plain": [
       "<Figure size 2160x1440 with 42 Axes>"
      ]
     },
     "metadata": {
      "needs_background": "light"
     },
     "output_type": "display_data"
    }
   ],
   "source": [
    "# Exploratory data analysis to check for class imbalance\n",
    "\n",
    "train_data.hist(figsize =(30,20), color = 'green', alpha = 0.5);"
   ]
  },
  {
   "cell_type": "code",
   "execution_count": 9,
   "id": "37046cb9",
   "metadata": {},
   "outputs": [
    {
     "data": {
      "text/plain": [
       "MSSubClass         0\n",
       "LotFrontage      259\n",
       "LotArea            0\n",
       "OverallQual        0\n",
       "OverallCond        0\n",
       "YearBuilt          0\n",
       "YearRemodAdd       0\n",
       "MasVnrArea         8\n",
       "BsmtFinSF1         0\n",
       "BsmtFinSF2         0\n",
       "BsmtUnfSF          0\n",
       "TotalBsmtSF        0\n",
       "1stFlrSF           0\n",
       "2ndFlrSF           0\n",
       "LowQualFinSF       0\n",
       "GrLivArea          0\n",
       "BsmtFullBath       0\n",
       "BsmtHalfBath       0\n",
       "FullBath           0\n",
       "HalfBath           0\n",
       "BedroomAbvGr       0\n",
       "KitchenAbvGr       0\n",
       "TotRmsAbvGrd       0\n",
       "Fireplaces         0\n",
       "GarageYrBlt       81\n",
       "GarageCars         0\n",
       "GarageArea         0\n",
       "WoodDeckSF         0\n",
       "OpenPorchSF        0\n",
       "EnclosedPorch      0\n",
       "3SsnPorch          0\n",
       "ScreenPorch        0\n",
       "PoolArea           0\n",
       "MiscVal            0\n",
       "MoSold             0\n",
       "YrSold             0\n",
       "SalePrice          0\n",
       "dtype: int64"
      ]
     },
     "execution_count": 9,
     "metadata": {},
     "output_type": "execute_result"
    }
   ],
   "source": [
    "# Looking for missing train_data \n",
    "\n",
    "train_data.isnull().sum()"
   ]
  },
  {
   "cell_type": "code",
   "execution_count": 10,
   "id": "948779a0",
   "metadata": {},
   "outputs": [
    {
     "data": {
      "text/plain": [
       "MSSubClass         0\n",
       "LotFrontage      227\n",
       "LotArea            0\n",
       "OverallQual        0\n",
       "OverallCond        0\n",
       "YearBuilt          0\n",
       "YearRemodAdd       0\n",
       "MasVnrArea        15\n",
       "BsmtFinSF1         1\n",
       "BsmtFinSF2         1\n",
       "BsmtUnfSF          1\n",
       "TotalBsmtSF        1\n",
       "1stFlrSF           0\n",
       "2ndFlrSF           0\n",
       "LowQualFinSF       0\n",
       "GrLivArea          0\n",
       "BsmtFullBath       2\n",
       "BsmtHalfBath       2\n",
       "FullBath           0\n",
       "HalfBath           0\n",
       "BedroomAbvGr       0\n",
       "KitchenAbvGr       0\n",
       "TotRmsAbvGrd       0\n",
       "Fireplaces         0\n",
       "GarageYrBlt       78\n",
       "GarageCars         1\n",
       "GarageArea         1\n",
       "WoodDeckSF         0\n",
       "OpenPorchSF        0\n",
       "EnclosedPorch      0\n",
       "3SsnPorch          0\n",
       "ScreenPorch        0\n",
       "PoolArea           0\n",
       "MiscVal            0\n",
       "MoSold             0\n",
       "YrSold             0\n",
       "dtype: int64"
      ]
     },
     "execution_count": 10,
     "metadata": {},
     "output_type": "execute_result"
    }
   ],
   "source": [
    "# Looking for missing test_data\n",
    "\n",
    "test_data.isnull().sum()"
   ]
  },
  {
   "cell_type": "markdown",
   "id": "676a1f37",
   "metadata": {},
   "source": [
    "Replacing null values"
   ]
  },
  {
   "cell_type": "code",
   "execution_count": 11,
   "id": "f51ac7e8",
   "metadata": {},
   "outputs": [
    {
     "data": {
      "text/plain": [
       "MSSubClass       0\n",
       "LotFrontage      0\n",
       "LotArea          0\n",
       "OverallQual      0\n",
       "OverallCond      0\n",
       "YearBuilt        0\n",
       "YearRemodAdd     0\n",
       "MasVnrArea       0\n",
       "BsmtFinSF1       0\n",
       "BsmtFinSF2       0\n",
       "BsmtUnfSF        0\n",
       "TotalBsmtSF      0\n",
       "1stFlrSF         0\n",
       "2ndFlrSF         0\n",
       "LowQualFinSF     0\n",
       "GrLivArea        0\n",
       "BsmtFullBath     0\n",
       "BsmtHalfBath     0\n",
       "FullBath         0\n",
       "HalfBath         0\n",
       "BedroomAbvGr     0\n",
       "KitchenAbvGr     0\n",
       "TotRmsAbvGrd     0\n",
       "Fireplaces       0\n",
       "GarageYrBlt      0\n",
       "GarageCars       0\n",
       "GarageArea       0\n",
       "WoodDeckSF       0\n",
       "OpenPorchSF      0\n",
       "EnclosedPorch    0\n",
       "3SsnPorch        0\n",
       "ScreenPorch      0\n",
       "PoolArea         0\n",
       "MiscVal          0\n",
       "MoSold           0\n",
       "YrSold           0\n",
       "dtype: int64"
      ]
     },
     "execution_count": 11,
     "metadata": {},
     "output_type": "execute_result"
    }
   ],
   "source": [
    "# Filling null values with median\n",
    "\n",
    "test_data.fillna(test_data.median(), inplace = True)\n",
    "\n",
    "test_data.isnull().sum()"
   ]
  },
  {
   "cell_type": "code",
   "execution_count": 12,
   "id": "1854ea07",
   "metadata": {},
   "outputs": [],
   "source": [
    "# Filling null values with median\n",
    "\n",
    "train_data['LotFrontage'] = train_data['LotFrontage'].fillna(train_data['LotFrontage'].median())\n",
    "\n",
    "train_data['GarageYrBlt'] = train_data['GarageYrBlt'].fillna(train_data['GarageYrBlt'].median())\n",
    "\n",
    "train_data['MasVnrArea'] = train_data['MasVnrArea'].fillna(train_data['MasVnrArea'].median())"
   ]
  },
  {
   "cell_type": "code",
   "execution_count": 13,
   "id": "22370628",
   "metadata": {},
   "outputs": [
    {
     "data": {
      "text/plain": [
       "0"
      ]
     },
     "execution_count": 13,
     "metadata": {},
     "output_type": "execute_result"
    }
   ],
   "source": [
    "# Looking for duplicates\n",
    "\n",
    "sum(train_data.duplicated())"
   ]
  },
  {
   "cell_type": "code",
   "execution_count": 14,
   "id": "c301b8d7",
   "metadata": {},
   "outputs": [],
   "source": [
    "# Splitting\n",
    "\n",
    "x = train_data.iloc[:,:-1]\n",
    "\n",
    "y = train_data.iloc[:,-1]"
   ]
  },
  {
   "cell_type": "markdown",
   "id": "14775917",
   "metadata": {},
   "source": [
    "Checking Skewness"
   ]
  },
  {
   "cell_type": "code",
   "execution_count": 15,
   "id": "798ae42f",
   "metadata": {},
   "outputs": [
    {
     "name": "stdout",
     "output_type": "stream",
     "text": [
      "27\n"
     ]
    }
   ],
   "source": [
    "# Checking for skewness\n",
    "\n",
    "skewed_features = [col for col in train_data.columns if train_data[col].skew() > 0.5]\n",
    "\n",
    "print(len(skewed_features))"
   ]
  },
  {
   "cell_type": "markdown",
   "id": "1cab04d4",
   "metadata": {},
   "source": [
    "Taking the log makes the data less skewed"
   ]
  },
  {
   "cell_type": "code",
   "execution_count": 16,
   "id": "c58dc35e",
   "metadata": {},
   "outputs": [],
   "source": [
    "train_data[skewed_features] = train_data[skewed_features].apply(lambda x: np.log1p(x))"
   ]
  },
  {
   "cell_type": "code",
   "execution_count": 17,
   "id": "19d6d532",
   "metadata": {},
   "outputs": [],
   "source": [
    "skewed_features.remove('SalePrice')"
   ]
  },
  {
   "cell_type": "code",
   "execution_count": 18,
   "id": "b04118d3",
   "metadata": {},
   "outputs": [],
   "source": [
    "test_data[skewed_features] = test_data[skewed_features].apply(lambda x: np.log1p(x))"
   ]
  },
  {
   "cell_type": "code",
   "execution_count": 19,
   "id": "1a2e7d28",
   "metadata": {},
   "outputs": [],
   "source": [
    "from sklearn.model_selection import train_test_split\n",
    "\n",
    "x_train, x_valid, y_train, y_valid = train_test_split(x, y, test_size = 0.2, random_state = 0)"
   ]
  },
  {
   "cell_type": "code",
   "execution_count": 20,
   "id": "129656f0",
   "metadata": {},
   "outputs": [],
   "source": [
    "# Splitting the dataset into the Training set and Test set\n",
    "\n",
    "x = train_data.drop('SalePrice', axis = 1)\n",
    "\n",
    "y = train_data['SalePrice']"
   ]
  },
  {
   "cell_type": "markdown",
   "id": "c48f584d",
   "metadata": {},
   "source": [
    "Scaling\n",
    "\n",
    "Many machine learning algorithms as Linear Regression performs better when numerical input variables are scaled to a standard range."
   ]
  },
  {
   "cell_type": "code",
   "execution_count": 21,
   "id": "06696c75",
   "metadata": {},
   "outputs": [],
   "source": [
    "# Scaling\n",
    "\n",
    "from sklearn.preprocessing import StandardScaler\n",
    "\n",
    "sc = StandardScaler()\n",
    "\n",
    "x = sc.fit_transform(x)"
   ]
  },
  {
   "cell_type": "code",
   "execution_count": 22,
   "id": "a244adce",
   "metadata": {},
   "outputs": [],
   "source": [
    "test_data = sc.transform(test_data)"
   ]
  },
  {
   "cell_type": "markdown",
   "id": "7d48c69a",
   "metadata": {},
   "source": [
    "Linear Regression"
   ]
  },
  {
   "cell_type": "code",
   "execution_count": 23,
   "id": "8df2fc46",
   "metadata": {
    "scrolled": true
   },
   "outputs": [
    {
     "data": {
      "text/plain": [
       "{'fit_time': array([1.28824759, 0.00893545, 0.0079999 , 0.0099895 , 0.00799489,\n",
       "        0.00993919, 0.00799227, 0.00899315, 0.01001   , 0.00901532]),\n",
       " 'score_time': array([0.00298142, 0.00299811, 0.00299788, 0.00299621, 0.00300479,\n",
       "        0.00299335, 0.00299811, 0.00299788, 0.0049808 , 0.00397563]),\n",
       " 'test_neg_root_mean_squared_error': array([-0.13274667, -0.11530108, -0.12065251, -0.16903296, -0.15331432,\n",
       "        -0.1284896 , -0.12339333, -0.12101456, -0.1843094 , -0.13793119]),\n",
       " 'test_neg_mean_squared_error': array([-0.01762168, -0.01329434, -0.01455703, -0.02857214, -0.02350528,\n",
       "        -0.01650958, -0.01522591, -0.01464452, -0.03396996, -0.01902501])}"
      ]
     },
     "execution_count": 23,
     "metadata": {},
     "output_type": "execute_result"
    }
   ],
   "source": [
    "# cross validation\n",
    "\n",
    "lr = LinearRegression()\n",
    "\n",
    "cv_score = cross_validate(lr, x, y,\n",
    "                          cv = 10,\n",
    "                          scoring = ['neg_root_mean_squared_error', 'neg_mean_squared_error'])\n",
    "cv_score"
   ]
  },
  {
   "cell_type": "code",
   "execution_count": 24,
   "id": "b5e63d40",
   "metadata": {},
   "outputs": [
    {
     "data": {
      "text/plain": [
       "-0.13861856201527376"
      ]
     },
     "execution_count": 24,
     "metadata": {},
     "output_type": "execute_result"
    }
   ],
   "source": [
    " cv_score['test_neg_root_mean_squared_error'].mean()"
   ]
  },
  {
   "cell_type": "code",
   "execution_count": 25,
   "id": "6f5434ef",
   "metadata": {},
   "outputs": [
    {
     "data": {
      "text/plain": [
       "<AxesSubplot:xlabel='SalePrice', ylabel='Density'>"
      ]
     },
     "execution_count": 25,
     "metadata": {},
     "output_type": "execute_result"
    },
    {
     "data": {
      "image/png": "[encoded data removed]",
      "text/plain": [
       "<Figure size 432x288 with 1 Axes>"
      ]
     },
     "metadata": {
      "needs_background": "light"
     },
     "output_type": "display_data"
    }
   ],
   "source": [
    "# Checking data skewness\n",
    "\n",
    "sns.distplot(y)"
   ]
  },
  {
   "cell_type": "markdown",
   "id": "0e017731",
   "metadata": {},
   "source": [
    "Distribution shows positive skewness"
   ]
  },
  {
   "cell_type": "code",
   "execution_count": 26,
   "id": "338fe9c0",
   "metadata": {},
   "outputs": [
    {
     "data": {
      "text/plain": [
       "LinearRegression()"
      ]
     },
     "execution_count": 26,
     "metadata": {},
     "output_type": "execute_result"
    }
   ],
   "source": [
    "from sklearn.linear_model import LinearRegression\n",
    "\n",
    "model = LinearRegression()\n",
    "\n",
    "model.fit(x, y)"
   ]
  },
  {
   "cell_type": "code",
   "execution_count": 27,
   "id": "61fca8c0",
   "metadata": {},
   "outputs": [
    {
     "data": {
      "text/plain": [
       "0.8860406993795064"
      ]
     },
     "execution_count": 27,
     "metadata": {},
     "output_type": "execute_result"
    }
   ],
   "source": [
    "model.score(x, y)"
   ]
  },
  {
   "cell_type": "code",
   "execution_count": 28,
   "id": "ad591e2f",
   "metadata": {},
   "outputs": [
    {
     "data": {
      "text/plain": [
       "array([12.26354905, 12.17866885, 12.32404922, ..., 12.28162312,\n",
       "       11.77022057, 11.8889255 ])"
      ]
     },
     "execution_count": 28,
     "metadata": {},
     "output_type": "execute_result"
    }
   ],
   "source": [
    "y_pred = model.predict(x)\n",
    "y_pred"
   ]
  },
  {
   "cell_type": "code",
   "execution_count": 29,
   "id": "e2e6fe3f",
   "metadata": {},
   "outputs": [
    {
     "data": {
      "text/plain": [
       "0.8860406993795064"
      ]
     },
     "execution_count": 29,
     "metadata": {},
     "output_type": "execute_result"
    }
   ],
   "source": [
    "r2_score(y, y_pred)"
   ]
  },
  {
   "cell_type": "code",
   "execution_count": 30,
   "id": "592eeac6",
   "metadata": {},
   "outputs": [
    {
     "data": {
      "text/plain": [
       "0.13479933233010663"
      ]
     },
     "execution_count": 30,
     "metadata": {},
     "output_type": "execute_result"
    }
   ],
   "source": [
    "mean_squared_error(y,y_pred, squared=False)"
   ]
  },
  {
   "cell_type": "code",
   "execution_count": 31,
   "id": "4d392bc2",
   "metadata": {},
   "outputs": [],
   "source": [
    "valid_pred = model.predict(x)"
   ]
  },
  {
   "cell_type": "code",
   "execution_count": 32,
   "id": "0c75ef9a",
   "metadata": {},
   "outputs": [
    {
     "data": {
      "text/plain": [
       "0.8860406993795064"
      ]
     },
     "execution_count": 32,
     "metadata": {},
     "output_type": "execute_result"
    }
   ],
   "source": [
    "r2_score(y,valid_pred)"
   ]
  },
  {
   "cell_type": "markdown",
   "id": "4c4353da",
   "metadata": {},
   "source": [
    "SGDRegressor"
   ]
  },
  {
   "cell_type": "code",
   "execution_count": 33,
   "id": "ff73aa4e",
   "metadata": {},
   "outputs": [
    {
     "data": {
      "text/plain": [
       "{'fit_time': array([1.56905746, 0.00699496, 0.0069437 , 0.0059967 , 0.00599194,\n",
       "        0.00499868, 0.00799417, 0.00699568, 0.00504136, 0.00499439]),\n",
       " 'score_time': array([0.49866986, 0.00199842, 0.00204825, 0.00194693, 0.00200176,\n",
       "        0.00099945, 0.00100017, 0.00200129, 0.00199652, 0.00200129]),\n",
       " 'test_neg_root_mean_squared_error': array([-0.13239797, -0.11462402, -0.12355682, -0.17435525, -0.15158951,\n",
       "        -0.12253643, -0.12641532, -0.12145401, -0.18990891, -0.14802093]),\n",
       " 'test_neg_mean_squared_error': array([-0.01752922, -0.01313867, -0.01526629, -0.03039975, -0.02297938,\n",
       "        -0.01501518, -0.01598083, -0.01475108, -0.0360654 , -0.0219102 ])}"
      ]
     },
     "execution_count": 33,
     "metadata": {},
     "output_type": "execute_result"
    }
   ],
   "source": [
    "# cross validation\n",
    "\n",
    "lr = SGDRegressor()\n",
    "\n",
    "cv_score = cross_validate(lr, x, y,\n",
    "                          cv = 10,\n",
    "                          scoring = ['neg_root_mean_squared_error', 'neg_mean_squared_error'])\n",
    "cv_score"
   ]
  },
  {
   "cell_type": "code",
   "execution_count": 34,
   "id": "201c5986",
   "metadata": {},
   "outputs": [
    {
     "data": {
      "text/plain": [
       "-0.14048591602677887"
      ]
     },
     "execution_count": 34,
     "metadata": {},
     "output_type": "execute_result"
    }
   ],
   "source": [
    "cv_score['test_neg_root_mean_squared_error'].mean()"
   ]
  },
  {
   "cell_type": "markdown",
   "id": "6bdf3675",
   "metadata": {},
   "source": [
    "Ridge"
   ]
  },
  {
   "cell_type": "code",
   "execution_count": 35,
   "id": "16d9d541",
   "metadata": {},
   "outputs": [
    {
     "data": {
      "text/plain": [
       "{'fit_time': array([1.34523799e+01, 8.99028778e-03, 7.99298286e-03, 3.99899483e-03,\n",
       "        2.99859047e-03, 3.99732590e-03, 4.00042534e-03, 3.99875641e-03,\n",
       "        4.99892235e-03, 3.99756432e-03]),\n",
       " 'score_time': array([0.00399423, 0.00499654, 0.00199819, 0.00299907, 0.00199676,\n",
       "        0.00199795, 0.00299478, 0.00199747, 0.00199819, 0.00199604]),\n",
       " 'test_neg_root_mean_squared_error': array([-0.13266706, -0.11530908, -0.12064604, -0.16908431, -0.1532324 ,\n",
       "        -0.12823921, -0.12336189, -0.12098925, -0.18442938, -0.13794213]),\n",
       " 'test_neg_mean_squared_error': array([-0.01760055, -0.01329618, -0.01455547, -0.0285895 , -0.02348017,\n",
       "        -0.01644529, -0.01521816, -0.0146384 , -0.0340142 , -0.01902803])}"
      ]
     },
     "execution_count": 35,
     "metadata": {},
     "output_type": "execute_result"
    }
   ],
   "source": [
    "# cross validation\n",
    "\n",
    "lr = Ridge()\n",
    "\n",
    "cv_score = cross_validate(lr, x, y,\n",
    "                          cv = 10,\n",
    "                          scoring = ['neg_root_mean_squared_error', 'neg_mean_squared_error'])\n",
    "cv_score"
   ]
  },
  {
   "cell_type": "code",
   "execution_count": 36,
   "id": "0685242f",
   "metadata": {},
   "outputs": [
    {
     "data": {
      "text/plain": [
       "-0.13859007384736352"
      ]
     },
     "execution_count": 36,
     "metadata": {},
     "output_type": "execute_result"
    }
   ],
   "source": [
    "cv_score['test_neg_root_mean_squared_error'].mean()"
   ]
  },
  {
   "cell_type": "markdown",
   "id": "e59d5349",
   "metadata": {},
   "source": [
    "Lasso before regularization"
   ]
  },
  {
   "cell_type": "code",
   "execution_count": 37,
   "id": "577da4d5",
   "metadata": {},
   "outputs": [
    {
     "data": {
      "text/plain": [
       "{'fit_time': array([0.80348563, 0.00799847, 0.00399327, 0.00399852, 0.00299883,\n",
       "        0.00299883, 0.0019989 , 0.00299835, 0.00299668, 0.00199938]),\n",
       " 'score_time': array([0.00499988, 0.00499535, 0.00199604, 0.00099945, 0.00099969,\n",
       "        0.00099969, 0.00199866, 0.00200033, 0.00100017, 0.0019989 ]),\n",
       " 'test_neg_root_mean_squared_error': array([-0.37870216, -0.39535428, -0.42447954, -0.42578684, -0.45436008,\n",
       "        -0.3600604 , -0.39006828, -0.37468495, -0.3797284 , -0.40314914]),\n",
       " 'test_neg_mean_squared_error': array([-0.14341533, -0.15630501, -0.18018288, -0.18129443, -0.20644308,\n",
       "        -0.12964349, -0.15215326, -0.14038881, -0.14419366, -0.16252923])}"
      ]
     },
     "execution_count": 37,
     "metadata": {},
     "output_type": "execute_result"
    }
   ],
   "source": [
    "lr = Lasso()\n",
    "\n",
    "cv_score = cross_validate(lr, x, y,\n",
    "                          cv = 10,\n",
    "                          scoring = ['neg_root_mean_squared_error', 'neg_mean_squared_error'])\n",
    "cv_score"
   ]
  },
  {
   "cell_type": "code",
   "execution_count": 38,
   "id": "852ae9d9",
   "metadata": {},
   "outputs": [
    {
     "data": {
      "text/plain": [
       "-0.3986374079901046"
      ]
     },
     "execution_count": 38,
     "metadata": {},
     "output_type": "execute_result"
    }
   ],
   "source": [
    "cv_score['test_neg_root_mean_squared_error'].mean()"
   ]
  },
  {
   "cell_type": "markdown",
   "id": "98790ccb",
   "metadata": {},
   "source": [
    "Lasso after regularization"
   ]
  },
  {
   "cell_type": "code",
   "execution_count": 39,
   "id": "a18726de",
   "metadata": {},
   "outputs": [
    {
     "data": {
      "text/plain": [
       "{'fit_time': array([0.21785474, 0.04496312, 0.0459671 , 0.03397942, 0.03097773,\n",
       "        0.03597689, 0.0319798 , 0.03597903, 0.01799107, 0.02997994]),\n",
       " 'score_time': array([0.00400329, 0.00400257, 0.00399709, 0.00299883, 0.00299764,\n",
       "        0.00299835, 0.00299883, 0.00299478, 0.00399709, 0.00299811]),\n",
       " 'test_neg_root_mean_squared_error': array([-0.13267433, -0.11436505, -0.12075392, -0.16850088, -0.1536438 ,\n",
       "        -0.1273189 , -0.12355779, -0.1210913 , -0.18355859, -0.13652246]),\n",
       " 'test_neg_mean_squared_error': array([-0.01760248, -0.01307937, -0.01458151, -0.02839255, -0.02360642,\n",
       "        -0.0162101 , -0.01526653, -0.0146631 , -0.03369376, -0.01863838])}"
      ]
     },
     "execution_count": 39,
     "metadata": {},
     "output_type": "execute_result"
    }
   ],
   "source": [
    "lr = Lasso(alpha = 0.001)\n",
    "\n",
    "cv_score = cross_validate(lr, x, y,\n",
    "                          cv = 10,\n",
    "                          scoring = ['neg_root_mean_squared_error', 'neg_mean_squared_error'])\n",
    "cv_score"
   ]
  },
  {
   "cell_type": "code",
   "execution_count": 40,
   "id": "4f66a2a6",
   "metadata": {},
   "outputs": [
    {
     "data": {
      "text/plain": [
       "-0.13819870387313649"
      ]
     },
     "execution_count": 40,
     "metadata": {},
     "output_type": "execute_result"
    }
   ],
   "source": [
    "cv_score['test_neg_root_mean_squared_error'].mean()"
   ]
  },
  {
   "cell_type": "markdown",
   "id": "26660cf3",
   "metadata": {},
   "source": [
    "ElasticNet"
   ]
  },
  {
   "cell_type": "code",
   "execution_count": 41,
   "id": "4e8789ba",
   "metadata": {},
   "outputs": [
    {
     "data": {
      "text/plain": [
       "{'fit_time': array([0.01299047, 0.00799346, 0.00799537, 0.008991  , 0.00899744,\n",
       "        0.00899267, 0.00699544, 0.00599766, 0.00699425, 0.00499773]),\n",
       " 'score_time': array([0.00499725, 0.00399661, 0.00500083, 0.00699496, 0.00699806,\n",
       "        0.00299668, 0.00299883, 0.00399709, 0.00299764, 0.00299716]),\n",
       " 'test_neg_root_mean_squared_error': array([-0.37870216, -0.39535428, -0.42447954, -0.42578684, -0.45436008,\n",
       "        -0.3600604 , -0.39006828, -0.37468495, -0.3797284 , -0.40314914]),\n",
       " 'test_neg_mean_squared_error': array([-0.14341533, -0.15630501, -0.18018288, -0.18129443, -0.20644308,\n",
       "        -0.12964349, -0.15215326, -0.14038881, -0.14419366, -0.16252923])}"
      ]
     },
     "execution_count": 41,
     "metadata": {},
     "output_type": "execute_result"
    }
   ],
   "source": [
    "#cross validation\n",
    "\n",
    "lr = ElasticNet()\n",
    "\n",
    "cv_score = cross_validate(lr, x, y,\n",
    "                          cv = 10,\n",
    "                          scoring = ['neg_root_mean_squared_error', 'neg_mean_squared_error'])\n",
    "cv_score"
   ]
  },
  {
   "cell_type": "code",
   "execution_count": 42,
   "id": "aec14795",
   "metadata": {},
   "outputs": [
    {
     "data": {
      "text/plain": [
       "-0.3986374079901046"
      ]
     },
     "execution_count": 42,
     "metadata": {},
     "output_type": "execute_result"
    }
   ],
   "source": [
    "cv_score['test_neg_root_mean_squared_error'].mean()"
   ]
  },
  {
   "cell_type": "markdown",
   "id": "05e77909",
   "metadata": {},
   "source": [
    "Kernel SVM (Linear, Poly, RBF)"
   ]
  },
  {
   "cell_type": "code",
   "execution_count": 43,
   "id": "25035e62",
   "metadata": {},
   "outputs": [],
   "source": [
    "from sklearn.svm import SVR"
   ]
  },
  {
   "cell_type": "code",
   "execution_count": 44,
   "id": "7075adbb",
   "metadata": {},
   "outputs": [
    {
     "data": {
      "text/plain": [
       "{'fit_time': array([2.63028979, 2.48047066, 4.44414306, 5.95514083, 5.76328754,\n",
       "        5.0417788 , 5.67436075, 5.09873438, 4.79191995, 4.63004827]),\n",
       " 'score_time': array([0.08098245, 0.00897384, 0.01398778, 0.0169754 , 0.01599169,\n",
       "        0.01796961, 0.01498938, 0.01499152, 0.01499009, 0.01397109]),\n",
       " 'test_neg_root_mean_squared_error': array([-0.13230056, -0.11271437, -0.1184588 , -0.16924152, -0.15388792,\n",
       "        -0.12462345, -0.12358789, -0.12131419, -0.1882805 , -0.1365741 ]),\n",
       " 'test_neg_mean_squared_error': array([-0.01750344, -0.01270453, -0.01403249, -0.02864269, -0.02368149,\n",
       "        -0.015531  , -0.01527397, -0.01471713, -0.03544955, -0.01865249])}"
      ]
     },
     "execution_count": 44,
     "metadata": {},
     "output_type": "execute_result"
    }
   ],
   "source": [
    "#Linear kernel\n",
    "\n",
    "svr_linear_model = SVR(kernel = 'linear' , C =1)\n",
    "\n",
    "\n",
    "cv_score = cross_validate(svr_linear_model, x, y,\n",
    "                          cv = 10,\n",
    "                          scoring = ['neg_root_mean_squared_error', 'neg_mean_squared_error'])\n",
    "cv_score"
   ]
  },
  {
   "cell_type": "code",
   "execution_count": 45,
   "id": "9ff2dced",
   "metadata": {},
   "outputs": [
    {
     "data": {
      "text/plain": [
       "-0.13809832958586363"
      ]
     },
     "execution_count": 45,
     "metadata": {},
     "output_type": "execute_result"
    }
   ],
   "source": [
    "cv_score['test_neg_root_mean_squared_error'].mean()"
   ]
  },
  {
   "cell_type": "code",
   "execution_count": 46,
   "id": "d404c453",
   "metadata": {},
   "outputs": [
    {
     "data": {
      "text/plain": [
       "{'fit_time': array([0.38381004, 0.35371661, 0.42172885, 0.35777068, 0.45568705,\n",
       "        0.50467753, 0.45470762, 0.39574933, 0.37981296, 0.36271763]),\n",
       " 'score_time': array([0.01598597, 0.01598978, 0.01998639, 0.02200413, 0.02398896,\n",
       "        0.02398419, 0.0199883 , 0.02597809, 0.01598978, 0.01898932]),\n",
       " 'test_neg_root_mean_squared_error': array([-0.14710798, -0.13659435, -0.15084523, -0.25227902, -0.16629964,\n",
       "        -0.14930323, -0.13923008, -0.15725648, -0.21145771, -0.1590957 ]),\n",
       " 'test_neg_mean_squared_error': array([-0.02164076, -0.01865802, -0.02275428, -0.06364471, -0.02765557,\n",
       "        -0.02229145, -0.01938501, -0.0247296 , -0.04471436, -0.02531144])}"
      ]
     },
     "execution_count": 46,
     "metadata": {},
     "output_type": "execute_result"
    }
   ],
   "source": [
    "#poly\n",
    "\n",
    "svr_linear_model = SVR(kernel = 'poly' , C =1)\n",
    "\n",
    "\n",
    "cv_score = cross_validate(svr_linear_model, x, y,\n",
    "                          cv = 10,\n",
    "                          scoring = ['neg_root_mean_squared_error', 'neg_mean_squared_error'])\n",
    "cv_score"
   ]
  },
  {
   "cell_type": "code",
   "execution_count": 47,
   "id": "7bc66732",
   "metadata": {},
   "outputs": [
    {
     "data": {
      "text/plain": [
       "-0.16694694197030996"
      ]
     },
     "execution_count": 47,
     "metadata": {},
     "output_type": "execute_result"
    }
   ],
   "source": [
    " cv_score['test_neg_root_mean_squared_error'].mean()"
   ]
  },
  {
   "cell_type": "code",
   "execution_count": 48,
   "id": "a0a118ac",
   "metadata": {},
   "outputs": [
    {
     "data": {
      "text/plain": [
       "{'fit_time': array([0.14395404, 0.13292885, 0.13986063, 0.13391352, 0.13491225,\n",
       "        0.13791156, 0.14695644, 0.15584445, 0.83346939, 0.13689089]),\n",
       " 'score_time': array([0.01800203, 0.01897764, 0.01698971, 0.01699018, 0.01798964,\n",
       "        0.0179894 , 0.01898813, 0.02098799, 0.02602673, 0.01799703]),\n",
       " 'test_neg_root_mean_squared_error': array([-0.13431443, -0.15425801, -0.14425307, -0.19892333, -0.18491463,\n",
       "        -0.12983798, -0.14684925, -0.12435804, -0.17429905, -0.16296921]),\n",
       " 'test_neg_mean_squared_error': array([-0.01804037, -0.02379553, -0.02080895, -0.03957049, -0.03419342,\n",
       "        -0.0168579 , -0.0215647 , -0.01546492, -0.03038016, -0.02655896])}"
      ]
     },
     "execution_count": 48,
     "metadata": {},
     "output_type": "execute_result"
    }
   ],
   "source": [
    "#rbf\n",
    "\n",
    "svr_linear_model = SVR(kernel = 'rbf' , C =1)\n",
    "\n",
    "cv_score = cross_validate(svr_linear_model, x, y,\n",
    "                          cv = 10,\n",
    "                          scoring = ['neg_root_mean_squared_error', 'neg_mean_squared_error'])\n",
    "cv_score"
   ]
  },
  {
   "cell_type": "code",
   "execution_count": 49,
   "id": "87851d83",
   "metadata": {},
   "outputs": [
    {
     "data": {
      "text/plain": [
       "-0.15549769962290372"
      ]
     },
     "execution_count": 49,
     "metadata": {},
     "output_type": "execute_result"
    }
   ],
   "source": [
    "cv_score['test_neg_root_mean_squared_error'].mean()"
   ]
  },
  {
   "cell_type": "code",
   "execution_count": 50,
   "id": "ecbd40c9",
   "metadata": {},
   "outputs": [
    {
     "data": {
      "text/plain": [
       "SVR(C=1)"
      ]
     },
     "execution_count": 50,
     "metadata": {},
     "output_type": "execute_result"
    }
   ],
   "source": [
    "svr_linear_model = SVR(kernel = 'rbf' , C =1)\n",
    "\n",
    "svr_linear_model.fit(x, y)"
   ]
  },
  {
   "cell_type": "markdown",
   "id": "b70c77ac",
   "metadata": {},
   "source": [
    "Eventually, fitting the data to the chosen ML model 'lasso' to get final results"
   ]
  },
  {
   "cell_type": "code",
   "execution_count": 51,
   "id": "6d49429c",
   "metadata": {},
   "outputs": [
    {
     "data": {
      "text/plain": [
       "Lasso(alpha=0.001)"
      ]
     },
     "execution_count": 51,
     "metadata": {},
     "output_type": "execute_result"
    }
   ],
   "source": [
    "LR = Lasso(alpha = 0.001)\n",
    "\n",
    "LR.fit(x, y)"
   ]
  },
  {
   "cell_type": "code",
   "execution_count": 52,
   "id": "99dd764c",
   "metadata": {},
   "outputs": [
    {
     "data": {
      "text/plain": [
       "array([124425.98448813, 161387.91442933, 174320.79709768, ...,\n",
       "       170215.57103686, 136894.85339343, 227639.80968725])"
      ]
     },
     "execution_count": 52,
     "metadata": {},
     "output_type": "execute_result"
    }
   ],
   "source": [
    "y_pred = np.expm1(svr_linear_model.predict(test_data))\n",
    "y_pred"
   ]
  },
  {
   "cell_type": "code",
   "execution_count": 53,
   "id": "f11b3998",
   "metadata": {},
   "outputs": [],
   "source": [
    "submission = pd.DataFrame({'Id': range(1461, 1461 + len(test_data)), 'SalePrice': y_pred})"
   ]
  },
  {
   "cell_type": "code",
   "execution_count": 54,
   "id": "13fa6c6e",
   "metadata": {},
   "outputs": [],
   "source": [
    "submission.to_csv('submission.csv', index = False)"
   ]
  }
 ],
 "metadata": {
  "kernelspec": {
   "display_name": "Python 3",
   "language": "python",
   "name": "python3"
  },
  "language_info": {
   "codemirror_mode": {
    "name": "ipython",
    "version": 3
   },
   "file_extension": ".py",
   "mimetype": "text/x-python",
   "name": "python",
   "nbconvert_exporter": "python",
   "pygments_lexer": "ipython3",
   "version": "3.8.8"
  }
 },
 "nbformat": 4,
 "nbformat_minor": 5
}
