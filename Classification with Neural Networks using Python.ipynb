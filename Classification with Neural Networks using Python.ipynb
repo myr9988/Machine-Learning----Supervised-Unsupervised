{
 "cells": [
  {
   "cell_type": "markdown",
   "id": "d1975f95",
   "metadata": {},
   "source": [
    "In machine learning, classification means categorizing the known classes, For example, categorizing the most profitable and non-interested customers from a dataset for advertising a particular product."
   ]
  },
  {
   "cell_type": "markdown",
   "id": "ed8cabac",
   "metadata": {},
   "source": [
    "Classification is the task of categorizing the known classes based on their features. In most classification problems, machine learning algorithms will do the job, but while classifying a large dataset of images, you will need to use a neural network."
   ]
  },
  {
   "cell_type": "markdown",
   "id": "1c080181",
   "metadata": {},
   "source": [
    "Now let’s come back to classification with neural networks. In this section, I will take you through the task of image classification with neural network using Python. Here, I will be using the famous MNIST fashion dataset, which contains 70,000 clothing fashion images. Here our task is to train an image classification model with neural networks."
   ]
  },
  {
   "cell_type": "markdown",
   "id": "d30f7f78",
   "metadata": {},
   "source": [
    "I will start this task by importing the necessary Python libraries and the dataset:"
   ]
  },
  {
   "cell_type": "code",
   "execution_count": 1,
   "id": "23098e75",
   "metadata": {},
   "outputs": [
    {
     "name": "stdout",
     "output_type": "stream",
     "text": [
      "Downloading data from https://storage.googleapis.com/tensorflow/tf-keras-datasets/train-labels-idx1-ubyte.gz\n",
      "32768/29515 [=================================] - 0s 0us/step\n",
      "40960/29515 [=========================================] - 0s 0us/step\n",
      "Downloading data from https://storage.googleapis.com/tensorflow/tf-keras-datasets/train-images-idx3-ubyte.gz\n",
      "26427392/26421880 [==============================] - 11s 0us/step\n",
      "26435584/26421880 [==============================] - 11s 0us/step\n",
      "Downloading data from https://storage.googleapis.com/tensorflow/tf-keras-datasets/t10k-labels-idx1-ubyte.gz\n",
      "16384/5148 [===============================================================================================] - 0s 0s/step\n",
      "Downloading data from https://storage.googleapis.com/tensorflow/tf-keras-datasets/t10k-images-idx3-ubyte.gz\n",
      "4423680/4422102 [==============================] - 2s 0us/step\n",
      "4431872/4422102 [==============================] - 2s 0us/step\n"
     ]
    }
   ],
   "source": [
    "import tensorflow as tf\n",
    "from tensorflow import keras\n",
    "import numpy as np\n",
    "import matplotlib.pyplot as plt\n",
    "fashion = keras.datasets.fashion_mnist\n",
    "(xtrain, ytrain), (xtest, ytest) = fashion.load_data()"
   ]
  },
  {
   "cell_type": "markdown",
   "id": "472cd837",
   "metadata": {},
   "source": [
    "Before moving forward, let’s have a quick look at one of the samples of the images from the dataset:"
   ]
  },
  {
   "cell_type": "code",
   "execution_count": 2,
   "id": "076cf838",
   "metadata": {},
   "outputs": [
    {
     "name": "stdout",
     "output_type": "stream",
     "text": [
      "Image Label : 5\n"
     ]
    },
    {
     "data": {
      "text/plain": [
       "<matplotlib.image.AxesImage at 0x22c1bd71070>"
      ]
     },
     "execution_count": 2,
     "metadata": {},
     "output_type": "execute_result"
    },
    {
     "data": {
      "image/png": "[encoded data removed]",
      "text/plain": [
       "<Figure size 432x288 with 1 Axes>"
      ]
     },
     "metadata": {
      "needs_background": "light"
     },
     "output_type": "display_data"
    }
   ],
   "source": [
    "imgIndex = 9\n",
    "image = xtrain[imgIndex]\n",
    "print(\"Image Label :\",ytrain[imgIndex])\n",
    "plt.imshow(image)"
   ]
  },
  {
   "cell_type": "markdown",
   "id": "cff92bb2",
   "metadata": {},
   "source": [
    "Now let’s have a look at the shape of both the training and test data:"
   ]
  },
  {
   "cell_type": "code",
   "execution_count": 3,
   "id": "e5e9a05f",
   "metadata": {},
   "outputs": [
    {
     "name": "stdout",
     "output_type": "stream",
     "text": [
      "(60000, 28, 28)\n",
      "(10000, 28, 28)\n"
     ]
    }
   ],
   "source": [
    "print(xtrain.shape)\n",
    "print(xtest.shape)"
   ]
  },
  {
   "cell_type": "markdown",
   "id": "d52b85db",
   "metadata": {},
   "source": [
    "## Building a Neural Network Architecture"
   ]
  },
  {
   "cell_type": "markdown",
   "id": "9dffa1a9",
   "metadata": {},
   "source": [
    "Now I will build a neural network architecture with two hidden layers:"
   ]
  },
  {
   "cell_type": "code",
   "execution_count": 4,
   "id": "d853bf0d",
   "metadata": {},
   "outputs": [
    {
     "name": "stdout",
     "output_type": "stream",
     "text": [
      "Model: \"sequential\"\n",
      "_________________________________________________________________\n",
      " Layer (type)                Output Shape              Param #   \n",
      "=================================================================\n",
      " flatten (Flatten)           (None, 784)               0         \n",
      "                                                                 \n",
      " dense (Dense)               (None, 300)               235500    \n",
      "                                                                 \n",
      " dense_1 (Dense)             (None, 100)               30100     \n",
      "                                                                 \n",
      " dense_2 (Dense)             (None, 10)                1010      \n",
      "                                                                 \n",
      "=================================================================\n",
      "Total params: 266,610\n",
      "Trainable params: 266,610\n",
      "Non-trainable params: 0\n",
      "_________________________________________________________________\n",
      "None\n"
     ]
    }
   ],
   "source": [
    "model = keras.models.Sequential([\n",
    "    keras.layers.Flatten(input_shape=[28, 28]),\n",
    "    keras.layers.Dense(300, activation=\"relu\"),\n",
    "    keras.layers.Dense(100, activation=\"relu\"),\n",
    "    keras.layers.Dense(10, activation=\"softmax\")\n",
    "])\n",
    "print(model.summary())"
   ]
  },
  {
   "cell_type": "markdown",
   "id": "3b60a8b6",
   "metadata": {},
   "source": [
    "Before training our model, I will split the training data into training and validation sets:"
   ]
  },
  {
   "cell_type": "code",
   "execution_count": 5,
   "id": "c448d29d",
   "metadata": {},
   "outputs": [],
   "source": [
    "xvalid, xtrain = xtrain[:5000]/255.0, xtrain[5000:]/255.0\n",
    "yvalid, ytrain = ytrain[:5000], ytrain[5000:]"
   ]
  },
  {
   "cell_type": "markdown",
   "id": "bfda4b81",
   "metadata": {},
   "source": [
    "## Training a Classification Model with Neural Networks"
   ]
  },
  {
   "cell_type": "markdown",
   "id": "183071d6",
   "metadata": {},
   "source": [
    "Now here’s how we can train a neural network for the task of image classification:"
   ]
  },
  {
   "cell_type": "code",
   "execution_count": 6,
   "id": "6824234e",
   "metadata": {},
   "outputs": [
    {
     "name": "stdout",
     "output_type": "stream",
     "text": [
      "Epoch 1/30\n",
      "1719/1719 [==============================] - 30s 17ms/step - loss: 0.7151 - accuracy: 0.7614 - val_loss: 0.5358 - val_accuracy: 0.8186\n",
      "Epoch 2/30\n",
      "1719/1719 [==============================] - 28s 16ms/step - loss: 0.4910 - accuracy: 0.8281 - val_loss: 0.5059 - val_accuracy: 0.8262\n",
      "Epoch 3/30\n",
      "1719/1719 [==============================] - 30s 17ms/step - loss: 0.4448 - accuracy: 0.8431 - val_loss: 0.4183 - val_accuracy: 0.8568\n",
      "Epoch 4/30\n",
      "1719/1719 [==============================] - 29s 17ms/step - loss: 0.4164 - accuracy: 0.8533 - val_loss: 0.4079 - val_accuracy: 0.8628\n",
      "Epoch 5/30\n",
      "1719/1719 [==============================] - 29s 17ms/step - loss: 0.3961 - accuracy: 0.8601 - val_loss: 0.4207 - val_accuracy: 0.8582\n",
      "Epoch 6/30\n",
      "1719/1719 [==============================] - 27s 16ms/step - loss: 0.3817 - accuracy: 0.8645 - val_loss: 0.3727 - val_accuracy: 0.8692\n",
      "Epoch 7/30\n",
      "1719/1719 [==============================] - 30s 17ms/step - loss: 0.3672 - accuracy: 0.8700 - val_loss: 0.3649 - val_accuracy: 0.8734\n",
      "Epoch 8/30\n",
      "1719/1719 [==============================] - 38s 22ms/step - loss: 0.3555 - accuracy: 0.8739 - val_loss: 0.3711 - val_accuracy: 0.8722\n",
      "Epoch 9/30\n",
      "1719/1719 [==============================] - 55s 32ms/step - loss: 0.3442 - accuracy: 0.8791 - val_loss: 0.3481 - val_accuracy: 0.8790\n",
      "Epoch 10/30\n",
      "1719/1719 [==============================] - 48s 28ms/step - loss: 0.3366 - accuracy: 0.8807 - val_loss: 0.3570 - val_accuracy: 0.8728\n",
      "Epoch 11/30\n",
      "1719/1719 [==============================] - 43s 25ms/step - loss: 0.3262 - accuracy: 0.8841 - val_loss: 0.3451 - val_accuracy: 0.8770\n",
      "Epoch 12/30\n",
      "1719/1719 [==============================] - 36s 21ms/step - loss: 0.3183 - accuracy: 0.8863 - val_loss: 0.3452 - val_accuracy: 0.8772\n",
      "Epoch 13/30\n",
      "1719/1719 [==============================] - 41s 24ms/step - loss: 0.3124 - accuracy: 0.8879 - val_loss: 0.3332 - val_accuracy: 0.8816\n",
      "Epoch 14/30\n",
      "1719/1719 [==============================] - 50s 29ms/step - loss: 0.3039 - accuracy: 0.8916 - val_loss: 0.3364 - val_accuracy: 0.8792\n",
      "Epoch 15/30\n",
      "1719/1719 [==============================] - 44s 25ms/step - loss: 0.2972 - accuracy: 0.8937 - val_loss: 0.3185 - val_accuracy: 0.8866\n",
      "Epoch 16/30\n",
      "1719/1719 [==============================] - 40s 23ms/step - loss: 0.2914 - accuracy: 0.8959 - val_loss: 0.3218 - val_accuracy: 0.8874\n",
      "Epoch 17/30\n",
      "1719/1719 [==============================] - 45s 26ms/step - loss: 0.2849 - accuracy: 0.8970 - val_loss: 0.3163 - val_accuracy: 0.8852\n",
      "Epoch 18/30\n",
      "1719/1719 [==============================] - 42s 25ms/step - loss: 0.2802 - accuracy: 0.8997 - val_loss: 0.3086 - val_accuracy: 0.8920\n",
      "Epoch 19/30\n",
      "1719/1719 [==============================] - 46s 27ms/step - loss: 0.2747 - accuracy: 0.9007 - val_loss: 0.3154 - val_accuracy: 0.8886\n",
      "Epoch 20/30\n",
      "1719/1719 [==============================] - 47s 27ms/step - loss: 0.2696 - accuracy: 0.9029 - val_loss: 0.3043 - val_accuracy: 0.8902\n",
      "Epoch 21/30\n",
      "1719/1719 [==============================] - 63s 37ms/step - loss: 0.2649 - accuracy: 0.9046 - val_loss: 0.2962 - val_accuracy: 0.8906\n",
      "Epoch 22/30\n",
      "1719/1719 [==============================] - 47s 27ms/step - loss: 0.2603 - accuracy: 0.9069 - val_loss: 0.2967 - val_accuracy: 0.8930\n",
      "Epoch 23/30\n",
      "1719/1719 [==============================] - 44s 26ms/step - loss: 0.2548 - accuracy: 0.9078 - val_loss: 0.3086 - val_accuracy: 0.8892\n",
      "Epoch 24/30\n",
      "1719/1719 [==============================] - 42s 24ms/step - loss: 0.2515 - accuracy: 0.9103 - val_loss: 0.2912 - val_accuracy: 0.8964\n",
      "Epoch 25/30\n",
      "1719/1719 [==============================] - 42s 24ms/step - loss: 0.2467 - accuracy: 0.9112 - val_loss: 0.3086 - val_accuracy: 0.8886\n",
      "Epoch 26/30\n",
      "1719/1719 [==============================] - 48s 28ms/step - loss: 0.2418 - accuracy: 0.9129 - val_loss: 0.3145 - val_accuracy: 0.8866\n",
      "Epoch 27/30\n",
      "1719/1719 [==============================] - 41s 24ms/step - loss: 0.2381 - accuracy: 0.9145 - val_loss: 0.3087 - val_accuracy: 0.8826\n",
      "Epoch 28/30\n",
      "1719/1719 [==============================] - 45s 26ms/step - loss: 0.2352 - accuracy: 0.9159 - val_loss: 0.2936 - val_accuracy: 0.8940\n",
      "Epoch 29/30\n",
      "1719/1719 [==============================] - 45s 26ms/step - loss: 0.2309 - accuracy: 0.9178 - val_loss: 0.2970 - val_accuracy: 0.8904\n",
      "Epoch 30/30\n",
      "1719/1719 [==============================] - 45s 26ms/step - loss: 0.2273 - accuracy: 0.9183 - val_loss: 0.3244 - val_accuracy: 0.8836\n"
     ]
    }
   ],
   "source": [
    "model.compile(loss=\"sparse_categorical_crossentropy\",\n",
    "              optimizer=\"sgd\",\n",
    "              metrics=[\"accuracy\"])\n",
    "history = model.fit(xtrain, ytrain, epochs=30, \n",
    "                    validation_data=(xvalid, yvalid))"
   ]
  },
  {
   "cell_type": "markdown",
   "id": "4ddb3934",
   "metadata": {},
   "source": [
    "Now let’s have a look at the predictions:"
   ]
  },
  {
   "cell_type": "code",
   "execution_count": 7,
   "id": "90329c7f",
   "metadata": {},
   "outputs": [
    {
     "name": "stdout",
     "output_type": "stream",
     "text": [
      "[[0.000000e+00 0.000000e+00 0.000000e+00 0.000000e+00 0.000000e+00\n",
      "  0.000000e+00 0.000000e+00 0.000000e+00 0.000000e+00 1.000000e+00]\n",
      " [0.000000e+00 0.000000e+00 1.000000e+00 0.000000e+00 0.000000e+00\n",
      "  0.000000e+00 0.000000e+00 0.000000e+00 0.000000e+00 0.000000e+00]\n",
      " [0.000000e+00 1.000000e+00 0.000000e+00 0.000000e+00 0.000000e+00\n",
      "  0.000000e+00 0.000000e+00 0.000000e+00 0.000000e+00 0.000000e+00]\n",
      " [0.000000e+00 1.000000e+00 0.000000e+00 0.000000e+00 0.000000e+00\n",
      "  0.000000e+00 0.000000e+00 0.000000e+00 0.000000e+00 0.000000e+00]\n",
      " [2.806236e-32 0.000000e+00 0.000000e+00 0.000000e+00 0.000000e+00\n",
      "  0.000000e+00 1.000000e+00 0.000000e+00 0.000000e+00 0.000000e+00]]\n"
     ]
    }
   ],
   "source": [
    "new = xtest[:5]\n",
    "predictions = model.predict(new)\n",
    "print(predictions)"
   ]
  },
  {
   "cell_type": "markdown",
   "id": "294e22d4",
   "metadata": {},
   "source": [
    "Here is how we can look at the predicted classes:"
   ]
  },
  {
   "cell_type": "code",
   "execution_count": 8,
   "id": "901139d0",
   "metadata": {},
   "outputs": [
    {
     "name": "stdout",
     "output_type": "stream",
     "text": [
      "[9 2 1 1 6]\n"
     ]
    }
   ],
   "source": [
    "classes = np.argmax(predictions, axis=1)\n",
    "print(classes)"
   ]
  },
  {
   "cell_type": "markdown",
   "id": "baa872e3",
   "metadata": {},
   "source": [
    "## Summary"
   ]
  },
  {
   "cell_type": "markdown",
   "id": "5fc29475",
   "metadata": {},
   "source": [
    "Classification is the task of categorizing the known classes based on their features. In most classification problems, machine learning algorithms will do the job, but while classifying a large dataset of images, you will need to use a neural network."
   ]
  }
 ],
 "metadata": {
  "kernelspec": {
   "display_name": "Python 3 (ipykernel)",
   "language": "python",
   "name": "python3"
  },
  "language_info": {
   "codemirror_mode": {
    "name": "ipython",
    "version": 3
   },
   "file_extension": ".py",
   "mimetype": "text/x-python",
   "name": "python",
   "nbconvert_exporter": "python",
   "pygments_lexer": "ipython3",
   "version": "3.8.8"
  }
 },
 "nbformat": 4,
 "nbformat_minor": 5
}
