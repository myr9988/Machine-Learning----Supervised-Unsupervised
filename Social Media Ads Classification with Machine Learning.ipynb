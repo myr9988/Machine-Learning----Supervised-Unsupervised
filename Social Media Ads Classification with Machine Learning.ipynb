{
 "cells": [
  {
   "cell_type": "markdown",
   "id": "c4096ba3",
   "metadata": {},
   "source": [
    "The classification of social media ads is all about analyzing the ads for classifying whether your target audience will buy the product or not. It’s a great use case for data science in marketing. "
   ]
  },
  {
   "cell_type": "markdown",
   "id": "5dd972cd",
   "metadata": {},
   "source": [
    "## Social Media Ads Classification"
   ]
  },
  {
   "cell_type": "markdown",
   "id": "24d635da",
   "metadata": {},
   "source": [
    "Classifying social media ads means analyzing your social media ads for finding the most profitable customers for your product who are more likely to buy the product. Sometimes the product you are offering is not suitable for all people when it comes to age and income. For example, a person between the ages of 20 and 25 may like to spend more on smartphone covers than a person between the ages of 40 and 45.\n",
    "\n",
    "Likewise, a high-income person can afford to spend more on luxury goods than a low-income person. So this is how a business can determine whether a person will buy their product or not by classifying their social media ads."
   ]
  },
  {
   "cell_type": "markdown",
   "id": "376eda02",
   "metadata": {},
   "source": [
    "## Social Media Ads Classification using Python"
   ]
  },
  {
   "cell_type": "markdown",
   "id": "b3d276ac",
   "metadata": {},
   "source": [
    "The dataset I am using for the task of Social Media Ads Classification is downloaded from Kaggle. It contains data about a product’s social media advertising campaign. It contains features like:\n",
    "\n",
    "- the age of the target audience\n",
    "- the estimated salary of the target audience\n",
    "- and whether the target audience has purchased the product or not\n",
    "\n",
    "So let’s import the dataset and necessary Python libraries to start this task:"
   ]
  },
  {
   "cell_type": "code",
   "execution_count": 1,
   "id": "002067b8",
   "metadata": {},
   "outputs": [
    {
     "name": "stdout",
     "output_type": "stream",
     "text": [
      "   Age  EstimatedSalary  Purchased\n",
      "0   19            19000          0\n",
      "1   35            20000          0\n",
      "2   26            43000          0\n",
      "3   27            57000          0\n",
      "4   19            76000          0\n"
     ]
    }
   ],
   "source": [
    "import numpy\n",
    "import pandas as pd\n",
    "import matplotlib.pyplot as plt\n",
    "import seaborn as sns\n",
    "import numpy as np\n",
    "from sklearn.model_selection import train_test_split\n",
    "from sklearn.tree import DecisionTreeClassifier\n",
    "from sklearn.metrics import classification_report\n",
    "\n",
    "data = pd.read_csv(\"https://raw.githubusercontent.com/amankharwal/Website-data/master/social.csv\")\n",
    "print(data.head())"
   ]
  },
  {
   "cell_type": "markdown",
   "id": "4762e68a",
   "metadata": {},
   "source": [
    "Now let’s take a look at some of the insights from the data to see if we need to make any changes to the dataset:"
   ]
  },
  {
   "cell_type": "code",
   "execution_count": 2,
   "id": "cfe6a9b0",
   "metadata": {},
   "outputs": [
    {
     "name": "stdout",
     "output_type": "stream",
     "text": [
      "              Age  EstimatedSalary   Purchased\n",
      "count  400.000000       400.000000  400.000000\n",
      "mean    37.655000     69742.500000    0.357500\n",
      "std     10.482877     34096.960282    0.479864\n",
      "min     18.000000     15000.000000    0.000000\n",
      "25%     29.750000     43000.000000    0.000000\n",
      "50%     37.000000     70000.000000    0.000000\n",
      "75%     46.000000     88000.000000    1.000000\n",
      "max     60.000000    150000.000000    1.000000\n",
      "Age                0\n",
      "EstimatedSalary    0\n",
      "Purchased          0\n",
      "dtype: int64\n"
     ]
    }
   ],
   "source": [
    "print(data.describe())\n",
    "print(data.isnull().sum())"
   ]
  },
  {
   "cell_type": "markdown",
   "id": "087dbad1",
   "metadata": {},
   "source": [
    "Now let’s explore some of the important patterns in the dataset. The first thing I want to explore is the ages of the people who responded to the social media ads and bought the product:"
   ]
  },
  {
   "cell_type": "code",
   "execution_count": 3,
   "id": "561d12c8",
   "metadata": {},
   "outputs": [
    {
     "data": {
      "image/png": "[encoded data removed]",
      "text/plain": [
       "<Figure size 1080x720 with 1 Axes>"
      ]
     },
     "metadata": {
      "needs_background": "light"
     },
     "output_type": "display_data"
    }
   ],
   "source": [
    "plt.figure(figsize=(15, 10))\n",
    "plt.title(\"Product Purchased By People Through Social Media Marketing\")\n",
    "sns.histplot(x=\"Age\", hue=\"Purchased\", data=data)\n",
    "plt.show()"
   ]
  },
  {
   "cell_type": "markdown",
   "id": "85e88b5b",
   "metadata": {},
   "source": [
    "The visualization above shows that people over 45 among the target audience are more interested in purchasing the product. Now let’s take a look at the income group of people who responded to social media ads and purchased the product:"
   ]
  },
  {
   "cell_type": "code",
   "execution_count": 4,
   "id": "d33a9988",
   "metadata": {},
   "outputs": [
    {
     "data": {
      "image/png": "[encoded data removed]",
      "text/plain": [
       "<Figure size 432x288 with 1 Axes>"
      ]
     },
     "metadata": {
      "needs_background": "light"
     },
     "output_type": "display_data"
    }
   ],
   "source": [
    "plt.title(\"Product Purchased By People According to Their Income\")\n",
    "sns.histplot(x=\"EstimatedSalary\", hue=\"Purchased\", data=data)\n",
    "plt.show()"
   ]
  },
  {
   "cell_type": "markdown",
   "id": "9c346e5a",
   "metadata": {},
   "source": [
    "The visualization above shows that people with a monthly income of over 90,000 among the target audience are more interested in purchasing the product."
   ]
  },
  {
   "cell_type": "markdown",
   "id": "2830130c",
   "metadata": {},
   "source": [
    "## Training a Social Media Ads Classification Model"
   ]
  },
  {
   "cell_type": "markdown",
   "id": "58067072",
   "metadata": {},
   "source": [
    "Now let’s train a model to classify social media ads. First I’ll set the “Purchased” column in the dataset as the target variable and the other two columns as the features we need to train a model:"
   ]
  },
  {
   "cell_type": "code",
   "execution_count": 5,
   "id": "113772c1",
   "metadata": {},
   "outputs": [],
   "source": [
    "x = np.array(data[[\"Age\", \"EstimatedSalary\"]])\n",
    "y = np.array(data[[\"Purchased\"]])"
   ]
  },
  {
   "cell_type": "markdown",
   "id": "7f0ed2f2",
   "metadata": {},
   "source": [
    "Now let’s split the data and train a social media ads classification model using the decision tree classifier:"
   ]
  },
  {
   "cell_type": "code",
   "execution_count": 6,
   "id": "19f59482",
   "metadata": {},
   "outputs": [],
   "source": [
    "xtrain, xtest, ytrain, ytest = train_test_split(x, y, \n",
    "                                                test_size=0.10, \n",
    "                                                random_state=42)\n",
    "model = DecisionTreeClassifier()\n",
    "model.fit(xtrain, ytrain)\n",
    "predictions = model.predict(xtest)"
   ]
  },
  {
   "cell_type": "markdown",
   "id": "21af8707",
   "metadata": {},
   "source": [
    "At last, let’s have a look at the classification report of the model:"
   ]
  },
  {
   "cell_type": "code",
   "execution_count": 7,
   "id": "648ce701",
   "metadata": {},
   "outputs": [
    {
     "name": "stdout",
     "output_type": "stream",
     "text": [
      "              precision    recall  f1-score   support\n",
      "\n",
      "           0       0.88      0.85      0.87        27\n",
      "           1       0.71      0.77      0.74        13\n",
      "\n",
      "    accuracy                           0.82        40\n",
      "   macro avg       0.80      0.81      0.80        40\n",
      "weighted avg       0.83      0.82      0.83        40\n",
      "\n"
     ]
    }
   ],
   "source": [
    "print(classification_report(ytest, predictions))"
   ]
  },
  {
   "cell_type": "markdown",
   "id": "ebae8bb1",
   "metadata": {},
   "source": [
    "## Summary"
   ]
  },
  {
   "cell_type": "markdown",
   "id": "ff37e58b",
   "metadata": {},
   "source": [
    "So this is how you can analyze and classify social media ads about the marketing campaign of a product. Classifying social media ads means analyzing your social media ads for finding the most profitable customers for your product who are more likely to buy the product."
   ]
  }
 ],
 "metadata": {
  "kernelspec": {
   "display_name": "Python 3 (ipykernel)",
   "language": "python",
   "name": "python3"
  },
  "language_info": {
   "codemirror_mode": {
    "name": "ipython",
    "version": 3
   },
   "file_extension": ".py",
   "mimetype": "text/x-python",
   "name": "python",
   "nbconvert_exporter": "python",
   "pygments_lexer": "ipython3",
   "version": "3.8.8"
  }
 },
 "nbformat": 4,
 "nbformat_minor": 5
}
