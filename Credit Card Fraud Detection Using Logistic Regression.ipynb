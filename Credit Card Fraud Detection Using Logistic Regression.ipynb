{
 "cells": [
  {
   "cell_type": "markdown",
   "id": "ed62cb0c",
   "metadata": {},
   "source": [
    "CASE -\n",
    "\n",
    "We are going to predict whether a credid card transaction is legit or fraud."
   ]
  },
  {
   "cell_type": "markdown",
   "id": "2216aa5a",
   "metadata": {},
   "source": [
    "WORK FLOW - \n",
    "\n",
    "Credit card data\n",
    "\n",
    "Data Pre Processing\n",
    "\n",
    "Data Analysis\n",
    "\n",
    "Train Test Split\n",
    "\n",
    "Logistic Regression Model\n",
    "\n",
    "Model Evaluation\n",
    "\n",
    "Predictive System"
   ]
  },
  {
   "cell_type": "markdown",
   "id": "aa75dc47",
   "metadata": {},
   "source": [
    "Importing necessary libraries"
   ]
  },
  {
   "cell_type": "code",
   "execution_count": 1,
   "id": "731488a2",
   "metadata": {},
   "outputs": [],
   "source": [
    "import pandas as pd\n",
    "import numpy as np\n",
    "from sklearn.model_selection import train_test_split\n",
    "from sklearn.linear_model import LogisticRegression\n",
    "from sklearn.metrics import accuracy_score"
   ]
  },
  {
   "cell_type": "code",
   "execution_count": 2,
   "id": "538e7266",
   "metadata": {},
   "outputs": [
    {
     "data": {
      "text/html": [
       "<div>\n",
       "<style scoped>\n",
       "    .dataframe tbody tr th:only-of-type {\n",
       "        vertical-align: middle;\n",
       "    }\n",
       "\n",
       "    .dataframe tbody tr th {\n",
       "        vertical-align: top;\n",
       "    }\n",
       "\n",
       "    .dataframe thead th {\n",
       "        text-align: right;\n",
       "    }\n",
       "</style>\n",
       "<table border=\"1\" class=\"dataframe\">\n",
       "  <thead>\n",
       "    <tr style=\"text-align: right;\">\n",
       "      <th></th>\n",
       "      <th>Time</th>\n",
       "      <th>V1</th>\n",
       "      <th>V2</th>\n",
       "      <th>V3</th>\n",
       "      <th>V4</th>\n",
       "      <th>V5</th>\n",
       "      <th>V6</th>\n",
       "      <th>V7</th>\n",
       "      <th>V8</th>\n",
       "      <th>V9</th>\n",
       "      <th>...</th>\n",
       "      <th>V21</th>\n",
       "      <th>V22</th>\n",
       "      <th>V23</th>\n",
       "      <th>V24</th>\n",
       "      <th>V25</th>\n",
       "      <th>V26</th>\n",
       "      <th>V27</th>\n",
       "      <th>V28</th>\n",
       "      <th>Amount</th>\n",
       "      <th>Class</th>\n",
       "    </tr>\n",
       "  </thead>\n",
       "  <tbody>\n",
       "    <tr>\n",
       "      <th>0</th>\n",
       "      <td>0.0</td>\n",
       "      <td>-1.359807</td>\n",
       "      <td>-0.072781</td>\n",
       "      <td>2.536347</td>\n",
       "      <td>1.378155</td>\n",
       "      <td>-0.338321</td>\n",
       "      <td>0.462388</td>\n",
       "      <td>0.239599</td>\n",
       "      <td>0.098698</td>\n",
       "      <td>0.363787</td>\n",
       "      <td>...</td>\n",
       "      <td>-0.018307</td>\n",
       "      <td>0.277838</td>\n",
       "      <td>-0.110474</td>\n",
       "      <td>0.066928</td>\n",
       "      <td>0.128539</td>\n",
       "      <td>-0.189115</td>\n",
       "      <td>0.133558</td>\n",
       "      <td>-0.021053</td>\n",
       "      <td>149.62</td>\n",
       "      <td>0</td>\n",
       "    </tr>\n",
       "    <tr>\n",
       "      <th>1</th>\n",
       "      <td>0.0</td>\n",
       "      <td>1.191857</td>\n",
       "      <td>0.266151</td>\n",
       "      <td>0.166480</td>\n",
       "      <td>0.448154</td>\n",
       "      <td>0.060018</td>\n",
       "      <td>-0.082361</td>\n",
       "      <td>-0.078803</td>\n",
       "      <td>0.085102</td>\n",
       "      <td>-0.255425</td>\n",
       "      <td>...</td>\n",
       "      <td>-0.225775</td>\n",
       "      <td>-0.638672</td>\n",
       "      <td>0.101288</td>\n",
       "      <td>-0.339846</td>\n",
       "      <td>0.167170</td>\n",
       "      <td>0.125895</td>\n",
       "      <td>-0.008983</td>\n",
       "      <td>0.014724</td>\n",
       "      <td>2.69</td>\n",
       "      <td>0</td>\n",
       "    </tr>\n",
       "    <tr>\n",
       "      <th>2</th>\n",
       "      <td>1.0</td>\n",
       "      <td>-1.358354</td>\n",
       "      <td>-1.340163</td>\n",
       "      <td>1.773209</td>\n",
       "      <td>0.379780</td>\n",
       "      <td>-0.503198</td>\n",
       "      <td>1.800499</td>\n",
       "      <td>0.791461</td>\n",
       "      <td>0.247676</td>\n",
       "      <td>-1.514654</td>\n",
       "      <td>...</td>\n",
       "      <td>0.247998</td>\n",
       "      <td>0.771679</td>\n",
       "      <td>0.909412</td>\n",
       "      <td>-0.689281</td>\n",
       "      <td>-0.327642</td>\n",
       "      <td>-0.139097</td>\n",
       "      <td>-0.055353</td>\n",
       "      <td>-0.059752</td>\n",
       "      <td>378.66</td>\n",
       "      <td>0</td>\n",
       "    </tr>\n",
       "    <tr>\n",
       "      <th>3</th>\n",
       "      <td>1.0</td>\n",
       "      <td>-0.966272</td>\n",
       "      <td>-0.185226</td>\n",
       "      <td>1.792993</td>\n",
       "      <td>-0.863291</td>\n",
       "      <td>-0.010309</td>\n",
       "      <td>1.247203</td>\n",
       "      <td>0.237609</td>\n",
       "      <td>0.377436</td>\n",
       "      <td>-1.387024</td>\n",
       "      <td>...</td>\n",
       "      <td>-0.108300</td>\n",
       "      <td>0.005274</td>\n",
       "      <td>-0.190321</td>\n",
       "      <td>-1.175575</td>\n",
       "      <td>0.647376</td>\n",
       "      <td>-0.221929</td>\n",
       "      <td>0.062723</td>\n",
       "      <td>0.061458</td>\n",
       "      <td>123.50</td>\n",
       "      <td>0</td>\n",
       "    </tr>\n",
       "    <tr>\n",
       "      <th>4</th>\n",
       "      <td>2.0</td>\n",
       "      <td>-1.158233</td>\n",
       "      <td>0.877737</td>\n",
       "      <td>1.548718</td>\n",
       "      <td>0.403034</td>\n",
       "      <td>-0.407193</td>\n",
       "      <td>0.095921</td>\n",
       "      <td>0.592941</td>\n",
       "      <td>-0.270533</td>\n",
       "      <td>0.817739</td>\n",
       "      <td>...</td>\n",
       "      <td>-0.009431</td>\n",
       "      <td>0.798278</td>\n",
       "      <td>-0.137458</td>\n",
       "      <td>0.141267</td>\n",
       "      <td>-0.206010</td>\n",
       "      <td>0.502292</td>\n",
       "      <td>0.219422</td>\n",
       "      <td>0.215153</td>\n",
       "      <td>69.99</td>\n",
       "      <td>0</td>\n",
       "    </tr>\n",
       "  </tbody>\n",
       "</table>\n",
       "<p>5 rows × 31 columns</p>\n",
       "</div>"
      ],
      "text/plain": [
       "   Time        V1        V2        V3        V4        V5        V6        V7  \\\n",
       "0   0.0 -1.359807 -0.072781  2.536347  1.378155 -0.338321  0.462388  0.239599   \n",
       "1   0.0  1.191857  0.266151  0.166480  0.448154  0.060018 -0.082361 -0.078803   \n",
       "2   1.0 -1.358354 -1.340163  1.773209  0.379780 -0.503198  1.800499  0.791461   \n",
       "3   1.0 -0.966272 -0.185226  1.792993 -0.863291 -0.010309  1.247203  0.237609   \n",
       "4   2.0 -1.158233  0.877737  1.548718  0.403034 -0.407193  0.095921  0.592941   \n",
       "\n",
       "         V8        V9  ...       V21       V22       V23       V24       V25  \\\n",
       "0  0.098698  0.363787  ... -0.018307  0.277838 -0.110474  0.066928  0.128539   \n",
       "1  0.085102 -0.255425  ... -0.225775 -0.638672  0.101288 -0.339846  0.167170   \n",
       "2  0.247676 -1.514654  ...  0.247998  0.771679  0.909412 -0.689281 -0.327642   \n",
       "3  0.377436 -1.387024  ... -0.108300  0.005274 -0.190321 -1.175575  0.647376   \n",
       "4 -0.270533  0.817739  ... -0.009431  0.798278 -0.137458  0.141267 -0.206010   \n",
       "\n",
       "        V26       V27       V28  Amount  Class  \n",
       "0 -0.189115  0.133558 -0.021053  149.62      0  \n",
       "1  0.125895 -0.008983  0.014724    2.69      0  \n",
       "2 -0.139097 -0.055353 -0.059752  378.66      0  \n",
       "3 -0.221929  0.062723  0.061458  123.50      0  \n",
       "4  0.502292  0.219422  0.215153   69.99      0  \n",
       "\n",
       "[5 rows x 31 columns]"
      ]
     },
     "execution_count": 2,
     "metadata": {},
     "output_type": "execute_result"
    }
   ],
   "source": [
    "# Importing the dataset\n",
    "\n",
    "data = pd.read_csv(r'C:\\Users\\SHREE\\Downloads\\Python CODES\\Credit Card Fraud Detection Using Logistic Regression\\creditcard.csv')\n",
    "data.head()"
   ]
  },
  {
   "cell_type": "code",
   "execution_count": 3,
   "id": "d600a335",
   "metadata": {},
   "outputs": [
    {
     "name": "stdout",
     "output_type": "stream",
     "text": [
      "<class 'pandas.core.frame.DataFrame'>\n",
      "RangeIndex: 284807 entries, 0 to 284806\n",
      "Data columns (total 31 columns):\n",
      " #   Column  Non-Null Count   Dtype  \n",
      "---  ------  --------------   -----  \n",
      " 0   Time    284807 non-null  float64\n",
      " 1   V1      284807 non-null  float64\n",
      " 2   V2      284807 non-null  float64\n",
      " 3   V3      284807 non-null  float64\n",
      " 4   V4      284807 non-null  float64\n",
      " 5   V5      284807 non-null  float64\n",
      " 6   V6      284807 non-null  float64\n",
      " 7   V7      284807 non-null  float64\n",
      " 8   V8      284807 non-null  float64\n",
      " 9   V9      284807 non-null  float64\n",
      " 10  V10     284807 non-null  float64\n",
      " 11  V11     284807 non-null  float64\n",
      " 12  V12     284807 non-null  float64\n",
      " 13  V13     284807 non-null  float64\n",
      " 14  V14     284807 non-null  float64\n",
      " 15  V15     284807 non-null  float64\n",
      " 16  V16     284807 non-null  float64\n",
      " 17  V17     284807 non-null  float64\n",
      " 18  V18     284807 non-null  float64\n",
      " 19  V19     284807 non-null  float64\n",
      " 20  V20     284807 non-null  float64\n",
      " 21  V21     284807 non-null  float64\n",
      " 22  V22     284807 non-null  float64\n",
      " 23  V23     284807 non-null  float64\n",
      " 24  V24     284807 non-null  float64\n",
      " 25  V25     284807 non-null  float64\n",
      " 26  V26     284807 non-null  float64\n",
      " 27  V27     284807 non-null  float64\n",
      " 28  V28     284807 non-null  float64\n",
      " 29  Amount  284807 non-null  float64\n",
      " 30  Class   284807 non-null  int64  \n",
      "dtypes: float64(30), int64(1)\n",
      "memory usage: 67.4 MB\n"
     ]
    }
   ],
   "source": [
    "# Data information\n",
    "\n",
    "data.info()"
   ]
  },
  {
   "cell_type": "code",
   "execution_count": 4,
   "id": "88b2893b",
   "metadata": {},
   "outputs": [
    {
     "data": {
      "text/plain": [
       "Time      0\n",
       "V1        0\n",
       "V2        0\n",
       "V3        0\n",
       "V4        0\n",
       "V5        0\n",
       "V6        0\n",
       "V7        0\n",
       "V8        0\n",
       "V9        0\n",
       "V10       0\n",
       "V11       0\n",
       "V12       0\n",
       "V13       0\n",
       "V14       0\n",
       "V15       0\n",
       "V16       0\n",
       "V17       0\n",
       "V18       0\n",
       "V19       0\n",
       "V20       0\n",
       "V21       0\n",
       "V22       0\n",
       "V23       0\n",
       "V24       0\n",
       "V25       0\n",
       "V26       0\n",
       "V27       0\n",
       "V28       0\n",
       "Amount    0\n",
       "Class     0\n",
       "dtype: int64"
      ]
     },
     "execution_count": 4,
     "metadata": {},
     "output_type": "execute_result"
    }
   ],
   "source": [
    "# Checking number of missing values in each column\n",
    "\n",
    "data.isnull().sum()"
   ]
  },
  {
   "cell_type": "code",
   "execution_count": 5,
   "id": "3e38ff91",
   "metadata": {},
   "outputs": [
    {
     "data": {
      "text/plain": [
       "0    284315\n",
       "1       492\n",
       "Name: Class, dtype: int64"
      ]
     },
     "execution_count": 5,
     "metadata": {},
     "output_type": "execute_result"
    }
   ],
   "source": [
    "# Checking distribution of class column\n",
    "\n",
    "data['Class'].value_counts()"
   ]
  },
  {
   "cell_type": "markdown",
   "id": "b7c76fba",
   "metadata": {},
   "source": [
    "This is highly imbalanced data set"
   ]
  },
  {
   "cell_type": "markdown",
   "id": "fe313ea9",
   "metadata": {},
   "source": [
    "0 --> Legit Transaction\n",
    "\n",
    "1 --> Fraudulent Transaction"
   ]
  },
  {
   "cell_type": "code",
   "execution_count": 6,
   "id": "c34c30e5",
   "metadata": {},
   "outputs": [],
   "source": [
    "# Separating the data for analysis\n",
    "\n",
    "legit = data[data.Class == 0]\n",
    "fraud = data[data.Class == 1]"
   ]
  },
  {
   "cell_type": "code",
   "execution_count": 7,
   "id": "37ca9b34",
   "metadata": {},
   "outputs": [
    {
     "name": "stdout",
     "output_type": "stream",
     "text": [
      "(284315, 31)\n",
      "(492, 31)\n"
     ]
    }
   ],
   "source": [
    "print(legit.shape)\n",
    "print(fraud.shape)"
   ]
  },
  {
   "cell_type": "code",
   "execution_count": 8,
   "id": "aba5eab8",
   "metadata": {},
   "outputs": [
    {
     "data": {
      "text/plain": [
       "count    284315.000000\n",
       "mean         88.291022\n",
       "std         250.105092\n",
       "min           0.000000\n",
       "25%           5.650000\n",
       "50%          22.000000\n",
       "75%          77.050000\n",
       "max       25691.160000\n",
       "Name: Amount, dtype: float64"
      ]
     },
     "execution_count": 8,
     "metadata": {},
     "output_type": "execute_result"
    }
   ],
   "source": [
    "# Statistical measure of data\n",
    "\n",
    "legit.Amount.describe()"
   ]
  },
  {
   "cell_type": "code",
   "execution_count": 9,
   "id": "9f9e7cfd",
   "metadata": {},
   "outputs": [
    {
     "data": {
      "text/plain": [
       "count     492.000000\n",
       "mean      122.211321\n",
       "std       256.683288\n",
       "min         0.000000\n",
       "25%         1.000000\n",
       "50%         9.250000\n",
       "75%       105.890000\n",
       "max      2125.870000\n",
       "Name: Amount, dtype: float64"
      ]
     },
     "execution_count": 9,
     "metadata": {},
     "output_type": "execute_result"
    }
   ],
   "source": [
    "fraud.Amount.describe()"
   ]
  },
  {
   "cell_type": "code",
   "execution_count": 10,
   "id": "b43290e7",
   "metadata": {},
   "outputs": [
    {
     "data": {
      "text/html": [
       "<div>\n",
       "<style scoped>\n",
       "    .dataframe tbody tr th:only-of-type {\n",
       "        vertical-align: middle;\n",
       "    }\n",
       "\n",
       "    .dataframe tbody tr th {\n",
       "        vertical-align: top;\n",
       "    }\n",
       "\n",
       "    .dataframe thead th {\n",
       "        text-align: right;\n",
       "    }\n",
       "</style>\n",
       "<table border=\"1\" class=\"dataframe\">\n",
       "  <thead>\n",
       "    <tr style=\"text-align: right;\">\n",
       "      <th></th>\n",
       "      <th>Time</th>\n",
       "      <th>V1</th>\n",
       "      <th>V2</th>\n",
       "      <th>V3</th>\n",
       "      <th>V4</th>\n",
       "      <th>V5</th>\n",
       "      <th>V6</th>\n",
       "      <th>V7</th>\n",
       "      <th>V8</th>\n",
       "      <th>V9</th>\n",
       "      <th>...</th>\n",
       "      <th>V20</th>\n",
       "      <th>V21</th>\n",
       "      <th>V22</th>\n",
       "      <th>V23</th>\n",
       "      <th>V24</th>\n",
       "      <th>V25</th>\n",
       "      <th>V26</th>\n",
       "      <th>V27</th>\n",
       "      <th>V28</th>\n",
       "      <th>Amount</th>\n",
       "    </tr>\n",
       "    <tr>\n",
       "      <th>Class</th>\n",
       "      <th></th>\n",
       "      <th></th>\n",
       "      <th></th>\n",
       "      <th></th>\n",
       "      <th></th>\n",
       "      <th></th>\n",
       "      <th></th>\n",
       "      <th></th>\n",
       "      <th></th>\n",
       "      <th></th>\n",
       "      <th></th>\n",
       "      <th></th>\n",
       "      <th></th>\n",
       "      <th></th>\n",
       "      <th></th>\n",
       "      <th></th>\n",
       "      <th></th>\n",
       "      <th></th>\n",
       "      <th></th>\n",
       "      <th></th>\n",
       "      <th></th>\n",
       "    </tr>\n",
       "  </thead>\n",
       "  <tbody>\n",
       "    <tr>\n",
       "      <th>0</th>\n",
       "      <td>94838.202258</td>\n",
       "      <td>0.008258</td>\n",
       "      <td>-0.006271</td>\n",
       "      <td>0.012171</td>\n",
       "      <td>-0.007860</td>\n",
       "      <td>0.005453</td>\n",
       "      <td>0.002419</td>\n",
       "      <td>0.009637</td>\n",
       "      <td>-0.000987</td>\n",
       "      <td>0.004467</td>\n",
       "      <td>...</td>\n",
       "      <td>-0.000644</td>\n",
       "      <td>-0.001235</td>\n",
       "      <td>-0.000024</td>\n",
       "      <td>0.000070</td>\n",
       "      <td>0.000182</td>\n",
       "      <td>-0.000072</td>\n",
       "      <td>-0.000089</td>\n",
       "      <td>-0.000295</td>\n",
       "      <td>-0.000131</td>\n",
       "      <td>88.291022</td>\n",
       "    </tr>\n",
       "    <tr>\n",
       "      <th>1</th>\n",
       "      <td>80746.806911</td>\n",
       "      <td>-4.771948</td>\n",
       "      <td>3.623778</td>\n",
       "      <td>-7.033281</td>\n",
       "      <td>4.542029</td>\n",
       "      <td>-3.151225</td>\n",
       "      <td>-1.397737</td>\n",
       "      <td>-5.568731</td>\n",
       "      <td>0.570636</td>\n",
       "      <td>-2.581123</td>\n",
       "      <td>...</td>\n",
       "      <td>0.372319</td>\n",
       "      <td>0.713588</td>\n",
       "      <td>0.014049</td>\n",
       "      <td>-0.040308</td>\n",
       "      <td>-0.105130</td>\n",
       "      <td>0.041449</td>\n",
       "      <td>0.051648</td>\n",
       "      <td>0.170575</td>\n",
       "      <td>0.075667</td>\n",
       "      <td>122.211321</td>\n",
       "    </tr>\n",
       "  </tbody>\n",
       "</table>\n",
       "<p>2 rows × 30 columns</p>\n",
       "</div>"
      ],
      "text/plain": [
       "               Time        V1        V2        V3        V4        V5  \\\n",
       "Class                                                                   \n",
       "0      94838.202258  0.008258 -0.006271  0.012171 -0.007860  0.005453   \n",
       "1      80746.806911 -4.771948  3.623778 -7.033281  4.542029 -3.151225   \n",
       "\n",
       "             V6        V7        V8        V9  ...       V20       V21  \\\n",
       "Class                                          ...                       \n",
       "0      0.002419  0.009637 -0.000987  0.004467  ... -0.000644 -0.001235   \n",
       "1     -1.397737 -5.568731  0.570636 -2.581123  ...  0.372319  0.713588   \n",
       "\n",
       "            V22       V23       V24       V25       V26       V27       V28  \\\n",
       "Class                                                                         \n",
       "0     -0.000024  0.000070  0.000182 -0.000072 -0.000089 -0.000295 -0.000131   \n",
       "1      0.014049 -0.040308 -0.105130  0.041449  0.051648  0.170575  0.075667   \n",
       "\n",
       "           Amount  \n",
       "Class              \n",
       "0       88.291022  \n",
       "1      122.211321  \n",
       "\n",
       "[2 rows x 30 columns]"
      ]
     },
     "execution_count": 10,
     "metadata": {},
     "output_type": "execute_result"
    }
   ],
   "source": [
    "# Compare the values for both transaction\n",
    "\n",
    "data.groupby('Class').mean()"
   ]
  },
  {
   "cell_type": "markdown",
   "id": "50fe5f07",
   "metadata": {},
   "source": [
    "Under - Sampling : (For imbalanced data)\n",
    "\n",
    "Build a sample dataset containing similar distribution of Legit Transaction & Fraud Transaction. We are going to take 492 Random Transactions from Legit Transactions then we are going to join them with Fraud Transactions. We will have 492 Legit Transaction & 492 Fraud Transaction. It will have uniform distribution & give better predictions.\n",
    "\n",
    "Fraud Transactions --> 492"
   ]
  },
  {
   "cell_type": "code",
   "execution_count": 11,
   "id": "dd0e00c4",
   "metadata": {},
   "outputs": [],
   "source": [
    "legit_sample = legit.sample(n = 492)"
   ]
  },
  {
   "cell_type": "markdown",
   "id": "2780d604",
   "metadata": {},
   "source": [
    "Concanating 2 DataFrames (Joining)"
   ]
  },
  {
   "cell_type": "code",
   "execution_count": 14,
   "id": "9cc9f6c1",
   "metadata": {},
   "outputs": [],
   "source": [
    "new_data = pd.concat([legit_sample, fraud], axis = 0)"
   ]
  },
  {
   "cell_type": "code",
   "execution_count": 15,
   "id": "1d8786ea",
   "metadata": {},
   "outputs": [
    {
     "data": {
      "text/html": [
       "<div>\n",
       "<style scoped>\n",
       "    .dataframe tbody tr th:only-of-type {\n",
       "        vertical-align: middle;\n",
       "    }\n",
       "\n",
       "    .dataframe tbody tr th {\n",
       "        vertical-align: top;\n",
       "    }\n",
       "\n",
       "    .dataframe thead th {\n",
       "        text-align: right;\n",
       "    }\n",
       "</style>\n",
       "<table border=\"1\" class=\"dataframe\">\n",
       "  <thead>\n",
       "    <tr style=\"text-align: right;\">\n",
       "      <th></th>\n",
       "      <th>Time</th>\n",
       "      <th>V1</th>\n",
       "      <th>V2</th>\n",
       "      <th>V3</th>\n",
       "      <th>V4</th>\n",
       "      <th>V5</th>\n",
       "      <th>V6</th>\n",
       "      <th>V7</th>\n",
       "      <th>V8</th>\n",
       "      <th>V9</th>\n",
       "      <th>...</th>\n",
       "      <th>V21</th>\n",
       "      <th>V22</th>\n",
       "      <th>V23</th>\n",
       "      <th>V24</th>\n",
       "      <th>V25</th>\n",
       "      <th>V26</th>\n",
       "      <th>V27</th>\n",
       "      <th>V28</th>\n",
       "      <th>Amount</th>\n",
       "      <th>Class</th>\n",
       "    </tr>\n",
       "  </thead>\n",
       "  <tbody>\n",
       "    <tr>\n",
       "      <th>129091</th>\n",
       "      <td>78947.0</td>\n",
       "      <td>-0.546642</td>\n",
       "      <td>0.605053</td>\n",
       "      <td>2.674286</td>\n",
       "      <td>3.101756</td>\n",
       "      <td>-0.115320</td>\n",
       "      <td>0.721509</td>\n",
       "      <td>-0.368633</td>\n",
       "      <td>0.409417</td>\n",
       "      <td>-0.852182</td>\n",
       "      <td>...</td>\n",
       "      <td>-0.002247</td>\n",
       "      <td>0.129724</td>\n",
       "      <td>0.001348</td>\n",
       "      <td>0.339885</td>\n",
       "      <td>-0.534197</td>\n",
       "      <td>0.076037</td>\n",
       "      <td>0.187855</td>\n",
       "      <td>0.158245</td>\n",
       "      <td>6.80</td>\n",
       "      <td>0</td>\n",
       "    </tr>\n",
       "    <tr>\n",
       "      <th>95406</th>\n",
       "      <td>65290.0</td>\n",
       "      <td>1.159691</td>\n",
       "      <td>0.190668</td>\n",
       "      <td>-0.095110</td>\n",
       "      <td>0.507473</td>\n",
       "      <td>-0.136206</td>\n",
       "      <td>-1.086329</td>\n",
       "      <td>0.482431</td>\n",
       "      <td>-0.289472</td>\n",
       "      <td>-0.588815</td>\n",
       "      <td>...</td>\n",
       "      <td>0.070475</td>\n",
       "      <td>0.128263</td>\n",
       "      <td>-0.141804</td>\n",
       "      <td>0.605722</td>\n",
       "      <td>0.612759</td>\n",
       "      <td>0.498335</td>\n",
       "      <td>-0.080512</td>\n",
       "      <td>-0.000283</td>\n",
       "      <td>49.58</td>\n",
       "      <td>0</td>\n",
       "    </tr>\n",
       "    <tr>\n",
       "      <th>183948</th>\n",
       "      <td>126030.0</td>\n",
       "      <td>1.800042</td>\n",
       "      <td>-1.066904</td>\n",
       "      <td>-0.665189</td>\n",
       "      <td>-1.452101</td>\n",
       "      <td>-1.072295</td>\n",
       "      <td>-0.929557</td>\n",
       "      <td>-0.493666</td>\n",
       "      <td>-0.122732</td>\n",
       "      <td>1.808994</td>\n",
       "      <td>...</td>\n",
       "      <td>0.346440</td>\n",
       "      <td>0.989511</td>\n",
       "      <td>0.014197</td>\n",
       "      <td>0.147575</td>\n",
       "      <td>-0.181815</td>\n",
       "      <td>-0.192890</td>\n",
       "      <td>0.009792</td>\n",
       "      <td>-0.031449</td>\n",
       "      <td>118.00</td>\n",
       "      <td>0</td>\n",
       "    </tr>\n",
       "    <tr>\n",
       "      <th>206289</th>\n",
       "      <td>136152.0</td>\n",
       "      <td>-15.329347</td>\n",
       "      <td>1.517809</td>\n",
       "      <td>-10.115838</td>\n",
       "      <td>0.970134</td>\n",
       "      <td>-3.900967</td>\n",
       "      <td>-0.288366</td>\n",
       "      <td>2.156707</td>\n",
       "      <td>1.233429</td>\n",
       "      <td>6.325787</td>\n",
       "      <td>...</td>\n",
       "      <td>-2.261459</td>\n",
       "      <td>-0.176708</td>\n",
       "      <td>-2.427285</td>\n",
       "      <td>0.424000</td>\n",
       "      <td>0.933384</td>\n",
       "      <td>-0.787926</td>\n",
       "      <td>-0.262810</td>\n",
       "      <td>2.292313</td>\n",
       "      <td>144.00</td>\n",
       "      <td>0</td>\n",
       "    </tr>\n",
       "    <tr>\n",
       "      <th>280552</th>\n",
       "      <td>169598.0</td>\n",
       "      <td>-0.677115</td>\n",
       "      <td>0.430594</td>\n",
       "      <td>0.594985</td>\n",
       "      <td>-0.789533</td>\n",
       "      <td>0.905697</td>\n",
       "      <td>-0.778302</td>\n",
       "      <td>0.703392</td>\n",
       "      <td>-0.017910</td>\n",
       "      <td>-0.254746</td>\n",
       "      <td>...</td>\n",
       "      <td>-0.190729</td>\n",
       "      <td>-0.646702</td>\n",
       "      <td>-0.137254</td>\n",
       "      <td>-0.368643</td>\n",
       "      <td>-0.467558</td>\n",
       "      <td>0.150765</td>\n",
       "      <td>-0.030846</td>\n",
       "      <td>0.116550</td>\n",
       "      <td>9.99</td>\n",
       "      <td>0</td>\n",
       "    </tr>\n",
       "  </tbody>\n",
       "</table>\n",
       "<p>5 rows × 31 columns</p>\n",
       "</div>"
      ],
      "text/plain": [
       "            Time         V1        V2         V3        V4        V5  \\\n",
       "129091   78947.0  -0.546642  0.605053   2.674286  3.101756 -0.115320   \n",
       "95406    65290.0   1.159691  0.190668  -0.095110  0.507473 -0.136206   \n",
       "183948  126030.0   1.800042 -1.066904  -0.665189 -1.452101 -1.072295   \n",
       "206289  136152.0 -15.329347  1.517809 -10.115838  0.970134 -3.900967   \n",
       "280552  169598.0  -0.677115  0.430594   0.594985 -0.789533  0.905697   \n",
       "\n",
       "              V6        V7        V8        V9  ...       V21       V22  \\\n",
       "129091  0.721509 -0.368633  0.409417 -0.852182  ... -0.002247  0.129724   \n",
       "95406  -1.086329  0.482431 -0.289472 -0.588815  ...  0.070475  0.128263   \n",
       "183948 -0.929557 -0.493666 -0.122732  1.808994  ...  0.346440  0.989511   \n",
       "206289 -0.288366  2.156707  1.233429  6.325787  ... -2.261459 -0.176708   \n",
       "280552 -0.778302  0.703392 -0.017910 -0.254746  ... -0.190729 -0.646702   \n",
       "\n",
       "             V23       V24       V25       V26       V27       V28  Amount  \\\n",
       "129091  0.001348  0.339885 -0.534197  0.076037  0.187855  0.158245    6.80   \n",
       "95406  -0.141804  0.605722  0.612759  0.498335 -0.080512 -0.000283   49.58   \n",
       "183948  0.014197  0.147575 -0.181815 -0.192890  0.009792 -0.031449  118.00   \n",
       "206289 -2.427285  0.424000  0.933384 -0.787926 -0.262810  2.292313  144.00   \n",
       "280552 -0.137254 -0.368643 -0.467558  0.150765 -0.030846  0.116550    9.99   \n",
       "\n",
       "        Class  \n",
       "129091      0  \n",
       "95406       0  \n",
       "183948      0  \n",
       "206289      0  \n",
       "280552      0  \n",
       "\n",
       "[5 rows x 31 columns]"
      ]
     },
     "execution_count": 15,
     "metadata": {},
     "output_type": "execute_result"
    }
   ],
   "source": [
    "new_data.head()"
   ]
  },
  {
   "cell_type": "code",
   "execution_count": 17,
   "id": "653764b8",
   "metadata": {},
   "outputs": [
    {
     "data": {
      "text/plain": [
       "0    492\n",
       "1    492\n",
       "Name: Class, dtype: int64"
      ]
     },
     "execution_count": 17,
     "metadata": {},
     "output_type": "execute_result"
    }
   ],
   "source": [
    "# Checking distribution of data\n",
    "\n",
    "new_data['Class'].value_counts()"
   ]
  },
  {
   "cell_type": "code",
   "execution_count": 19,
   "id": "fd9671c5",
   "metadata": {},
   "outputs": [
    {
     "data": {
      "text/html": [
       "<div>\n",
       "<style scoped>\n",
       "    .dataframe tbody tr th:only-of-type {\n",
       "        vertical-align: middle;\n",
       "    }\n",
       "\n",
       "    .dataframe tbody tr th {\n",
       "        vertical-align: top;\n",
       "    }\n",
       "\n",
       "    .dataframe thead th {\n",
       "        text-align: right;\n",
       "    }\n",
       "</style>\n",
       "<table border=\"1\" class=\"dataframe\">\n",
       "  <thead>\n",
       "    <tr style=\"text-align: right;\">\n",
       "      <th></th>\n",
       "      <th>Time</th>\n",
       "      <th>V1</th>\n",
       "      <th>V2</th>\n",
       "      <th>V3</th>\n",
       "      <th>V4</th>\n",
       "      <th>V5</th>\n",
       "      <th>V6</th>\n",
       "      <th>V7</th>\n",
       "      <th>V8</th>\n",
       "      <th>V9</th>\n",
       "      <th>...</th>\n",
       "      <th>V20</th>\n",
       "      <th>V21</th>\n",
       "      <th>V22</th>\n",
       "      <th>V23</th>\n",
       "      <th>V24</th>\n",
       "      <th>V25</th>\n",
       "      <th>V26</th>\n",
       "      <th>V27</th>\n",
       "      <th>V28</th>\n",
       "      <th>Amount</th>\n",
       "    </tr>\n",
       "    <tr>\n",
       "      <th>Class</th>\n",
       "      <th></th>\n",
       "      <th></th>\n",
       "      <th></th>\n",
       "      <th></th>\n",
       "      <th></th>\n",
       "      <th></th>\n",
       "      <th></th>\n",
       "      <th></th>\n",
       "      <th></th>\n",
       "      <th></th>\n",
       "      <th></th>\n",
       "      <th></th>\n",
       "      <th></th>\n",
       "      <th></th>\n",
       "      <th></th>\n",
       "      <th></th>\n",
       "      <th></th>\n",
       "      <th></th>\n",
       "      <th></th>\n",
       "      <th></th>\n",
       "      <th></th>\n",
       "    </tr>\n",
       "  </thead>\n",
       "  <tbody>\n",
       "    <tr>\n",
       "      <th>0</th>\n",
       "      <td>96566.006098</td>\n",
       "      <td>0.025768</td>\n",
       "      <td>0.038527</td>\n",
       "      <td>-0.007953</td>\n",
       "      <td>-0.021766</td>\n",
       "      <td>-0.023644</td>\n",
       "      <td>-0.021802</td>\n",
       "      <td>-0.010172</td>\n",
       "      <td>0.001689</td>\n",
       "      <td>0.046897</td>\n",
       "      <td>...</td>\n",
       "      <td>0.028557</td>\n",
       "      <td>0.026704</td>\n",
       "      <td>-0.028209</td>\n",
       "      <td>0.016751</td>\n",
       "      <td>0.024359</td>\n",
       "      <td>-0.009342</td>\n",
       "      <td>0.003173</td>\n",
       "      <td>0.003860</td>\n",
       "      <td>0.019661</td>\n",
       "      <td>85.175711</td>\n",
       "    </tr>\n",
       "    <tr>\n",
       "      <th>1</th>\n",
       "      <td>80746.806911</td>\n",
       "      <td>-4.771948</td>\n",
       "      <td>3.623778</td>\n",
       "      <td>-7.033281</td>\n",
       "      <td>4.542029</td>\n",
       "      <td>-3.151225</td>\n",
       "      <td>-1.397737</td>\n",
       "      <td>-5.568731</td>\n",
       "      <td>0.570636</td>\n",
       "      <td>-2.581123</td>\n",
       "      <td>...</td>\n",
       "      <td>0.372319</td>\n",
       "      <td>0.713588</td>\n",
       "      <td>0.014049</td>\n",
       "      <td>-0.040308</td>\n",
       "      <td>-0.105130</td>\n",
       "      <td>0.041449</td>\n",
       "      <td>0.051648</td>\n",
       "      <td>0.170575</td>\n",
       "      <td>0.075667</td>\n",
       "      <td>122.211321</td>\n",
       "    </tr>\n",
       "  </tbody>\n",
       "</table>\n",
       "<p>2 rows × 30 columns</p>\n",
       "</div>"
      ],
      "text/plain": [
       "               Time        V1        V2        V3        V4        V5  \\\n",
       "Class                                                                   \n",
       "0      96566.006098  0.025768  0.038527 -0.007953 -0.021766 -0.023644   \n",
       "1      80746.806911 -4.771948  3.623778 -7.033281  4.542029 -3.151225   \n",
       "\n",
       "             V6        V7        V8        V9  ...       V20       V21  \\\n",
       "Class                                          ...                       \n",
       "0     -0.021802 -0.010172  0.001689  0.046897  ...  0.028557  0.026704   \n",
       "1     -1.397737 -5.568731  0.570636 -2.581123  ...  0.372319  0.713588   \n",
       "\n",
       "            V22       V23       V24       V25       V26       V27       V28  \\\n",
       "Class                                                                         \n",
       "0     -0.028209  0.016751  0.024359 -0.009342  0.003173  0.003860  0.019661   \n",
       "1      0.014049 -0.040308 -0.105130  0.041449  0.051648  0.170575  0.075667   \n",
       "\n",
       "           Amount  \n",
       "Class              \n",
       "0       85.175711  \n",
       "1      122.211321  \n",
       "\n",
       "[2 rows x 30 columns]"
      ]
     },
     "execution_count": 19,
     "metadata": {},
     "output_type": "execute_result"
    }
   ],
   "source": [
    "# Checking whether we got a good sample or bad sample, in case if we got a bad sample then the mean values will be very different\n",
    "\n",
    "new_data.groupby('Class').mean()"
   ]
  },
  {
   "cell_type": "code",
   "execution_count": 20,
   "id": "ba5c7a6a",
   "metadata": {},
   "outputs": [],
   "source": [
    "# From above distribution of class values by comparing with previous values we can say that nature of dataset have not changed \n",
    "#& the difference is still there & our model will predict with good accuracy"
   ]
  },
  {
   "cell_type": "markdown",
   "id": "b05920aa",
   "metadata": {},
   "source": [
    "Splitting the Data into Features & Target"
   ]
  },
  {
   "cell_type": "code",
   "execution_count": 21,
   "id": "286c9462",
   "metadata": {},
   "outputs": [],
   "source": [
    "x = new_data.drop(columns = 'Class', axis =1)\n",
    "y = new_data['Class']"
   ]
  },
  {
   "cell_type": "code",
   "execution_count": 22,
   "id": "ea4f76c0",
   "metadata": {},
   "outputs": [
    {
     "name": "stdout",
     "output_type": "stream",
     "text": [
      "            Time         V1        V2         V3        V4        V5  \\\n",
      "129091   78947.0  -0.546642  0.605053   2.674286  3.101756 -0.115320   \n",
      "95406    65290.0   1.159691  0.190668  -0.095110  0.507473 -0.136206   \n",
      "183948  126030.0   1.800042 -1.066904  -0.665189 -1.452101 -1.072295   \n",
      "206289  136152.0 -15.329347  1.517809 -10.115838  0.970134 -3.900967   \n",
      "280552  169598.0  -0.677115  0.430594   0.594985 -0.789533  0.905697   \n",
      "...          ...        ...       ...        ...       ...       ...   \n",
      "279863  169142.0  -1.927883  1.125653  -4.518331  1.749293 -1.566487   \n",
      "280143  169347.0   1.378559  1.289381  -5.004247  1.411850  0.442581   \n",
      "280149  169351.0  -0.676143  1.126366  -2.213700  0.468308 -1.120541   \n",
      "281144  169966.0  -3.113832  0.585864  -5.399730  1.817092 -0.840618   \n",
      "281674  170348.0   1.991976  0.158476  -2.583441  0.408670  1.151147   \n",
      "\n",
      "              V6        V7        V8        V9  ...       V20       V21  \\\n",
      "129091  0.721509 -0.368633  0.409417 -0.852182  ...  0.222962 -0.002247   \n",
      "95406  -1.086329  0.482431 -0.289472 -0.588815  ...  0.022276  0.070475   \n",
      "183948 -0.929557 -0.493666 -0.122732  1.808994  ...  0.084637  0.346440   \n",
      "206289 -0.288366  2.156707  1.233429  6.325787  ...  1.000485 -2.261459   \n",
      "280552 -0.778302  0.703392 -0.017910 -0.254746  ... -0.281635 -0.190729   \n",
      "...          ...       ...       ...       ...  ...       ...       ...   \n",
      "279863 -2.010494 -0.882850  0.697211 -2.064945  ...  1.252967  0.778584   \n",
      "280143 -1.326536 -1.413170  0.248525 -1.127396  ...  0.226138  0.370612   \n",
      "280149 -0.003346 -2.234739  1.210158 -0.652250  ...  0.247968  0.751826   \n",
      "281144 -2.943548 -2.208002  1.058733 -1.632333  ...  0.306271  0.583276   \n",
      "281674 -0.096695  0.223050 -0.068384  0.577829  ... -0.017652 -0.164350   \n",
      "\n",
      "             V22       V23       V24       V25       V26       V27       V28  \\\n",
      "129091  0.129724  0.001348  0.339885 -0.534197  0.076037  0.187855  0.158245   \n",
      "95406   0.128263 -0.141804  0.605722  0.612759  0.498335 -0.080512 -0.000283   \n",
      "183948  0.989511  0.014197  0.147575 -0.181815 -0.192890  0.009792 -0.031449   \n",
      "206289 -0.176708 -2.427285  0.424000  0.933384 -0.787926 -0.262810  2.292313   \n",
      "280552 -0.646702 -0.137254 -0.368643 -0.467558  0.150765 -0.030846  0.116550   \n",
      "...          ...       ...       ...       ...       ...       ...       ...   \n",
      "279863 -0.319189  0.639419 -0.294885  0.537503  0.788395  0.292680  0.147968   \n",
      "280143  0.028234 -0.145640 -0.081049  0.521875  0.739467  0.389152  0.186637   \n",
      "280149  0.834108  0.190944  0.032070 -0.739695  0.471111  0.385107  0.194361   \n",
      "281144 -0.269209 -0.456108 -0.183659 -0.328168  0.606116  0.884876 -0.253700   \n",
      "281674 -0.295135 -0.072173 -0.450261  0.313267 -0.289617  0.002988 -0.015309   \n",
      "\n",
      "        Amount  \n",
      "129091    6.80  \n",
      "95406    49.58  \n",
      "183948  118.00  \n",
      "206289  144.00  \n",
      "280552    9.99  \n",
      "...        ...  \n",
      "279863  390.00  \n",
      "280143    0.76  \n",
      "280149   77.89  \n",
      "281144  245.00  \n",
      "281674   42.53  \n",
      "\n",
      "[984 rows x 30 columns]\n"
     ]
    }
   ],
   "source": [
    "print(x)"
   ]
  },
  {
   "cell_type": "code",
   "execution_count": 23,
   "id": "d385d7f8",
   "metadata": {},
   "outputs": [
    {
     "name": "stdout",
     "output_type": "stream",
     "text": [
      "129091    0\n",
      "95406     0\n",
      "183948    0\n",
      "206289    0\n",
      "280552    0\n",
      "         ..\n",
      "279863    1\n",
      "280143    1\n",
      "280149    1\n",
      "281144    1\n",
      "281674    1\n",
      "Name: Class, Length: 984, dtype: int64\n"
     ]
    }
   ],
   "source": [
    "print(y)"
   ]
  },
  {
   "cell_type": "markdown",
   "id": "2d36de4d",
   "metadata": {},
   "source": [
    "Splitting the Data into Train & Test"
   ]
  },
  {
   "cell_type": "code",
   "execution_count": 24,
   "id": "5fb34bb3",
   "metadata": {},
   "outputs": [],
   "source": [
    "x_train, x_test, y_train, y_test = train_test_split(x, y, test_size = 0.2, stratify = y, random_state = 2)"
   ]
  },
  {
   "cell_type": "code",
   "execution_count": 25,
   "id": "2ed0a315",
   "metadata": {},
   "outputs": [
    {
     "name": "stdout",
     "output_type": "stream",
     "text": [
      "(984, 30) (787, 30) (197, 30)\n"
     ]
    }
   ],
   "source": [
    "print(x.shape, x_train.shape, x_test.shape)"
   ]
  },
  {
   "cell_type": "markdown",
   "id": "088b83b7",
   "metadata": {},
   "source": [
    "Model Training\n",
    "\n",
    "Logistic Regression"
   ]
  },
  {
   "cell_type": "code",
   "execution_count": 27,
   "id": "f4153a35",
   "metadata": {},
   "outputs": [],
   "source": [
    "model = LogisticRegression()"
   ]
  },
  {
   "cell_type": "code",
   "execution_count": 28,
   "id": "eecbce66",
   "metadata": {},
   "outputs": [
    {
     "name": "stderr",
     "output_type": "stream",
     "text": [
      "C:\\Users\\SHREE\\anaconda3\\lib\\site-packages\\sklearn\\linear_model\\_logistic.py:814: ConvergenceWarning: lbfgs failed to converge (status=1):\n",
      "STOP: TOTAL NO. of ITERATIONS REACHED LIMIT.\n",
      "\n",
      "Increase the number of iterations (max_iter) or scale the data as shown in:\n",
      "    https://scikit-learn.org/stable/modules/preprocessing.html\n",
      "Please also refer to the documentation for alternative solver options:\n",
      "    https://scikit-learn.org/stable/modules/linear_model.html#logistic-regression\n",
      "  n_iter_i = _check_optimize_result(\n"
     ]
    },
    {
     "data": {
      "text/plain": [
       "LogisticRegression()"
      ]
     },
     "execution_count": 28,
     "metadata": {},
     "output_type": "execute_result"
    }
   ],
   "source": [
    "# Training the logistic regression model with train data\n",
    "\n",
    "model.fit(x_train, y_train)"
   ]
  },
  {
   "cell_type": "markdown",
   "id": "1c9dbc26",
   "metadata": {},
   "source": [
    "Model Evaluation"
   ]
  },
  {
   "cell_type": "code",
   "execution_count": 32,
   "id": "1a6b374c",
   "metadata": {},
   "outputs": [
    {
     "name": "stdout",
     "output_type": "stream",
     "text": [
      "Accuracy Score on Training Data : 0.9440914866581956\n"
     ]
    }
   ],
   "source": [
    "# Accuracy score on training data\n",
    "\n",
    "x_train_predict = model.predict(x_train)\n",
    "train_data_accuracy = accuracy_score(x_train_predict, y_train)\n",
    "print('Accuracy Score on Training Data :', train_data_accuracy)"
   ]
  },
  {
   "cell_type": "code",
   "execution_count": 33,
   "id": "12824556",
   "metadata": {},
   "outputs": [
    {
     "name": "stdout",
     "output_type": "stream",
     "text": [
      "Accuracy Score on Testing Data : 0.949238578680203\n"
     ]
    }
   ],
   "source": [
    "# Accuracy score on testing data\n",
    "\n",
    "x_test_predict = model.predict(x_test)\n",
    "test_data_accuracy = accuracy_score(x_test_predict, y_test)\n",
    "print('Accuracy Score on Testing Data :', test_data_accuracy)"
   ]
  },
  {
   "cell_type": "markdown",
   "id": "f6e015de",
   "metadata": {},
   "source": [
    "CONCLUSION -\n",
    "\n",
    "Accuracy score of our model is very good & our model is not underfitted/overfitted. We can use this model for Prediction."
   ]
  },
  {
   "cell_type": "markdown",
   "id": "fa376399",
   "metadata": {},
   "source": [
    "Predictive System"
   ]
  },
  {
   "cell_type": "code",
   "execution_count": 34,
   "id": "4df6aa13",
   "metadata": {},
   "outputs": [
    {
     "name": "stdout",
     "output_type": "stream",
     "text": [
      "[0]\n",
      "The Transaction is Legit\n"
     ]
    },
    {
     "name": "stderr",
     "output_type": "stream",
     "text": [
      "C:\\Users\\SHREE\\anaconda3\\lib\\site-packages\\sklearn\\base.py:450: UserWarning: X does not have valid feature names, but LogisticRegression was fitted with feature names\n",
      "  warnings.warn(\n"
     ]
    }
   ],
   "source": [
    "input_data = (1,-0.966271711572087,-0.185226008082898,1.79299333957872,-0.863291275036453,-0.0103088796030823,1.24720316752486,0.23760893977178,0.377435874652262,-1.38702406270197,-0.0549519224713749,-0.226487263835401,0.178228225877303,0.507756869957169,-0.28792374549456,-0.631418117709045,-1.0596472454325,-0.684092786345479,1.96577500349538,-1.2326219700892,-0.208037781160366,-0.108300452035545,0.00527359678253453,-0.190320518742841,-1.17557533186321,0.647376034602038,-0.221928844458407,0.0627228487293033,0.0614576285006353,123.5)\n",
    "\n",
    "# Changing the input data to numpy array\n",
    "input_data_as_numpy_array = np.asarray(input_data)\n",
    "\n",
    "# Reshaping the array for one sample\n",
    "input_data_reshape = input_data_as_numpy_array.reshape(1,-1)\n",
    "\n",
    "prediction = model.predict(input_data_reshape)\n",
    "print(prediction)\n",
    "\n",
    "if (prediction[0] == 0):\n",
    "    print('The Transaction is Legit')\n",
    "else:\n",
    "    print('The Transaction is Fraud')"
   ]
  }
 ],
 "metadata": {
  "kernelspec": {
   "display_name": "Python 3 (ipykernel)",
   "language": "python",
   "name": "python3"
  },
  "language_info": {
   "codemirror_mode": {
    "name": "ipython",
    "version": 3
   },
   "file_extension": ".py",
   "mimetype": "text/x-python",
   "name": "python",
   "nbconvert_exporter": "python",
   "pygments_lexer": "ipython3",
   "version": "3.8.8"
  }
 },
 "nbformat": 4,
 "nbformat_minor": 5
}
