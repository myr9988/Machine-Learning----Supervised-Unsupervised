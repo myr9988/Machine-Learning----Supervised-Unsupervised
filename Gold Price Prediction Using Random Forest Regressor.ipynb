{
 "cells": [
  {
   "cell_type": "markdown",
   "id": "2ef94255",
   "metadata": {},
   "source": [
    "CASE -\n",
    "\n",
    "We are going to predict gold prices based on several other stock prices"
   ]
  },
  {
   "cell_type": "markdown",
   "id": "f1343084",
   "metadata": {},
   "source": [
    "Data Overview: \n",
    "\n",
    "This data file is a Comma separated value file format with 2290 rows and 7 columns. It contains 5 columns which are numerical in datatype and one column in Date format. Clearly the data shows value of the variables SPX,GLD,USO,SLV,EUR/USD against the dates in the date column."
   ]
  },
  {
   "cell_type": "markdown",
   "id": "18436c0e",
   "metadata": {},
   "source": [
    "WORK FLOW -\n",
    "\n",
    "Gold price data\n",
    "\n",
    "Data Pre Processing\n",
    "\n",
    "Data Analysis\n",
    "\n",
    "Train Test Split\n",
    "\n",
    "Random Forest Regressor Model\n",
    "\n",
    "Prediction\n",
    "\n",
    "Model Evaluation"
   ]
  },
  {
   "cell_type": "markdown",
   "id": "e2809322",
   "metadata": {},
   "source": [
    "Importing necessary libraries"
   ]
  },
  {
   "cell_type": "code",
   "execution_count": 1,
   "id": "47cb33a4",
   "metadata": {},
   "outputs": [],
   "source": [
    "import pandas as pd\n",
    "import numpy as np\n",
    "from sklearn.model_selection import train_test_split\n",
    "import matplotlib.pyplot as plt\n",
    "import seaborn as sns\n",
    "from sklearn.ensemble import RandomForestRegressor\n",
    "from sklearn import metrics"
   ]
  },
  {
   "cell_type": "markdown",
   "id": "af7b9a3f",
   "metadata": {},
   "source": [
    "Data Collection & Processing"
   ]
  },
  {
   "cell_type": "code",
   "execution_count": 2,
   "id": "c3a8908f",
   "metadata": {},
   "outputs": [
    {
     "data": {
      "text/html": [
       "<div>\n",
       "<style scoped>\n",
       "    .dataframe tbody tr th:only-of-type {\n",
       "        vertical-align: middle;\n",
       "    }\n",
       "\n",
       "    .dataframe tbody tr th {\n",
       "        vertical-align: top;\n",
       "    }\n",
       "\n",
       "    .dataframe thead th {\n",
       "        text-align: right;\n",
       "    }\n",
       "</style>\n",
       "<table border=\"1\" class=\"dataframe\">\n",
       "  <thead>\n",
       "    <tr style=\"text-align: right;\">\n",
       "      <th></th>\n",
       "      <th>Date</th>\n",
       "      <th>SPX</th>\n",
       "      <th>GLD</th>\n",
       "      <th>USO</th>\n",
       "      <th>SLV</th>\n",
       "      <th>EUR/USD</th>\n",
       "    </tr>\n",
       "  </thead>\n",
       "  <tbody>\n",
       "    <tr>\n",
       "      <th>0</th>\n",
       "      <td>1/2/2008</td>\n",
       "      <td>1447.160034</td>\n",
       "      <td>84.860001</td>\n",
       "      <td>78.470001</td>\n",
       "      <td>15.180</td>\n",
       "      <td>1.471692</td>\n",
       "    </tr>\n",
       "    <tr>\n",
       "      <th>1</th>\n",
       "      <td>1/3/2008</td>\n",
       "      <td>1447.160034</td>\n",
       "      <td>85.570000</td>\n",
       "      <td>78.370003</td>\n",
       "      <td>15.285</td>\n",
       "      <td>1.474491</td>\n",
       "    </tr>\n",
       "    <tr>\n",
       "      <th>2</th>\n",
       "      <td>1/4/2008</td>\n",
       "      <td>1411.630005</td>\n",
       "      <td>85.129997</td>\n",
       "      <td>77.309998</td>\n",
       "      <td>15.167</td>\n",
       "      <td>1.475492</td>\n",
       "    </tr>\n",
       "    <tr>\n",
       "      <th>3</th>\n",
       "      <td>1/7/2008</td>\n",
       "      <td>1416.180054</td>\n",
       "      <td>84.769997</td>\n",
       "      <td>75.500000</td>\n",
       "      <td>15.053</td>\n",
       "      <td>1.468299</td>\n",
       "    </tr>\n",
       "    <tr>\n",
       "      <th>4</th>\n",
       "      <td>1/8/2008</td>\n",
       "      <td>1390.189941</td>\n",
       "      <td>86.779999</td>\n",
       "      <td>76.059998</td>\n",
       "      <td>15.590</td>\n",
       "      <td>1.557099</td>\n",
       "    </tr>\n",
       "  </tbody>\n",
       "</table>\n",
       "</div>"
      ],
      "text/plain": [
       "       Date          SPX        GLD        USO     SLV   EUR/USD\n",
       "0  1/2/2008  1447.160034  84.860001  78.470001  15.180  1.471692\n",
       "1  1/3/2008  1447.160034  85.570000  78.370003  15.285  1.474491\n",
       "2  1/4/2008  1411.630005  85.129997  77.309998  15.167  1.475492\n",
       "3  1/7/2008  1416.180054  84.769997  75.500000  15.053  1.468299\n",
       "4  1/8/2008  1390.189941  86.779999  76.059998  15.590  1.557099"
      ]
     },
     "execution_count": 2,
     "metadata": {},
     "output_type": "execute_result"
    }
   ],
   "source": [
    "# Importing the data\n",
    "\n",
    "data = pd.read_csv(r'C:\\Users\\SHREE\\Downloads\\Python CODES\\Gold Price Prediction Using Random Forest Regressor\\gld_price_data.csv')\n",
    "data.head()"
   ]
  },
  {
   "cell_type": "code",
   "execution_count": 3,
   "id": "3c2c07f4",
   "metadata": {},
   "outputs": [
    {
     "data": {
      "text/html": [
       "<div>\n",
       "<style scoped>\n",
       "    .dataframe tbody tr th:only-of-type {\n",
       "        vertical-align: middle;\n",
       "    }\n",
       "\n",
       "    .dataframe tbody tr th {\n",
       "        vertical-align: top;\n",
       "    }\n",
       "\n",
       "    .dataframe thead th {\n",
       "        text-align: right;\n",
       "    }\n",
       "</style>\n",
       "<table border=\"1\" class=\"dataframe\">\n",
       "  <thead>\n",
       "    <tr style=\"text-align: right;\">\n",
       "      <th></th>\n",
       "      <th>Date</th>\n",
       "      <th>SPX</th>\n",
       "      <th>GLD</th>\n",
       "      <th>USO</th>\n",
       "      <th>SLV</th>\n",
       "      <th>EUR/USD</th>\n",
       "    </tr>\n",
       "  </thead>\n",
       "  <tbody>\n",
       "    <tr>\n",
       "      <th>2285</th>\n",
       "      <td>5/8/2018</td>\n",
       "      <td>2671.919922</td>\n",
       "      <td>124.589996</td>\n",
       "      <td>14.0600</td>\n",
       "      <td>15.5100</td>\n",
       "      <td>1.186789</td>\n",
       "    </tr>\n",
       "    <tr>\n",
       "      <th>2286</th>\n",
       "      <td>5/9/2018</td>\n",
       "      <td>2697.790039</td>\n",
       "      <td>124.330002</td>\n",
       "      <td>14.3700</td>\n",
       "      <td>15.5300</td>\n",
       "      <td>1.184722</td>\n",
       "    </tr>\n",
       "    <tr>\n",
       "      <th>2287</th>\n",
       "      <td>5/10/2018</td>\n",
       "      <td>2723.070068</td>\n",
       "      <td>125.180000</td>\n",
       "      <td>14.4100</td>\n",
       "      <td>15.7400</td>\n",
       "      <td>1.191753</td>\n",
       "    </tr>\n",
       "    <tr>\n",
       "      <th>2288</th>\n",
       "      <td>5/14/2018</td>\n",
       "      <td>2730.129883</td>\n",
       "      <td>124.489998</td>\n",
       "      <td>14.3800</td>\n",
       "      <td>15.5600</td>\n",
       "      <td>1.193118</td>\n",
       "    </tr>\n",
       "    <tr>\n",
       "      <th>2289</th>\n",
       "      <td>5/16/2018</td>\n",
       "      <td>2725.780029</td>\n",
       "      <td>122.543800</td>\n",
       "      <td>14.4058</td>\n",
       "      <td>15.4542</td>\n",
       "      <td>1.182033</td>\n",
       "    </tr>\n",
       "  </tbody>\n",
       "</table>\n",
       "</div>"
      ],
      "text/plain": [
       "           Date          SPX         GLD      USO      SLV   EUR/USD\n",
       "2285   5/8/2018  2671.919922  124.589996  14.0600  15.5100  1.186789\n",
       "2286   5/9/2018  2697.790039  124.330002  14.3700  15.5300  1.184722\n",
       "2287  5/10/2018  2723.070068  125.180000  14.4100  15.7400  1.191753\n",
       "2288  5/14/2018  2730.129883  124.489998  14.3800  15.5600  1.193118\n",
       "2289  5/16/2018  2725.780029  122.543800  14.4058  15.4542  1.182033"
      ]
     },
     "execution_count": 3,
     "metadata": {},
     "output_type": "execute_result"
    }
   ],
   "source": [
    "# Last 5 rows of data\n",
    "\n",
    "data.tail()"
   ]
  },
  {
   "cell_type": "code",
   "execution_count": 4,
   "id": "1e241067",
   "metadata": {},
   "outputs": [
    {
     "data": {
      "text/plain": [
       "(2290, 6)"
      ]
     },
     "execution_count": 4,
     "metadata": {},
     "output_type": "execute_result"
    }
   ],
   "source": [
    "# Checking shape of dataframe\n",
    "\n",
    "data.shape"
   ]
  },
  {
   "cell_type": "code",
   "execution_count": 5,
   "id": "7e92d74c",
   "metadata": {},
   "outputs": [
    {
     "name": "stdout",
     "output_type": "stream",
     "text": [
      "<class 'pandas.core.frame.DataFrame'>\n",
      "RangeIndex: 2290 entries, 0 to 2289\n",
      "Data columns (total 6 columns):\n",
      " #   Column   Non-Null Count  Dtype  \n",
      "---  ------   --------------  -----  \n",
      " 0   Date     2290 non-null   object \n",
      " 1   SPX      2290 non-null   float64\n",
      " 2   GLD      2290 non-null   float64\n",
      " 3   USO      2290 non-null   float64\n",
      " 4   SLV      2290 non-null   float64\n",
      " 5   EUR/USD  2290 non-null   float64\n",
      "dtypes: float64(5), object(1)\n",
      "memory usage: 107.5+ KB\n"
     ]
    }
   ],
   "source": [
    "# Getting basic information about data\n",
    "\n",
    "data.info()"
   ]
  },
  {
   "cell_type": "code",
   "execution_count": 6,
   "id": "c5a2e6fa",
   "metadata": {},
   "outputs": [
    {
     "data": {
      "text/plain": [
       "Date       0\n",
       "SPX        0\n",
       "GLD        0\n",
       "USO        0\n",
       "SLV        0\n",
       "EUR/USD    0\n",
       "dtype: int64"
      ]
     },
     "execution_count": 6,
     "metadata": {},
     "output_type": "execute_result"
    }
   ],
   "source": [
    "# Checking number of missing values\n",
    "\n",
    "data.isnull().sum()"
   ]
  },
  {
   "cell_type": "code",
   "execution_count": 7,
   "id": "b8917618",
   "metadata": {},
   "outputs": [
    {
     "data": {
      "text/html": [
       "<div>\n",
       "<style scoped>\n",
       "    .dataframe tbody tr th:only-of-type {\n",
       "        vertical-align: middle;\n",
       "    }\n",
       "\n",
       "    .dataframe tbody tr th {\n",
       "        vertical-align: top;\n",
       "    }\n",
       "\n",
       "    .dataframe thead th {\n",
       "        text-align: right;\n",
       "    }\n",
       "</style>\n",
       "<table border=\"1\" class=\"dataframe\">\n",
       "  <thead>\n",
       "    <tr style=\"text-align: right;\">\n",
       "      <th></th>\n",
       "      <th>SPX</th>\n",
       "      <th>GLD</th>\n",
       "      <th>USO</th>\n",
       "      <th>SLV</th>\n",
       "      <th>EUR/USD</th>\n",
       "    </tr>\n",
       "  </thead>\n",
       "  <tbody>\n",
       "    <tr>\n",
       "      <th>count</th>\n",
       "      <td>2290.000000</td>\n",
       "      <td>2290.000000</td>\n",
       "      <td>2290.000000</td>\n",
       "      <td>2290.000000</td>\n",
       "      <td>2290.000000</td>\n",
       "    </tr>\n",
       "    <tr>\n",
       "      <th>mean</th>\n",
       "      <td>1654.315776</td>\n",
       "      <td>122.732875</td>\n",
       "      <td>31.842221</td>\n",
       "      <td>20.084997</td>\n",
       "      <td>1.283653</td>\n",
       "    </tr>\n",
       "    <tr>\n",
       "      <th>std</th>\n",
       "      <td>519.111540</td>\n",
       "      <td>23.283346</td>\n",
       "      <td>19.523517</td>\n",
       "      <td>7.092566</td>\n",
       "      <td>0.131547</td>\n",
       "    </tr>\n",
       "    <tr>\n",
       "      <th>min</th>\n",
       "      <td>676.530029</td>\n",
       "      <td>70.000000</td>\n",
       "      <td>7.960000</td>\n",
       "      <td>8.850000</td>\n",
       "      <td>1.039047</td>\n",
       "    </tr>\n",
       "    <tr>\n",
       "      <th>25%</th>\n",
       "      <td>1239.874969</td>\n",
       "      <td>109.725000</td>\n",
       "      <td>14.380000</td>\n",
       "      <td>15.570000</td>\n",
       "      <td>1.171313</td>\n",
       "    </tr>\n",
       "    <tr>\n",
       "      <th>50%</th>\n",
       "      <td>1551.434998</td>\n",
       "      <td>120.580002</td>\n",
       "      <td>33.869999</td>\n",
       "      <td>17.268500</td>\n",
       "      <td>1.303297</td>\n",
       "    </tr>\n",
       "    <tr>\n",
       "      <th>75%</th>\n",
       "      <td>2073.010070</td>\n",
       "      <td>132.840004</td>\n",
       "      <td>37.827501</td>\n",
       "      <td>22.882500</td>\n",
       "      <td>1.369971</td>\n",
       "    </tr>\n",
       "    <tr>\n",
       "      <th>max</th>\n",
       "      <td>2872.870117</td>\n",
       "      <td>184.589996</td>\n",
       "      <td>117.480003</td>\n",
       "      <td>47.259998</td>\n",
       "      <td>1.598798</td>\n",
       "    </tr>\n",
       "  </tbody>\n",
       "</table>\n",
       "</div>"
      ],
      "text/plain": [
       "               SPX          GLD          USO          SLV      EUR/USD\n",
       "count  2290.000000  2290.000000  2290.000000  2290.000000  2290.000000\n",
       "mean   1654.315776   122.732875    31.842221    20.084997     1.283653\n",
       "std     519.111540    23.283346    19.523517     7.092566     0.131547\n",
       "min     676.530029    70.000000     7.960000     8.850000     1.039047\n",
       "25%    1239.874969   109.725000    14.380000    15.570000     1.171313\n",
       "50%    1551.434998   120.580002    33.869999    17.268500     1.303297\n",
       "75%    2073.010070   132.840004    37.827501    22.882500     1.369971\n",
       "max    2872.870117   184.589996   117.480003    47.259998     1.598798"
      ]
     },
     "execution_count": 7,
     "metadata": {},
     "output_type": "execute_result"
    }
   ],
   "source": [
    "# Statistical measures of data\n",
    "\n",
    "data.describe()"
   ]
  },
  {
   "cell_type": "markdown",
   "id": "d89c915f",
   "metadata": {},
   "source": [
    "Correlation between Various Features of Data"
   ]
  },
  {
   "cell_type": "code",
   "execution_count": 8,
   "id": "6a13be43",
   "metadata": {},
   "outputs": [],
   "source": [
    "corr = data.corr()"
   ]
  },
  {
   "cell_type": "code",
   "execution_count": 10,
   "id": "210424f8",
   "metadata": {},
   "outputs": [
    {
     "data": {
      "text/plain": [
       "<AxesSubplot:>"
      ]
     },
     "execution_count": 10,
     "metadata": {},
     "output_type": "execute_result"
    },
    {
     "data": {
      "image/png": "[encoded data removed]",
      "text/plain": [
       "<Figure size 576x576 with 2 Axes>"
      ]
     },
     "metadata": {
      "needs_background": "light"
     },
     "output_type": "display_data"
    }
   ],
   "source": [
    "# Creating heatmap to understand the correlation\n",
    "\n",
    "plt.figure(figsize = (8,8))\n",
    "sns.heatmap(corr, cbar = True, square = True, fmt = '.1f', annot = True, annot_kws = {'size':8}, cmap = 'Blues')"
   ]
  },
  {
   "cell_type": "markdown",
   "id": "97c1eae8",
   "metadata": {},
   "source": [
    "Inference from above graph -\n",
    "\n",
    "As we are going to predict the gold price (GLD), its our target variable. GLD has positive correlation with silver (SLV), GLD has very low correlation with SPX & GLD has negative correlation with other variables. "
   ]
  },
  {
   "cell_type": "code",
   "execution_count": 11,
   "id": "c4ade188",
   "metadata": {},
   "outputs": [
    {
     "name": "stdout",
     "output_type": "stream",
     "text": [
      "SPX        0.049345\n",
      "GLD        1.000000\n",
      "USO       -0.186360\n",
      "SLV        0.866632\n",
      "EUR/USD   -0.024375\n",
      "Name: GLD, dtype: float64\n"
     ]
    }
   ],
   "source": [
    "# Correlation values of GLD\n",
    "\n",
    "print(corr['GLD'])"
   ]
  },
  {
   "cell_type": "code",
   "execution_count": 13,
   "id": "15d51e1a",
   "metadata": {},
   "outputs": [
    {
     "data": {
      "text/plain": [
       "<AxesSubplot:xlabel='GLD', ylabel='Density'>"
      ]
     },
     "execution_count": 13,
     "metadata": {},
     "output_type": "execute_result"
    },
    {
     "data": {
      "image/png": "[encoded data removed]",
      "text/plain": [
       "<Figure size 432x288 with 1 Axes>"
      ]
     },
     "metadata": {
      "needs_background": "light"
     },
     "output_type": "display_data"
    }
   ],
   "source": [
    "# Checking the distribution of gold price\n",
    "\n",
    "sns.distplot(data['GLD'], color = 'green')"
   ]
  },
  {
   "cell_type": "markdown",
   "id": "64834cca",
   "metadata": {},
   "source": [
    "Inference from above graph -\n",
    "\n",
    "We have majority of density values lying in the range of 120"
   ]
  },
  {
   "cell_type": "markdown",
   "id": "f8b1bdb6",
   "metadata": {},
   "source": [
    "Splitting features & target"
   ]
  },
  {
   "cell_type": "code",
   "execution_count": 14,
   "id": "7f250689",
   "metadata": {},
   "outputs": [],
   "source": [
    "x = data.drop(['Date', 'GLD'], axis = 1)\n",
    "y = data['GLD']"
   ]
  },
  {
   "cell_type": "code",
   "execution_count": 15,
   "id": "5d537228",
   "metadata": {},
   "outputs": [
    {
     "name": "stdout",
     "output_type": "stream",
     "text": [
      "              SPX        USO      SLV   EUR/USD\n",
      "0     1447.160034  78.470001  15.1800  1.471692\n",
      "1     1447.160034  78.370003  15.2850  1.474491\n",
      "2     1411.630005  77.309998  15.1670  1.475492\n",
      "3     1416.180054  75.500000  15.0530  1.468299\n",
      "4     1390.189941  76.059998  15.5900  1.557099\n",
      "...           ...        ...      ...       ...\n",
      "2285  2671.919922  14.060000  15.5100  1.186789\n",
      "2286  2697.790039  14.370000  15.5300  1.184722\n",
      "2287  2723.070068  14.410000  15.7400  1.191753\n",
      "2288  2730.129883  14.380000  15.5600  1.193118\n",
      "2289  2725.780029  14.405800  15.4542  1.182033\n",
      "\n",
      "[2290 rows x 4 columns]\n"
     ]
    }
   ],
   "source": [
    "print(x)"
   ]
  },
  {
   "cell_type": "code",
   "execution_count": 16,
   "id": "a05c7e10",
   "metadata": {},
   "outputs": [
    {
     "name": "stdout",
     "output_type": "stream",
     "text": [
      "0        84.860001\n",
      "1        85.570000\n",
      "2        85.129997\n",
      "3        84.769997\n",
      "4        86.779999\n",
      "           ...    \n",
      "2285    124.589996\n",
      "2286    124.330002\n",
      "2287    125.180000\n",
      "2288    124.489998\n",
      "2289    122.543800\n",
      "Name: GLD, Length: 2290, dtype: float64\n"
     ]
    }
   ],
   "source": [
    "print(y)"
   ]
  },
  {
   "cell_type": "markdown",
   "id": "df85b0a9",
   "metadata": {},
   "source": [
    "Splitting the data into Train & Test"
   ]
  },
  {
   "cell_type": "code",
   "execution_count": 18,
   "id": "0d4a96a9",
   "metadata": {},
   "outputs": [],
   "source": [
    "x_train, x_test, y_train, y_test = train_test_split(x, y, test_size = 0.2, random_state = 2)"
   ]
  },
  {
   "cell_type": "code",
   "execution_count": 19,
   "id": "5bed3df6",
   "metadata": {},
   "outputs": [
    {
     "name": "stdout",
     "output_type": "stream",
     "text": [
      "(2290, 4) (1832, 4) (458, 4)\n"
     ]
    }
   ],
   "source": [
    "print(x.shape, x_train.shape, x_test.shape)"
   ]
  },
  {
   "cell_type": "markdown",
   "id": "3b823654",
   "metadata": {},
   "source": [
    "Model Training\n",
    "\n",
    "Random Forest Regressor - Its an ensemble model means it consist more than 1 tree joined together, it is an ensemble model of decision trees. Nodes classifies the variables on certain range & based on the value of variable it passes to it to different nodes. There will be n number of decision trees in random forest, we will get different valus from trees & based on the mean, median or mode random forest will gives us the predicted value."
   ]
  },
  {
   "cell_type": "code",
   "execution_count": 20,
   "id": "513d81b8",
   "metadata": {},
   "outputs": [],
   "source": [
    "reg = RandomForestRegressor(n_estimators=100)"
   ]
  },
  {
   "cell_type": "code",
   "execution_count": 21,
   "id": "e796bbb5",
   "metadata": {},
   "outputs": [
    {
     "data": {
      "text/plain": [
       "RandomForestRegressor()"
      ]
     },
     "execution_count": 21,
     "metadata": {},
     "output_type": "execute_result"
    }
   ],
   "source": [
    "# Training the model\n",
    "\n",
    "reg.fit(x_train, y_train)"
   ]
  },
  {
   "cell_type": "markdown",
   "id": "856b7679",
   "metadata": {},
   "source": [
    "Model Evaluation"
   ]
  },
  {
   "cell_type": "code",
   "execution_count": 22,
   "id": "3e7c5d95",
   "metadata": {},
   "outputs": [
    {
     "name": "stdout",
     "output_type": "stream",
     "text": [
      "[168.69189972  81.95889985 115.95130014 127.45970073 120.65160117\n",
      " 154.65539763 150.19369898 126.13650065 117.54239873 125.92890068\n",
      " 116.77810093 171.36880065 141.76609886 168.08659893 115.16820008\n",
      " 117.79140014 136.90700364 170.25480077 159.33640281 160.37179892\n",
      " 155.14469993 125.48270022 175.41089884 157.29060307 125.1990005\n",
      "  93.9828996   77.76190008 120.33329994 119.04439909 167.4379996\n",
      "  88.19780059 125.22290042  90.93290049 117.35610035 121.16549894\n",
      " 136.35900125 115.765001   115.22240064 147.40120001 107.15070108\n",
      " 103.92080234  87.28499811 126.5234005  117.83740007 152.90559911\n",
      " 119.69419978 108.28360011 108.11609838  93.05190072 127.08359798\n",
      "  74.62780058 113.68939934 121.6514001  111.00089923 118.91609881\n",
      " 120.56269947 159.39030023 168.76520132 147.13499708  85.90429874\n",
      "  94.15470021  86.74089895  90.40839995 118.92190047 126.39640048\n",
      " 127.47420017 170.80590064 122.33659934 117.57129872  99.07270036\n",
      " 168.59060113 142.85969825 132.81130187 121.20910225 121.33219914\n",
      " 119.62890043 114.45670163 118.27000045 107.08900091 127.96800043\n",
      " 113.86550005 107.40789994 117.05200064 119.61479898  89.15670043\n",
      "  88.32339862 146.64540236 127.29000039 113.64610035 109.91929828\n",
      " 108.08399893  77.93519899 169.49740171 113.95229902 121.72809874\n",
      " 128.2338022  154.91719846  91.79529964 135.63200065 159.05970312\n",
      " 125.52500046 125.25390069 130.61750155 114.93060122 119.90089998\n",
      "  92.11609989 110.60729866 167.95499977 156.35369997 113.98709928\n",
      " 106.53470133  80.1503995  113.27450029 125.93760065 107.30589964\n",
      " 119.44380098 155.06750363 160.03090001 120.38649973 135.33360271\n",
      " 101.51379984 117.60999806 119.18160006 112.96380085 102.76609899\n",
      " 160.48249846  98.88710023 148.16359991 125.90700088 169.70319935\n",
      " 125.90059889 127.28439768 127.5609023  113.66069913 113.1010005\n",
      " 123.7494989  102.13279924  89.38649972 124.51579944 101.37109964\n",
      " 107.20499944 113.6673006  117.32460045  99.26239964 121.51290064\n",
      " 163.26580006  87.44169875 106.73029988 117.07930061 127.80400118\n",
      " 124.06580053  80.65919885 120.58150071 158.36709858  88.11209974\n",
      " 110.32039922 118.83589903 171.86109886 103.07549912 105.80570056\n",
      " 122.1485003  158.22259843  87.71779814  93.1764003  113.00970026\n",
      " 176.90329913 114.6908997  119.12710027  94.83840094 125.84370101\n",
      " 166.08970107 114.81750071 116.75350119  88.40019872 148.40840005\n",
      " 120.49249947  89.5361994  111.84360019 117.30120066 118.75690135\n",
      "  88.03999972  94.11790004 116.95930061 118.56260179 120.43880049\n",
      " 126.62669851 121.7649     150.25209987 164.24790037 118.57219956\n",
      " 120.51590132 150.57430047 118.26759934 172.23779915 106.02639931\n",
      " 104.92900146 149.16100048 113.53570095 124.83060096 147.483499\n",
      " 119.5984013  115.19630042 112.32560014 113.58240208 141.10990103\n",
      " 117.90939775 102.90620033 116.04660114 103.7846019   99.0045006\n",
      " 117.23670066  90.76840007  91.46220056 153.52639884 102.85359981\n",
      " 154.73530096 114.41030149 138.41450093  90.25549851 115.54819932\n",
      " 114.31449978 122.68760078 121.7227003  165.32420161  92.83379942\n",
      " 136.00060168 121.36049924 120.82640046 104.76060027 141.00140294\n",
      " 121.56289901 116.61220034 113.48300105 127.0204979  122.56719948\n",
      " 125.76569914 121.21780058  86.82409936 132.53980154 144.16950208\n",
      "  92.69379957 158.28679985 159.54390246 125.86169987 164.95800002\n",
      " 108.92769979 109.32240099 103.69649854  94.52670044 127.98230315\n",
      " 107.1108008  161.27400003 121.56430066 132.00219987 130.56890125\n",
      " 161.07829997  90.28489849 174.80500129 127.88700033 126.63909902\n",
      "  86.42599943 124.6453992  150.81369716  89.72809969 106.93649972\n",
      " 109.10249989  84.21049906 136.15249991 154.84160189 139.00630344\n",
      "  74.40140032 152.19930176 125.44359987 126.77440007 127.50399896\n",
      " 108.55119914 156.34459988 114.49390131 116.92070171 125.47699942\n",
      " 154.11160169 121.29799971 156.4134983   92.80340065 125.61710183\n",
      " 125.6503005   87.89060042  92.07149908 126.24259917 128.41680398\n",
      " 113.0222008  117.53929719 120.90830007 127.07129809 119.81690109\n",
      " 136.80180118  93.92189928 119.74490037 113.47130116  94.30609941\n",
      " 108.89599961  86.72919884 109.04739963  89.60919985  92.2457002\n",
      " 131.679003   162.45880091  89.33530029 119.78730082 133.52490207\n",
      " 124.05000014 128.48780243 102.03169862  88.96169875 131.14800022\n",
      " 119.92660029 108.35040024 168.9908011  115.2469004   86.62709909\n",
      " 118.91530065  90.9201996  161.95070102 116.50070048 121.61349993\n",
      " 160.30279806 120.0251994  112.76379917 108.53599866 126.7322\n",
      "  76.20620038 103.03569987 127.87600266 121.85749944  92.60280014\n",
      " 132.54220083 118.50700127 116.02119988 154.442503   159.21430115\n",
      " 110.16799993 154.87659804 119.30390089 160.4594013  118.69810084\n",
      " 158.3376983  115.15579941 116.74940012 149.53769946 114.77730089\n",
      " 125.63779876 166.4763994  117.75569993 125.08449951 153.23480349\n",
      " 153.6121023  131.97520047 114.77420044 121.22830187 125.25320071\n",
      "  89.62270068 123.24440031 154.98990161 111.63880028 106.70879988\n",
      " 161.19250123 118.3906997  165.73479946 134.10000125 115.00549962\n",
      " 153.0454991  168.59570067 114.0283003  114.02180124 158.68509953\n",
      "  85.38779907 127.12720051 128.10940077 128.8214995  124.32480079\n",
      " 124.06900075  90.48940052 153.10760039  97.0575999  138.22900029\n",
      "  89.10429905 107.3559002  115.07030059 112.69400103 124.45799911\n",
      "  91.40619849 125.26560114 162.4168988  120.00799882 165.19870089\n",
      " 126.70669827 112.33670002 127.57309943  95.04569872  91.43239943\n",
      " 103.33539917 120.80499987  83.24669942 126.37199959 160.09840479\n",
      " 117.22040107 118.15469991 119.63950013 122.33689955 120.08480145\n",
      " 121.61670006 117.93980039 107.11999991 148.17859949 126.42119854\n",
      " 115.7013008   74.01279992 127.79730092 154.27980046 122.52300002\n",
      " 125.59560071  88.89960048 103.75369876 124.90940043 120.26070037\n",
      "  73.40990094 151.78250012 121.4989002  104.55280031  86.73319777\n",
      " 114.84929893 172.09779818 120.01730047 159.67599819 113.28819928\n",
      " 120.86570015 118.79530137  95.98729983 118.82500059 125.8757006\n",
      " 118.44859943  95.84840048 154.08650154 122.2605999  148.17499941\n",
      " 159.6347028  113.39509976 122.64809916 150.22809836 127.28360019\n",
      " 165.82870042 135.97409955 120.20269964 167.43399892 108.18399944\n",
      " 121.86689814 138.55270083 105.85369881]\n"
     ]
    }
   ],
   "source": [
    "# Prediction on test data\n",
    "\n",
    "test_data_predict = reg.predict(x_test)\n",
    "print(test_data_predict)"
   ]
  },
  {
   "cell_type": "code",
   "execution_count": 23,
   "id": "feca23a2",
   "metadata": {},
   "outputs": [
    {
     "name": "stdout",
     "output_type": "stream",
     "text": [
      "R Squared Error : 0.9896861959863978\n"
     ]
    }
   ],
   "source": [
    "# R Squared Error\n",
    "\n",
    "error_score = metrics.r2_score(y_test, test_data_predict)\n",
    "print('R Squared Error :', error_score)"
   ]
  },
  {
   "cell_type": "markdown",
   "id": "2d1e0c56",
   "metadata": {},
   "source": [
    "Comparing the actual values & predicted valus"
   ]
  },
  {
   "cell_type": "code",
   "execution_count": 24,
   "id": "b10be5db",
   "metadata": {},
   "outputs": [],
   "source": [
    "y_test = list(y_test)"
   ]
  },
  {
   "cell_type": "code",
   "execution_count": 25,
   "id": "4c42e887",
   "metadata": {},
   "outputs": [
    {
     "data": {
      "image/png": "[encoded data removed]",
      "text/plain": [
       "<Figure size 432x288 with 1 Axes>"
      ]
     },
     "metadata": {
      "needs_background": "light"
     },
     "output_type": "display_data"
    }
   ],
   "source": [
    "plt.plot(y_test, color = 'blue', label = 'Actual Values')\n",
    "plt.plot(test_data_predict, color = 'green', label = 'Predicted Values')\n",
    "plt.title('Actual Price vs Predicted Price')\n",
    "plt.xlabel('Number of Values')\n",
    "plt.ylabel('GLD Price')\n",
    "plt.legend()\n",
    "plt.show()"
   ]
  },
  {
   "cell_type": "markdown",
   "id": "12691327",
   "metadata": {},
   "source": [
    "CONCLUSION - \n",
    "\n",
    "Our model is predicting the values very closely, our model is good for prediction."
   ]
  }
 ],
 "metadata": {
  "kernelspec": {
   "display_name": "Python 3 (ipykernel)",
   "language": "python",
   "name": "python3"
  },
  "language_info": {
   "codemirror_mode": {
    "name": "ipython",
    "version": 3
   },
   "file_extension": ".py",
   "mimetype": "text/x-python",
   "name": "python",
   "nbconvert_exporter": "python",
   "pygments_lexer": "ipython3",
   "version": "3.8.8"
  }
 },
 "nbformat": 4,
 "nbformat_minor": 5
}
