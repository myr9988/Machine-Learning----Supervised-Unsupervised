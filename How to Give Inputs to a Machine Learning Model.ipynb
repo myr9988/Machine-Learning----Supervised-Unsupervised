{
 "cells": [
  {
   "cell_type": "markdown",
   "id": "0845ca18",
   "metadata": {},
   "source": [
    "One of the mistakes data science newbies make while working on a machine learning project is that they train a machine learning model, check its accuracy score, and then complete the project. They do not test the performance of the model by giving inputs to the model based on the features they used to train it. "
   ]
  },
  {
   "cell_type": "markdown",
   "id": "1614f9dc",
   "metadata": {},
   "source": [
    "Every data science professional should know about giving inputs to a machine learning model. It helps in calculating the predicted value based on the input values. Most data science beginners skip this step while creating a machine learning project.\n",
    "\n",
    "To give inputs to a machine learning model, you have to create a NumPy array, where you have to input the values of the features you used to train your machine learning model. Then we can use that array in the model.predict() method, and at the end, it will give the predicted value as an output based on the inputs.\n",
    "\n",
    "Now let’s learn about giving inputs to a machine learning model with an example using Python. Here I will first train a classification model on the famous Iris dataset, and then, in the end, I will input the values of the features (sepal_length, sepal_width, petal_length, petal_width) to the model to see the predicted output based on the inputs:"
   ]
  },
  {
   "cell_type": "code",
   "execution_count": 1,
   "id": "63ca8baa",
   "metadata": {},
   "outputs": [
    {
     "name": "stdout",
     "output_type": "stream",
     "text": [
      "Prediction: ['Iris-setosa']\n"
     ]
    },
    {
     "name": "stderr",
     "output_type": "stream",
     "text": [
      "C:\\Users\\SHREE\\anaconda3\\lib\\site-packages\\sklearn\\base.py:450: UserWarning: X does not have valid feature names, but KNeighborsClassifier was fitted with feature names\n",
      "  warnings.warn(\n"
     ]
    }
   ],
   "source": [
    "import pandas as pd\n",
    "import numpy as np\n",
    "iris = pd.read_csv(\"https://raw.githubusercontent.com/amankharwal/Website-data/master/IRIS.csv\")\n",
    "# splitting the dataset\n",
    "x = iris.drop(\"species\", axis=1)\n",
    "y = iris[\"species\"]\n",
    "from sklearn.model_selection import train_test_split\n",
    "x_train, x_test, y_train, y_test = train_test_split(x, y, \n",
    "                                                    test_size=0.2, \n",
    "                                                    random_state=0)\n",
    "# training the model\n",
    "from sklearn.neighbors import KNeighborsClassifier\n",
    "knn = KNeighborsClassifier(n_neighbors=1)\n",
    "knn.fit(x_train, y_train)\n",
    "# giving inputs to the machine learning model\n",
    "# features = [[sepal_length, sepal_width, petal_length, petal_width]]\n",
    "features = np.array([[5, 2.9, 1, 0.2]])\n",
    "# using inputs to predict the output\n",
    "prediction = knn.predict(features)\n",
    "print(\"Prediction: {}\".format(prediction))"
   ]
  },
  {
   "cell_type": "markdown",
   "id": "6c9d01ec",
   "metadata": {},
   "source": [
    "So this is how you can give inputs to a model to calculate the predicted value based on the input values."
   ]
  },
  {
   "cell_type": "markdown",
   "id": "66d847ad",
   "metadata": {},
   "source": [
    "## Summary"
   ]
  },
  {
   "cell_type": "markdown",
   "id": "2be33795",
   "metadata": {},
   "source": [
    "Every data science professional should know about giving inputs to a machine learning model. It helps in calculating the predicted value based on the input values."
   ]
  }
 ],
 "metadata": {
  "kernelspec": {
   "display_name": "Python 3 (ipykernel)",
   "language": "python",
   "name": "python3"
  },
  "language_info": {
   "codemirror_mode": {
    "name": "ipython",
    "version": 3
   },
   "file_extension": ".py",
   "mimetype": "text/x-python",
   "name": "python",
   "nbconvert_exporter": "python",
   "pygments_lexer": "ipython3",
   "version": "3.8.8"
  }
 },
 "nbformat": 4,
 "nbformat_minor": 5
}
