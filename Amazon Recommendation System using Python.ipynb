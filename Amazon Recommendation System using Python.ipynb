{
 "cells": [
  {
   "cell_type": "markdown",
   "id": "f34b9b47",
   "metadata": {},
   "source": [
    "Recommendation Systems are one of the widely used applications of Data Science in most companies based on products and online services. Amazon is a great example of such companies. Being an online shopping website Amazon needs to generate personalised recommendations to provide a better user experience."
   ]
  },
  {
   "cell_type": "markdown",
   "id": "db435860",
   "metadata": {},
   "source": [
    "## Amazon Recommendation System"
   ]
  },
  {
   "cell_type": "markdown",
   "id": "0a4b18df",
   "metadata": {},
   "source": [
    "The Recommendation System of Amazon follows the principle of generating product based recommendations which means measuring the similarities between two products and then recommend the most similar products to each user. The methods of measuring similarities between two products have always been a major focus of researchers.\n",
    "\n",
    "But when it comes to a website like Amazon, it needs to add more criteria to recommend products to the users such as the quality of the product. A good quality product will always have a good collection of reviews so we can use both the similarity score and product reviews to generate recommendations."
   ]
  },
  {
   "cell_type": "markdown",
   "id": "098773c2",
   "metadata": {},
   "source": [
    "I will try to use the fewer Python libraries I can for creating this recommendation system. To work with data I will be using only pandas and NumPy library in Python. So let’s import the data and see how to create an Amazon Recommendation System using Python:"
   ]
  },
  {
   "cell_type": "code",
   "execution_count": 5,
   "id": "87ef8305",
   "metadata": {},
   "outputs": [
    {
     "name": "stdout",
     "output_type": "stream",
     "text": [
      "    AKM1MP6P0OYPR  0132793040  5.0    1365811200\n",
      "0  A2CX7LUOHB2NDG  0321732944  5.0  1.341101e+09\n",
      "1  A2NWSAGRHCP8N5  0439886341  1.0  1.367194e+09\n",
      "2  A2WNBOD3WNDNKT  0439886341  3.0  1.374451e+09\n",
      "3  A1GI0U4ZRJA8WN  0439886341  1.0  1.334707e+09\n",
      "4  A1QGNMC6O1VW39  0511189877  5.0  1.397434e+09\n"
     ]
    }
   ],
   "source": [
    "import numpy as np\n",
    "import pandas as pd\n",
    "\n",
    "data = pd.read_csv(\"E:/Amazon Recommendation System using Python/amazon.csv\")\n",
    "print(data.head())"
   ]
  },
  {
   "cell_type": "markdown",
   "id": "2dba01ed",
   "metadata": {},
   "source": [
    "The dataset that I am using here does not have columns names, so let’s give the most appropriate names to these columns:"
   ]
  },
  {
   "cell_type": "code",
   "execution_count": 6,
   "id": "2aa472fd",
   "metadata": {},
   "outputs": [],
   "source": [
    "data.columns = ['user_id', 'product_id','ratings','timestamp']"
   ]
  },
  {
   "cell_type": "markdown",
   "id": "d4f8c1e6",
   "metadata": {},
   "source": [
    "This dataset is very large so I will select a sample:"
   ]
  },
  {
   "cell_type": "code",
   "execution_count": 7,
   "id": "8a6a6610",
   "metadata": {},
   "outputs": [],
   "source": [
    "df = data[:int(len(data) * .1)]"
   ]
  },
  {
   "cell_type": "markdown",
   "id": "b91c41c2",
   "metadata": {},
   "source": [
    "Now let’s prepare the dataset for creating a recommendation system:"
   ]
  },
  {
   "cell_type": "code",
   "execution_count": 8,
   "id": "e910823c",
   "metadata": {},
   "outputs": [],
   "source": [
    "counts = df['user_id'].value_counts()\n",
    "data = df[df['user_id'].isin(counts[counts >= 50].index)]\n",
    "data.groupby('product_id')['ratings'].mean().sort_values(ascending=False) \n",
    "final_ratings = data.pivot(index = 'user_id', columns ='product_id', values = 'ratings').fillna(0)\n",
    "\n",
    "num_of_ratings = np.count_nonzero(final_ratings)\n",
    "possible_ratings = final_ratings.shape[0] * final_ratings.shape[1]\n",
    "density = (num_of_ratings/possible_ratings)\n",
    "density *= 100\n",
    "final_ratings_T = final_ratings.transpose()\n",
    "\n",
    "grouped = data.groupby('product_id').agg({'user_id': 'count'}).reset_index()\n",
    "grouped.rename(columns = {'user_id': 'score'},inplace=True)\n",
    "training_data = grouped.sort_values(['score', 'product_id'], ascending = [0,1]) \n",
    "training_data['Rank'] = training_data['score'].rank(ascending=0, method='first') \n",
    "recommendations = training_data.head()"
   ]
  },
  {
   "cell_type": "markdown",
   "id": "b44e5ae2",
   "metadata": {},
   "source": [
    "Now I will write a Python function to generate recommendations based on the score of the product reviews:"
   ]
  },
  {
   "cell_type": "code",
   "execution_count": 9,
   "id": "a2b7e91e",
   "metadata": {},
   "outputs": [
    {
     "name": "stdout",
     "output_type": "stream",
     "text": [
      "      user_id  product_id  score  Rank\n",
      "113        11  B00004SB92      6   1.0\n",
      "1099       11  B00008OE6I      5   2.0\n",
      "368        11  B00005AW1H      4   3.0\n",
      "612        11  B0000645C9      4   4.0\n",
      "976        11  B00007KDVI      4   5.0\n"
     ]
    },
    {
     "name": "stderr",
     "output_type": "stream",
     "text": [
      "C:\\Users\\SHREE\\AppData\\Local\\Temp/ipykernel_8496/18724662.py:3: SettingWithCopyWarning: \n",
      "A value is trying to be set on a copy of a slice from a DataFrame.\n",
      "Try using .loc[row_indexer,col_indexer] = value instead\n",
      "\n",
      "See the caveats in the documentation: https://pandas.pydata.org/pandas-docs/stable/user_guide/indexing.html#returning-a-view-versus-a-copy\n",
      "  recommend_products['user_id'] = id\n"
     ]
    }
   ],
   "source": [
    "def recommend(id):     \n",
    "    recommend_products = recommendations \n",
    "    recommend_products['user_id'] = id \n",
    "    column = recommend_products.columns.tolist() \n",
    "    column = column[-1:] + column[:-1] \n",
    "    recommend_products = recommend_products[column] \n",
    "    return recommend_products \n",
    "\n",
    "print(recommend(11))"
   ]
  },
  {
   "cell_type": "markdown",
   "id": "723e7df7",
   "metadata": {},
   "source": [
    "## Summary"
   ]
  },
  {
   "cell_type": "markdown",
   "id": "1a1e6687",
   "metadata": {},
   "source": [
    "This is how we can create an Amazon Recommender System using Python. This dataset does not have names of products in it, it only had product id so the score of the product reviews becomes the most important feature for such kinds of datasets."
   ]
  }
 ],
 "metadata": {
  "kernelspec": {
   "display_name": "Python 3 (ipykernel)",
   "language": "python",
   "name": "python3"
  },
  "language_info": {
   "codemirror_mode": {
    "name": "ipython",
    "version": 3
   },
   "file_extension": ".py",
   "mimetype": "text/x-python",
   "name": "python",
   "nbconvert_exporter": "python",
   "pygments_lexer": "ipython3",
   "version": "3.8.8"
  }
 },
 "nbformat": 4,
 "nbformat_minor": 5
}
