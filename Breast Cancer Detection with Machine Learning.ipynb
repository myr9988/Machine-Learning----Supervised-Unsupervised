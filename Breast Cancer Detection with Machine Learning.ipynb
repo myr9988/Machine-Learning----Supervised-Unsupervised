{
 "cells": [
  {
   "cell_type": "markdown",
   "id": "7253f604",
   "metadata": {},
   "source": [
    "Over the past decades, machine learning techniques have been widely used in intelligent health systems, particularly for breast cancer diagnosis and prognosis. In this project, I will walk you through how to create a breast cancer detection model using machine learning and the Python programming language."
   ]
  },
  {
   "cell_type": "markdown",
   "id": "e9a8aa79",
   "metadata": {},
   "source": [
    "Breast cancer is one of the most common cancers in women globally, accounting for the majority of new cancer cases and cancer-related deaths according to global statistics, making it a major public health problem in the world.\n",
    "\n",
    "Early diagnosis of breast cancer can dramatically improve prognosis and chances of survival, as it can promote timely clinical treatment of patients. More precise classification of benign tumours can prevent patients from undergoing unnecessary treatments."
   ]
  },
  {
   "cell_type": "markdown",
   "id": "b5a55fd9",
   "metadata": {},
   "source": [
    "### Breast Cancer Detection using Machine Learning\n",
    "In this section, I will implement a Naive Bayes algorithm in Machine Learning using Python. For this task, I will use a database of breast cancer tumour information for breast cancer detection.\n",
    "\n",
    "Let’s start by importing and loading the necessary python libraries and the breast cancer dataset provided by Scikit-learn:"
   ]
  },
  {
   "cell_type": "code",
   "execution_count": 2,
   "id": "c5c510ea",
   "metadata": {},
   "outputs": [],
   "source": [
    "from sklearn.datasets import load_breast_cancer\n",
    "from sklearn.model_selection import train_test_split\n",
    "from sklearn.naive_bayes import GaussianNB\n",
    "from sklearn.metrics import accuracy_score"
   ]
  },
  {
   "cell_type": "markdown",
   "id": "34797f8d",
   "metadata": {},
   "source": [
    "Now we need to create new variables for each important set of information that we find useful and assign the attributes in the dataset to those variables:"
   ]
  },
  {
   "cell_type": "code",
   "execution_count": 3,
   "id": "429e0fe1",
   "metadata": {},
   "outputs": [],
   "source": [
    "data = load_breast_cancer()\n",
    "label_names = data[\"target_names\"]\n",
    "labels = data[\"target\"]\n",
    "feature_names = data[\"feature_names\"]\n",
    "features = data[\"data\"]"
   ]
  },
  {
   "cell_type": "markdown",
   "id": "54c608de",
   "metadata": {},
   "source": [
    "We now have values for each set of useful information in the dataset. To better understand our dataset, let’s take a look at our data by printing our class labels, the label for the first data instance, our entity names, and the entity values for the first data instance:"
   ]
  },
  {
   "cell_type": "code",
   "execution_count": 4,
   "id": "3e42ed89",
   "metadata": {},
   "outputs": [
    {
     "name": "stdout",
     "output_type": "stream",
     "text": [
      "['malignant' 'benign']\n",
      "Class label : 0\n",
      "['mean radius' 'mean texture' 'mean perimeter' 'mean area'\n",
      " 'mean smoothness' 'mean compactness' 'mean concavity'\n",
      " 'mean concave points' 'mean symmetry' 'mean fractal dimension'\n",
      " 'radius error' 'texture error' 'perimeter error' 'area error'\n",
      " 'smoothness error' 'compactness error' 'concavity error'\n",
      " 'concave points error' 'symmetry error' 'fractal dimension error'\n",
      " 'worst radius' 'worst texture' 'worst perimeter' 'worst area'\n",
      " 'worst smoothness' 'worst compactness' 'worst concavity'\n",
      " 'worst concave points' 'worst symmetry' 'worst fractal dimension']\n",
      "[1.799e+01 1.038e+01 1.228e+02 1.001e+03 1.184e-01 2.776e-01 3.001e-01\n",
      " 1.471e-01 2.419e-01 7.871e-02 1.095e+00 9.053e-01 8.589e+00 1.534e+02\n",
      " 6.399e-03 4.904e-02 5.373e-02 1.587e-02 3.003e-02 6.193e-03 2.538e+01\n",
      " 1.733e+01 1.846e+02 2.019e+03 1.622e-01 6.656e-01 7.119e-01 2.654e-01\n",
      " 4.601e-01 1.189e-01] \n",
      "\n"
     ]
    }
   ],
   "source": [
    "print(label_names)\n",
    "print(\"Class label :\", labels[0])\n",
    "print(feature_names)\n",
    "print(features[0], \"\\n\")"
   ]
  },
  {
   "cell_type": "markdown",
   "id": "0c4b6f95",
   "metadata": {},
   "source": [
    "Now that our data is loaded, we can work with our data to build our machine learning model using the Naive Bayes algorithm for the breast cancer detection task."
   ]
  },
  {
   "cell_type": "markdown",
   "id": "50236dae",
   "metadata": {},
   "source": [
    "### Splitting The Dataset\n",
    "To evaluate the performance of a classifier, you should always test the model on invisible data. Therefore, before I create a machine learning model for breast cancer detection, I will divide your data into two parts: an 80% training set and a 20% test set:"
   ]
  },
  {
   "cell_type": "code",
   "execution_count": 5,
   "id": "2fc9f3e1",
   "metadata": {},
   "outputs": [],
   "source": [
    "train, test, train_labels, test_labels = train_test_split(features, labels,\n",
    "                                                          test_size=0.2,\n",
    "                                                          random_state=42)"
   ]
  },
  {
   "cell_type": "markdown",
   "id": "3809ad93",
   "metadata": {},
   "source": [
    "### Using Naive Bayes for Breast Cancer Detection\n",
    "There are many models of machine learning, and each model has its strengths and weaknesses. For the Breast Cancer Detection Model task, I will focus on a simple algorithm that generally works well in binary classification tasks, namely the Naive Bayes classifier:"
   ]
  },
  {
   "cell_type": "code",
   "execution_count": 6,
   "id": "226b1cde",
   "metadata": {},
   "outputs": [
    {
     "data": {
      "text/plain": [
       "GaussianNB()"
      ]
     },
     "execution_count": 6,
     "metadata": {},
     "output_type": "execute_result"
    }
   ],
   "source": [
    "gnb = GaussianNB()\n",
    "gnb.fit(train, train_labels)"
   ]
  },
  {
   "cell_type": "markdown",
   "id": "dc62154f",
   "metadata": {},
   "source": [
    "After training the model, we can then use the trained model to make predictions on our test set, which we use the predict() function.\n",
    "\n",
    "The predict() function returns an array of predictions for each data instance in the test set. We can then print out our predictions to get a feel for what the model determined:"
   ]
  },
  {
   "cell_type": "code",
   "execution_count": 7,
   "id": "7a04d6d5",
   "metadata": {},
   "outputs": [
    {
     "name": "stdout",
     "output_type": "stream",
     "text": [
      "[1 0 0 1 1 0 0 0 1 1 1 0 1 0 1 0 1 1 1 0 1 1 0 1 1 1 1 1 1 0 1 1 1 1 1 1 0\n",
      " 1 0 1 1 0 1 1 1 1 1 1 1 1 0 0 1 1 1 1 1 0 0 1 1 0 0 1 1 1 0 0 1 1 0 0 1 0\n",
      " 1 1 1 1 1 1 0 1 1 0 0 0 0 0 1 1 1 1 1 1 1 1 0 0 1 0 0 1 0 0 1 1 1 0 1 1 0\n",
      " 1 1 0] \n",
      "\n"
     ]
    }
   ],
   "source": [
    "preds = gnb.predict(test)\n",
    "print(preds, \"\\n\")"
   ]
  },
  {
   "cell_type": "markdown",
   "id": "37577338",
   "metadata": {},
   "source": [
    "Using the array of true class labels, we can assess the accuracy of our model’s predictors by comparing the two arrays (test_labels vs preds).\n",
    "\n",
    "I’ll use the accuracy_score () function provided by Scikit-Learn to determine the accuracy rate of our machine learning classifier:"
   ]
  },
  {
   "cell_type": "code",
   "execution_count": 8,
   "id": "9197cb71",
   "metadata": {},
   "outputs": [
    {
     "name": "stdout",
     "output_type": "stream",
     "text": [
      "0.9736842105263158\n"
     ]
    }
   ],
   "source": [
    "print(accuracy_score(test_labels, preds))"
   ]
  },
  {
   "cell_type": "markdown",
   "id": "9ffbd43d",
   "metadata": {},
   "source": [
    "As you can see from the output above, our breast cancer detection model gives an accuracy rate of almost 97%. This means that 97% of the time the classifier is able to make the correct prediction.\n",
    "\n",
    "So this is how we can build a Breast cancer detection model using Machine Learning and the Python programming language."
   ]
  }
 ],
 "metadata": {
  "kernelspec": {
   "display_name": "Python 3 (ipykernel)",
   "language": "python",
   "name": "python3"
  },
  "language_info": {
   "codemirror_mode": {
    "name": "ipython",
    "version": 3
   },
   "file_extension": ".py",
   "mimetype": "text/x-python",
   "name": "python",
   "nbconvert_exporter": "python",
   "pygments_lexer": "ipython3",
   "version": "3.8.8"
  }
 },
 "nbformat": 4,
 "nbformat_minor": 5
}
