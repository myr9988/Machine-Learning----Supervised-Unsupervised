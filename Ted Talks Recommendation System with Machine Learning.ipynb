{
 "cells": [
  {
   "cell_type": "markdown",
   "id": "da938a11",
   "metadata": {},
   "source": [
    "Ted talks are a good source to learn and take inspiration from. These days every platform is having a recommendation system to provide a better user experience. Most of the applications collect data to recommend similar content according to the interests of the user. We can use the same strategy to recommend ted talks. So in this project, I will take you through the Ted Talks recommendation system with Machine Learning using Python."
   ]
  },
  {
   "cell_type": "markdown",
   "id": "6255ff2f",
   "metadata": {},
   "source": [
    "Ted Talks Recommendation System has to be purely based on the content rather than based on data of a user. As a user generally watches videos on Youtube and other applications mostly to get entertained. But a user watches Ted Talks to take some inspiration, so the data of the user has nothing to do here.\n",
    "\n",
    "To recommend Ted Talks to a user we need to create a content-based recommendation system where all the ted talks will be recommended based on the content of the video that the user watched earlier. To create such a system we can use the concept of cosine similarity in machine learning."
   ]
  },
  {
   "cell_type": "markdown",
   "id": "9eadf8bf",
   "metadata": {},
   "source": [
    "### Ted Talks Recommendation System with Machine Learning"
   ]
  },
  {
   "cell_type": "markdown",
   "id": "c3441649",
   "metadata": {},
   "source": [
    "The dataset that I will be using here to create a Ted Talks recommendation system contains the transcripts of all the audios and videos of Ted talks uploaded at Ted.com. Let’s start the task of creating this recommendation system by importing the necessary Python libraries and the dataset:"
   ]
  },
  {
   "cell_type": "code",
   "execution_count": 1,
   "id": "5cca9665",
   "metadata": {},
   "outputs": [
    {
     "name": "stdout",
     "output_type": "stream",
     "text": [
      "                                          transcript  \\\n",
      "0  Good morning. How are you?(Laughter)It's been ...   \n",
      "1  Thank you so much, Chris. And it's truly a gre...   \n",
      "2  (Music: \"The Sound of Silence,\" Simon & Garfun...   \n",
      "3  If you're here today — and I'm very happy that...   \n",
      "4  About 10 years ago, I took on the task to teac...   \n",
      "\n",
      "                                                 url  \n",
      "0  https://www.ted.com/talks/ken_robinson_says_sc...  \n",
      "1  https://www.ted.com/talks/al_gore_on_averting_...  \n",
      "2  https://www.ted.com/talks/david_pogue_says_sim...  \n",
      "3  https://www.ted.com/talks/majora_carter_s_tale...  \n",
      "4  https://www.ted.com/talks/hans_rosling_shows_t...  \n"
     ]
    }
   ],
   "source": [
    "import numpy as np\n",
    "import pandas as pd\n",
    "data = pd.read_csv(r\"C:\\Users\\SHREE\\Downloads\\Python CODES\\Ted Talks Recommendation System with Machine Learning\\ted_talks.csv\")\n",
    "print(data.head())"
   ]
  },
  {
   "cell_type": "markdown",
   "id": "d7416007",
   "metadata": {},
   "source": [
    "The dataset contains the transcript of the ted talks and the URL of that content. So to continue with this dataset, I will create a new column as a title by separating the title from the URL:"
   ]
  },
  {
   "cell_type": "code",
   "execution_count": 2,
   "id": "d3a7e28f",
   "metadata": {},
   "outputs": [],
   "source": [
    "data[\"title\"] = data[\"url\"].map(lambda x:x.split(\"/\")[-1])"
   ]
  },
  {
   "cell_type": "markdown",
   "id": "6a0fb90d",
   "metadata": {},
   "source": [
    "As I stated in the beginning that this recommender system has to be purely based on the content rather than the data of the user so here I will first prepare this dataset and then let’s use cosine similarity to measure the similarities between different Ted talks:"
   ]
  },
  {
   "cell_type": "code",
   "execution_count": 3,
   "id": "f5666683",
   "metadata": {},
   "outputs": [],
   "source": [
    "from sklearn.feature_extraction import text\n",
    "ted_talks = data[\"transcript\"].tolist()\n",
    "bi_tfidf = text.TfidfVectorizer(input=ted_talks, stop_words=\"english\", ngram_range=(1,2))\n",
    "bi_matrix = bi_tfidf.fit_transform(ted_talks)\n",
    "\n",
    "uni_tfidf = text.TfidfVectorizer(input=ted_talks, stop_words=\"english\")\n",
    "uni_matrix = uni_tfidf.fit_transform(ted_talks)\n",
    "\n",
    "from sklearn.metrics.pairwise import cosine_similarity\n",
    "bi_sim = cosine_similarity(bi_matrix)\n",
    "uni_sim = cosine_similarity(uni_matrix)"
   ]
  },
  {
   "cell_type": "markdown",
   "id": "0f573273",
   "metadata": {},
   "source": [
    "Now that last step will be to create a Python function to recommend ted talks based on their content. So let’s define a Python function and have a look at some recommendations:"
   ]
  },
  {
   "cell_type": "code",
   "execution_count": 4,
   "id": "f0039f3f",
   "metadata": {},
   "outputs": [
    {
     "name": "stdout",
     "output_type": "stream",
     "text": [
      "['RORY BREMNER S ONE MAN WORLD SUMMIT', '.ALICE BOWS LARKIN WE RE TOO LATE TO PREVENT CLIMATE CHANGE HERE S HOW WE ADAPT', '.TED HALSTEAD A CLIMATE SOLUTION WHERE ALL SIDES CAN WIN', '.AL GORE S NEW THINKING ON THE CLIMATE CRISIS']\n"
     ]
    }
   ],
   "source": [
    "def recommend_ted_talks(x):\n",
    "    return \".\".join(data[\"title\"].loc[x.argsort()[-5:-1]])\n",
    "    \n",
    "data[\"ted_talks_uni\"] = [recommend_ted_talks(x) for x in uni_sim]\n",
    "data[\"ted_talks_bi\"] = [recommend_ted_talks(x) for x in bi_sim]\n",
    "print(data['ted_talks_uni'].str.replace(\"_\", \" \").str.upper().str.strip().str.split(\"\\n\")[1])"
   ]
  },
  {
   "cell_type": "markdown",
   "id": "0184cee0",
   "metadata": {},
   "source": [
    "So we can get similar results which means that you can follow the same strategy while creating any type of content recommendation system."
   ]
  },
  {
   "cell_type": "markdown",
   "id": "383abd8a",
   "metadata": {},
   "source": [
    "## Summary"
   ]
  },
  {
   "cell_type": "markdown",
   "id": "b4725095",
   "metadata": {},
   "source": [
    "In this project, I introduced you to how to create a content-based recommender system for recommending ted talks to a user. To find the similarities between different ted talks I used the concept of cosine similarity here."
   ]
  }
 ],
 "metadata": {
  "kernelspec": {
   "display_name": "Python 3 (ipykernel)",
   "language": "python",
   "name": "python3"
  },
  "language_info": {
   "codemirror_mode": {
    "name": "ipython",
    "version": 3
   },
   "file_extension": ".py",
   "mimetype": "text/x-python",
   "name": "python",
   "nbconvert_exporter": "python",
   "pygments_lexer": "ipython3",
   "version": "3.8.8"
  }
 },
 "nbformat": 4,
 "nbformat_minor": 5
}
