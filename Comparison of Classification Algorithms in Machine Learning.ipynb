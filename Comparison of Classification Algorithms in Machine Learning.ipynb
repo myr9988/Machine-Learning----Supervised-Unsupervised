{
 "cells": [
  {
   "cell_type": "markdown",
   "id": "5c0fe8bc",
   "metadata": {},
   "source": [
    "## Comparison of Classification Algorithms"
   ]
  },
  {
   "cell_type": "markdown",
   "id": "3d604d62",
   "metadata": {},
   "source": [
    "In machine learning, classification means training a model to specify which category an entry belongs to.\n",
    "\n",
    "For this task, you must first choose a classification-based problem statement and determine all those classification algorithms that may be useful for your problem. Next, you need to train classification models and show a comparison based on their performance."
   ]
  },
  {
   "cell_type": "markdown",
   "id": "8c7ca1d3",
   "metadata": {},
   "source": [
    "The performance of all classification algorithms will depend on the problem you are working on. So let’s start this task by importing the necessary Python libraries, a dataset based on the problem of classification, and some of the popular classification algorithms:"
   ]
  },
  {
   "cell_type": "code",
   "execution_count": 1,
   "id": "2672e1fb",
   "metadata": {},
   "outputs": [
    {
     "name": "stdout",
     "output_type": "stream",
     "text": [
      "   Age  EstimatedSalary  Purchased\n",
      "0   19            19000          0\n",
      "1   35            20000          0\n",
      "2   26            43000          0\n",
      "3   27            57000          0\n",
      "4   19            76000          0\n"
     ]
    }
   ],
   "source": [
    "import numpy\n",
    "import pandas as pd\n",
    "import numpy as np\n",
    "from sklearn.model_selection import train_test_split\n",
    "from sklearn.tree import DecisionTreeClassifier\n",
    "from sklearn.linear_model import LogisticRegression\n",
    "from sklearn.naive_bayes import BernoulliNB\n",
    "from sklearn.neighbors import KNeighborsClassifier\n",
    "from sklearn.linear_model import PassiveAggressiveClassifier\n",
    "from sklearn.metrics import classification_report\n",
    "\n",
    "data = pd.read_csv(\"https://raw.githubusercontent.com/amankharwal/Website-data/master/social.csv\")\n",
    "print(data.head())"
   ]
  },
  {
   "cell_type": "markdown",
   "id": "ee5ab136",
   "metadata": {},
   "source": [
    "Let’s move forward to the task of comparing the performance of classification algorithms in machine learning. Here you can either choose only one performance evaluation metric or more, but the process will remain the same as shown in the code below:"
   ]
  },
  {
   "cell_type": "code",
   "execution_count": 5,
   "id": "35d2da70",
   "metadata": {},
   "outputs": [
    {
     "name": "stderr",
     "output_type": "stream",
     "text": [
      "C:\\Users\\SHREE\\AppData\\Local\\Temp/ipykernel_1768/2926296704.py:12: DataConversionWarning: A column-vector y was passed when a 1d array was expected. Please change the shape of y to (n_samples, ), for example using ravel().\n",
      "  knearestclassifier.fit(xtrain, ytrain)\n",
      "C:\\Users\\SHREE\\anaconda3\\lib\\site-packages\\sklearn\\utils\\validation.py:72: DataConversionWarning: A column-vector y was passed when a 1d array was expected. Please change the shape of y to (n_samples, ), for example using ravel().\n",
      "  return f(**kwargs)\n",
      "C:\\Users\\SHREE\\anaconda3\\lib\\site-packages\\sklearn\\utils\\validation.py:72: DataConversionWarning: A column-vector y was passed when a 1d array was expected. Please change the shape of y to (n_samples, ), for example using ravel().\n",
      "  return f(**kwargs)\n"
     ]
    },
    {
     "data": {
      "text/html": [
       "<div>\n",
       "<style scoped>\n",
       "    .dataframe tbody tr th:only-of-type {\n",
       "        vertical-align: middle;\n",
       "    }\n",
       "\n",
       "    .dataframe tbody tr th {\n",
       "        vertical-align: top;\n",
       "    }\n",
       "\n",
       "    .dataframe thead th {\n",
       "        text-align: right;\n",
       "    }\n",
       "</style>\n",
       "<table border=\"1\" class=\"dataframe\">\n",
       "  <thead>\n",
       "    <tr style=\"text-align: right;\">\n",
       "      <th></th>\n",
       "      <th>Classification Algorithms</th>\n",
       "      <th>Score</th>\n",
       "    </tr>\n",
       "  </thead>\n",
       "  <tbody>\n",
       "    <tr>\n",
       "      <th>0</th>\n",
       "      <td>KNN Classifier</td>\n",
       "      <td>0.8750</td>\n",
       "    </tr>\n",
       "    <tr>\n",
       "      <th>1</th>\n",
       "      <td>Decision Tree Classifier</td>\n",
       "      <td>0.9800</td>\n",
       "    </tr>\n",
       "    <tr>\n",
       "      <th>2</th>\n",
       "      <td>Logistic Regression</td>\n",
       "      <td>0.6425</td>\n",
       "    </tr>\n",
       "    <tr>\n",
       "      <th>3</th>\n",
       "      <td>Passive Aggressive Classifier</td>\n",
       "      <td>0.6425</td>\n",
       "    </tr>\n",
       "  </tbody>\n",
       "</table>\n",
       "</div>"
      ],
      "text/plain": [
       "       Classification Algorithms   Score\n",
       "0                 KNN Classifier  0.8750\n",
       "1       Decision Tree Classifier  0.9800\n",
       "2            Logistic Regression  0.6425\n",
       "3  Passive Aggressive Classifier  0.6425"
      ]
     },
     "execution_count": 5,
     "metadata": {},
     "output_type": "execute_result"
    }
   ],
   "source": [
    "x = np.array(data[[\"Age\", \"EstimatedSalary\"]])\n",
    "y = np.array(data[[\"Purchased\"]])\n",
    "\n",
    "xtrain, xtest, ytrain, ytest = train_test_split(x, y, test_size=0.10, random_state=42)\n",
    "decisiontree = DecisionTreeClassifier()\n",
    "logisticregression = LogisticRegression()\n",
    "knearestclassifier = KNeighborsClassifier()\n",
    "bernoulli_naiveBayes = BernoulliNB()\n",
    "passiveAggressive = PassiveAggressiveClassifier()\n",
    "\n",
    "\n",
    "knearestclassifier.fit(xtrain, ytrain)\n",
    "decisiontree.fit(xtrain, ytrain)\n",
    "logisticregression.fit(xtrain, ytrain)\n",
    "passiveAggressive.fit(xtrain, ytrain)\n",
    "\n",
    "data1 = {\"Classification Algorithms\": [\"KNN Classifier\", \"Decision Tree Classifier\", \n",
    "                                       \"Logistic Regression\", \"Passive Aggressive Classifier\"],\n",
    "      \"Score\": [knearestclassifier.score(x,y), decisiontree.score(x, y), \n",
    "                logisticregression.score(x, y), passiveAggressive.score(x,y) ]}\n",
    "score = pd.DataFrame(data1)\n",
    "score"
   ]
  },
  {
   "cell_type": "markdown",
   "id": "12000dc8",
   "metadata": {},
   "source": [
    "In the above code:\n",
    "\n",
    "- I first divided the data into training and test sets;\n",
    "- Then I stored all the classification algorithms provided by the scikit-learn library in Python in their respective variables;\n",
    "- Then I used the fit method to fit the data in the algorithm;\n",
    "\n",
    "Finally, I created a DataFrame, where I stored the model score on the data.\n",
    "\n",
    "According to the above output, the Decision Tree classification algorithm performs the best on this dataset."
   ]
  },
  {
   "cell_type": "markdown",
   "id": "c94db8bc",
   "metadata": {},
   "source": [
    "## Summary"
   ]
  },
  {
   "cell_type": "markdown",
   "id": "a86cef1a",
   "metadata": {},
   "source": [
    "So this is how you can compare classification algorithms in machine learning using the Python programming language."
   ]
  }
 ],
 "metadata": {
  "kernelspec": {
   "display_name": "Python 3 (ipykernel)",
   "language": "python",
   "name": "python3"
  },
  "language_info": {
   "codemirror_mode": {
    "name": "ipython",
    "version": 3
   },
   "file_extension": ".py",
   "mimetype": "text/x-python",
   "name": "python",
   "nbconvert_exporter": "python",
   "pygments_lexer": "ipython3",
   "version": "3.8.8"
  }
 },
 "nbformat": 4,
 "nbformat_minor": 5
}
