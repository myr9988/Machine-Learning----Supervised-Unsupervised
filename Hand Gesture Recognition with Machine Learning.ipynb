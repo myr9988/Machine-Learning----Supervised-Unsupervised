{
 "cells": [
  {
   "cell_type": "markdown",
   "id": "320143e6",
   "metadata": {},
   "source": [
    "In this task, I will take you through a very simple Machine Learning project on Hand Gesture Recognition with Python programming language. Hand gesture recognition system received great attention in the recent few years because of its manifoldness applications and the ability to interact with machine efficiently through human-computer interaction."
   ]
  },
  {
   "cell_type": "markdown",
   "id": "4c86ad78",
   "metadata": {},
   "source": [
    "### Hand Gesture Recognition Model\n",
    "The essential objective of building a hand gesture recognition model is to create a natural interaction between human and computer where the recognized gestures can be used to control a robot or transmit meaningful information.\n",
    "\n",
    "The gestures can be static (posture or certain pose) which require less computational complexity or dynamic (sequence of postures) which are more complex but adapted to real-time environments. In this task, I will train a very simple model that can be easily understood.\n",
    "\n",
    "The hand gesture recognition system has been applied for different applications in different fields including; translation into sign language, virtual environments, intelligent monitoring, robot control, medical systems, etc."
   ]
  },
  {
   "cell_type": "markdown",
   "id": "0dbd8400",
   "metadata": {},
   "source": [
    "### Machine Learning Project on Hand Gesture Recognition Model\n",
    "Now let’s see how to train a Machine Learning model in Hand Gesture Recognition with Python programming language. I will start with importing the necessary libraries and reading the datasets that we need for this task:"
   ]
  },
  {
   "cell_type": "code",
   "execution_count": 1,
   "id": "773e87ce",
   "metadata": {},
   "outputs": [],
   "source": [
    "import numpy as np # linear algebra\n",
    "import pandas as pd # data processing\n",
    "\n",
    "df0 = pd.read_csv(r\"C:\\Users\\SHREE\\Downloads\\Python CODES\\Hand Gesture Recognition with Machine Learning\\0.csv\", header=None )\n",
    "df1 = pd.read_csv(r\"C:\\Users\\SHREE\\Downloads\\Python CODES\\Hand Gesture Recognition with Machine Learning\\1.csv\", header=None )\n",
    "df2 = pd.read_csv(r\"C:\\Users\\SHREE\\Downloads\\Python CODES\\Hand Gesture Recognition with Machine Learning\\2.csv\", header=None )\n",
    "df3 = pd.read_csv(r\"C:\\Users\\SHREE\\Downloads\\Python CODES\\Hand Gesture Recognition with Machine Learning\\3.csv\", header=None )\n",
    "df = pd.concat([df0,df1,df2,df3], axis = 0)"
   ]
  },
  {
   "cell_type": "markdown",
   "id": "746cdfb8",
   "metadata": {},
   "source": [
    "Now I will split the data into 75% training and 25% test set:"
   ]
  },
  {
   "cell_type": "code",
   "execution_count": 2,
   "id": "31e9f72e",
   "metadata": {},
   "outputs": [],
   "source": [
    "x = df.loc[:,0:63]\n",
    "y = df[64]\n",
    "\n",
    "from sklearn.model_selection import train_test_split\n",
    "x_train, x_test, y_train, y_test = train_test_split(x, y, test_size=0.25, random_state=42)"
   ]
  },
  {
   "cell_type": "markdown",
   "id": "bb5202d0",
   "metadata": {},
   "source": [
    "Now I will rescale the data using Standard Scalar:"
   ]
  },
  {
   "cell_type": "code",
   "execution_count": 3,
   "id": "6d5c52ca",
   "metadata": {},
   "outputs": [],
   "source": [
    "from sklearn.preprocessing import StandardScaler\n",
    "sc = StandardScaler()\n",
    "x_train = pd.DataFrame(sc.fit_transform(x_train))\n",
    "x_test = pd.DataFrame(sc.transform(x_test))"
   ]
  },
  {
   "cell_type": "markdown",
   "id": "8d4d79cc",
   "metadata": {},
   "source": [
    "Now I will use the Random Forest Classifier to train a Hand Gesture Recognition model with Python:"
   ]
  },
  {
   "cell_type": "code",
   "execution_count": 4,
   "id": "39ae3441",
   "metadata": {},
   "outputs": [
    {
     "data": {
      "text/plain": [
       "{'criterion': 'entropy', 'max_depth': 32}"
      ]
     },
     "execution_count": 4,
     "metadata": {},
     "output_type": "execute_result"
    }
   ],
   "source": [
    "from sklearn.ensemble import RandomForestClassifier\n",
    "from sklearn.model_selection import GridSearchCV\n",
    "\n",
    "lr_grid = {'max_depth' : [4,8,16,32,64,128],\n",
    "           'criterion' : ['entropy','gini']}\n",
    "\n",
    "clf = RandomForestClassifier(n_estimators=100, max_features='sqrt', random_state=42)\n",
    "\n",
    "gs = GridSearchCV(estimator = clf, param_grid=lr_grid,cv = 5)\n",
    "gs.fit(x_train,y_train)\n",
    "y_pred = gs.predict(x_test)\n",
    "gs.best_params_"
   ]
  },
  {
   "cell_type": "markdown",
   "id": "6c2bded1",
   "metadata": {},
   "source": [
    "Now let’s check the accuracy of the model using the confusion matrix and print the classification report of our machine learning model:"
   ]
  },
  {
   "cell_type": "code",
   "execution_count": 5,
   "id": "601fdabe",
   "metadata": {},
   "outputs": [
    {
     "name": "stdout",
     "output_type": "stream",
     "text": [
      "Classification Report: \n",
      "               precision    recall  f1-score   support\n",
      "\n",
      "           0       0.94      0.97      0.95       719\n",
      "           1       0.96      0.92      0.94       769\n",
      "           2       0.91      0.95      0.93       703\n",
      "           3       0.89      0.86      0.87       729\n",
      "\n",
      "    accuracy                           0.92      2920\n",
      "   macro avg       0.92      0.93      0.92      2920\n",
      "weighted avg       0.92      0.92      0.92      2920\n",
      "\n",
      "Confusion Matrix: \n",
      " [[698   0   7  14]\n",
      " [  0 709  22  38]\n",
      " [  4   7 665  27]\n",
      " [ 43  25  33 628]]\n"
     ]
    }
   ],
   "source": [
    "from sklearn.metrics import classification_report\n",
    "from sklearn.metrics import confusion_matrix\n",
    "\n",
    "print('Classification Report: \\n', classification_report(y_test,y_pred))\n",
    "print('Confusion Matrix: \\n', confusion_matrix(y_test,y_pred))"
   ]
  }
 ],
 "metadata": {
  "kernelspec": {
   "display_name": "Python 3 (ipykernel)",
   "language": "python",
   "name": "python3"
  },
  "language_info": {
   "codemirror_mode": {
    "name": "ipython",
    "version": 3
   },
   "file_extension": ".py",
   "mimetype": "text/x-python",
   "name": "python",
   "nbconvert_exporter": "python",
   "pygments_lexer": "ipython3",
   "version": "3.8.8"
  }
 },
 "nbformat": 4,
 "nbformat_minor": 5
}
