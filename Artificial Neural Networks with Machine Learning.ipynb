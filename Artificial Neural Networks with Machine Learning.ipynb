{
 "cells": [
  {
   "cell_type": "markdown",
   "id": "aaaf4ef5",
   "metadata": {},
   "source": [
    "Artificial neural networks are one of the main tools used in machine learning. As the “neural” part of their name suggests, they are brain-inspired systems which are intended to replicate the way that we humans learn.\n",
    "\n",
    "Neural networks consist of input and output layers, as well as (in most cases) a hidden layer consisting of units that transform the input into something that the output layer can use.\n",
    "\n",
    "They are excellent tools for finding patterns which are far too complex or numerous for a human programmer to extract and teach the machine to recognize."
   ]
  },
  {
   "cell_type": "markdown",
   "id": "ba275e46",
   "metadata": {},
   "source": [
    "### Classify Clothes using Python and Artificial Neural Networks"
   ]
  },
  {
   "cell_type": "markdown",
   "id": "aec94698",
   "metadata": {},
   "source": [
    "This Machine Learning Project Classifies Clothes from the Fashion MNIST Data set using Artificial Neural Networks and Python."
   ]
  },
  {
   "cell_type": "markdown",
   "id": "6256ecce",
   "metadata": {},
   "source": [
    "### Let’s start by importing the libraries we need for this task"
   ]
  },
  {
   "cell_type": "code",
   "execution_count": 1,
   "id": "922414a8",
   "metadata": {},
   "outputs": [],
   "source": [
    "import tensorflow as tf\n",
    "from tensorflow import keras\n",
    "import numpy as np\n",
    "import matplotlib.pyplot as plt"
   ]
  },
  {
   "cell_type": "markdown",
   "id": "6b63bfd0",
   "metadata": {},
   "source": [
    "### To load the data set"
   ]
  },
  {
   "cell_type": "code",
   "execution_count": 2,
   "id": "6d5d2836",
   "metadata": {},
   "outputs": [],
   "source": [
    "fashion = keras.datasets.fashion_mnist\n",
    "(trainImages, trainLabels), (testImages, testLabels) = fashion.load_data()"
   ]
  },
  {
   "cell_type": "code",
   "execution_count": 3,
   "id": "72ada1f5",
   "metadata": {},
   "outputs": [
    {
     "name": "stdout",
     "output_type": "stream",
     "text": [
      "Image Label : 9\n"
     ]
    },
    {
     "data": {
      "text/plain": [
       "<matplotlib.image.AxesImage at 0x2adadcb70a0>"
      ]
     },
     "execution_count": 3,
     "metadata": {},
     "output_type": "execute_result"
    },
    {
     "data": {
      "image/png": "[encoded data removed]",
      "text/plain": [
       "<Figure size 432x288 with 1 Axes>"
      ]
     },
     "metadata": {
      "needs_background": "light"
     },
     "output_type": "display_data"
    }
   ],
   "source": [
    "imgIndex = 0\n",
    "img = trainImages[imgIndex]\n",
    "print(\"Image Label :\",trainLabels[imgIndex])\n",
    "plt.imshow(img)"
   ]
  },
  {
   "cell_type": "markdown",
   "id": "eec1acce",
   "metadata": {},
   "source": [
    "### To print the shape of the training and testing data"
   ]
  },
  {
   "cell_type": "code",
   "execution_count": 4,
   "id": "3b3b3019",
   "metadata": {},
   "outputs": [
    {
     "name": "stdout",
     "output_type": "stream",
     "text": [
      "(60000, 28, 28)\n",
      "(10000, 28, 28)\n"
     ]
    }
   ],
   "source": [
    "print(trainImages.shape)\n",
    "print(testImages.shape)"
   ]
  },
  {
   "cell_type": "markdown",
   "id": "b7338c13",
   "metadata": {},
   "source": [
    "### Now let’s create a Neural Network"
   ]
  },
  {
   "cell_type": "code",
   "execution_count": 5,
   "id": "7b4dd76e",
   "metadata": {},
   "outputs": [],
   "source": [
    "model = keras.Sequential([\n",
    "                          keras.layers.Flatten(input_shape=(28,28)),\n",
    "                          keras.layers.Dense(128, activation=tf.nn.relu),\n",
    "                          keras.layers.Dense(10, activation=tf.nn.softmax)\n",
    "])"
   ]
  },
  {
   "cell_type": "markdown",
   "id": "6384dc0c",
   "metadata": {},
   "source": [
    "### To Compile the Model"
   ]
  },
  {
   "cell_type": "code",
   "execution_count": 6,
   "id": "de5984c3",
   "metadata": {},
   "outputs": [],
   "source": [
    "model.compile(optimizer = 'adam',\n",
    "           loss = 'sparse_categorical_crossentropy',\n",
    "           metrics=['accuracy'])"
   ]
  },
  {
   "cell_type": "markdown",
   "id": "e2ebae88",
   "metadata": {},
   "source": [
    "### To Train the model"
   ]
  },
  {
   "cell_type": "code",
   "execution_count": 7,
   "id": "d6a32921",
   "metadata": {},
   "outputs": [
    {
     "name": "stdout",
     "output_type": "stream",
     "text": [
      "Epoch 1/5\n",
      "1875/1875 [==============================] - 22s 10ms/step - loss: 2.9094 - accuracy: 0.7064\n",
      "Epoch 2/5\n",
      "1875/1875 [==============================] - 21s 11ms/step - loss: 0.6681 - accuracy: 0.7566\n",
      "Epoch 3/5\n",
      "1875/1875 [==============================] - 21s 11ms/step - loss: 0.5789 - accuracy: 0.7907\n",
      "Epoch 4/5\n",
      "1875/1875 [==============================] - 21s 11ms/step - loss: 0.5431 - accuracy: 0.8090\n",
      "Epoch 5/5\n",
      "1875/1875 [==============================] - 21s 11ms/step - loss: 0.5113 - accuracy: 0.8224\n"
     ]
    },
    {
     "data": {
      "text/plain": [
       "<keras.callbacks.History at 0x2adb0c05d30>"
      ]
     },
     "execution_count": 7,
     "metadata": {},
     "output_type": "execute_result"
    }
   ],
   "source": [
    "model.fit(trainImages, trainLabels, epochs=5, batch_size=32)"
   ]
  },
  {
   "cell_type": "markdown",
   "id": "58570aa9",
   "metadata": {},
   "source": [
    "### To Evaluate the Model"
   ]
  },
  {
   "cell_type": "code",
   "execution_count": 8,
   "id": "fa6371cb",
   "metadata": {},
   "outputs": [
    {
     "name": "stdout",
     "output_type": "stream",
     "text": [
      "313/313 [==============================] - 4s 9ms/step - loss: 0.5324 - accuracy: 0.8201\n"
     ]
    },
    {
     "data": {
      "text/plain": [
       "[0.5324049592018127, 0.8201000094413757]"
      ]
     },
     "execution_count": 8,
     "metadata": {},
     "output_type": "execute_result"
    }
   ],
   "source": [
    "model.evaluate(testImages, testLabels)"
   ]
  },
  {
   "cell_type": "markdown",
   "id": "67949e65",
   "metadata": {},
   "source": [
    "### To Make a Prediction"
   ]
  },
  {
   "cell_type": "code",
   "execution_count": 9,
   "id": "5f9c2956",
   "metadata": {},
   "outputs": [
    {
     "name": "stdout",
     "output_type": "stream",
     "text": [
      "[[1.0315037e-09 9.5066454e-08 9.9750589e-15 6.5497710e-07 2.2354217e-21\n",
      "  4.1824382e-02 5.0060935e-11 1.2555017e-01 1.6570606e-05 8.3260810e-01]\n",
      " [5.2687558e-03 1.0793204e-07 9.8971844e-01 1.3970176e-05 3.6001138e-03\n",
      "  5.9364672e-18 1.3978932e-03 0.0000000e+00 8.1041492e-07 5.9075795e-31]\n",
      " [5.4767240e-09 9.9999976e-01 2.1898052e-09 1.8044224e-07 1.2919782e-10\n",
      "  2.1687723e-24 2.5619310e-15 0.0000000e+00 2.0933881e-09 0.0000000e+00]\n",
      " [6.4850127e-08 9.9999106e-01 8.8256629e-09 8.8808938e-06 4.4174189e-09\n",
      "  1.2589302e-28 1.1383813e-14 0.0000000e+00 6.6674510e-09 0.0000000e+00]\n",
      " [1.1352629e-01 1.3020752e-02 1.5293111e-01 6.4762868e-02 4.5818333e-02\n",
      "  2.4293540e-02 5.3378719e-01 6.0406426e-04 4.9945429e-02 1.3104241e-03]]\n"
     ]
    }
   ],
   "source": [
    "predictions = model.predict(testImages[0:5])\n",
    "\n",
    "# Print the predicted labels\n",
    "print(predictions)"
   ]
  },
  {
   "cell_type": "markdown",
   "id": "758b41ff",
   "metadata": {},
   "source": [
    "### To print the maximum labels"
   ]
  },
  {
   "cell_type": "code",
   "execution_count": 10,
   "id": "78f4c69f",
   "metadata": {},
   "outputs": [
    {
     "name": "stdout",
     "output_type": "stream",
     "text": [
      "[9 2 1 1 6]\n",
      "[9 2 1 1 6]\n"
     ]
    }
   ],
   "source": [
    "print(np.argmax(predictions, axis=1))\n",
    "# Print the actual label values\n",
    "print(testLabels[0:5])"
   ]
  },
  {
   "cell_type": "markdown",
   "id": "f7adbee2",
   "metadata": {},
   "source": [
    "### To Print the first 5 images"
   ]
  },
  {
   "cell_type": "code",
   "execution_count": 11,
   "id": "73f0b8b4",
   "metadata": {},
   "outputs": [
    {
     "data": {
      "image/png": "[encoded data removed]",
      "text/plain": [
       "<Figure size 432x288 with 1 Axes>"
      ]
     },
     "metadata": {
      "needs_background": "light"
     },
     "output_type": "display_data"
    },
    {
     "data": {
      "image/png": "[encoded data removed]",
      "text/plain": [
       "<Figure size 432x288 with 1 Axes>"
      ]
     },
     "metadata": {
      "needs_background": "light"
     },
     "output_type": "display_data"
    },
    {
     "data": {
      "image/png": "[encoded data removed]",
      "text/plain": [
       "<Figure size 432x288 with 1 Axes>"
      ]
     },
     "metadata": {
      "needs_background": "light"
     },
     "output_type": "display_data"
    },
    {
     "data": {
      "image/png": "[encoded data removed]",
      "text/plain": [
       "<Figure size 432x288 with 1 Axes>"
      ]
     },
     "metadata": {
      "needs_background": "light"
     },
     "output_type": "display_data"
    },
    {
     "data": {
      "image/png": "[encoded data removed]",
      "text/plain": [
       "<Figure size 432x288 with 1 Axes>"
      ]
     },
     "metadata": {
      "needs_background": "light"
     },
     "output_type": "display_data"
    }
   ],
   "source": [
    "for i in range(0,5):\n",
    "  plt.imshow(testImages[i], cmap='gray')\n",
    "  plt.show()"
   ]
  }
 ],
 "metadata": {
  "kernelspec": {
   "display_name": "Python 3 (ipykernel)",
   "language": "python",
   "name": "python3"
  },
  "language_info": {
   "codemirror_mode": {
    "name": "ipython",
    "version": 3
   },
   "file_extension": ".py",
   "mimetype": "text/x-python",
   "name": "python",
   "nbconvert_exporter": "python",
   "pygments_lexer": "ipython3",
   "version": "3.8.8"
  }
 },
 "nbformat": 4,
 "nbformat_minor": 5
}
