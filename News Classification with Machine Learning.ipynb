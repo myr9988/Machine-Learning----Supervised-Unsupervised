{
 "cells": [
  {
   "cell_type": "markdown",
   "id": "abc900ea",
   "metadata": {},
   "source": [
    "You must have seen the news divided into categories when you go to a news website. Some of the popular categories that you’ll see on almost any news website are tech, entertainment, and sports."
   ]
  },
  {
   "cell_type": "markdown",
   "id": "d451b781",
   "metadata": {},
   "source": [
    "## News Classification"
   ]
  },
  {
   "cell_type": "markdown",
   "id": "ad9140e1",
   "metadata": {},
   "source": [
    "Every news website classifies the news article before publishing it so that every time visitors visit their website can easily click on the type of news that interests them. For example, I like to read the latest technology updates, so every time I visit a news website, I click on the technology section. But you may or may not like to read about technology, you may be interested in politics, business, entertainment, or maybe sports.\n",
    "\n",
    "Currently, the news articles are classified by hand by the content managers of news websites. But to save time, they can also implement a machine learning model on their websites that read the news headline or the content of the news and classifies the category of the news."
   ]
  },
  {
   "cell_type": "markdown",
   "id": "4c8633c8",
   "metadata": {},
   "source": [
    "For the task of news classification with machine learning, I have collected a dataset from Kaggle, which contains news articles including their headlines and categories. The categories covered in this dataset are:\n",
    "\n",
    "- Sports\n",
    "- Business\n",
    "- Politics\n",
    "- Tech\n",
    "- Entertainment\n",
    "\n",
    "So let’s import the necessary Python libraries and the dataset that we need for this task:"
   ]
  },
  {
   "cell_type": "code",
   "execution_count": 1,
   "id": "ee83029e",
   "metadata": {},
   "outputs": [
    {
     "name": "stdout",
     "output_type": "stream",
     "text": [
      "   category filename                              title  \\\n",
      "0  business  001.txt  Ad sales boost Time Warner profit   \n",
      "1  business  002.txt   Dollar gains on Greenspan speech   \n",
      "2  business  003.txt  Yukos unit buyer faces loan claim   \n",
      "3  business  004.txt  High fuel prices hit BA's profits   \n",
      "4  business  005.txt  Pernod takeover talk lifts Domecq   \n",
      "\n",
      "                                             content  \n",
      "0   Quarterly profits at US media giant TimeWarne...  \n",
      "1   The dollar has hit its highest level against ...  \n",
      "2   The owners of embattled Russian oil giant Yuk...  \n",
      "3   British Airways has blamed high fuel prices f...  \n",
      "4   Shares in UK drinks and food firm Allied Dome...  \n"
     ]
    }
   ],
   "source": [
    "import pandas as pd\n",
    "import numpy as np\n",
    "from sklearn.feature_extraction.text import CountVectorizer\n",
    "from sklearn.model_selection import train_test_split\n",
    "from sklearn.naive_bayes import MultinomialNB\n",
    "\n",
    "data = pd.read_csv(\"https://raw.githubusercontent.com/amankharwal/Website-data/master/bbc-news-data.csv\", sep='\\t')\n",
    "print(data.head())"
   ]
  },
  {
   "cell_type": "markdown",
   "id": "f3166780",
   "metadata": {},
   "source": [
    "Now, let’s have a quick look at whether this dataset contains any null values or not:"
   ]
  },
  {
   "cell_type": "code",
   "execution_count": 2,
   "id": "ab80b8bf",
   "metadata": {},
   "outputs": [
    {
     "data": {
      "text/plain": [
       "category    0\n",
       "filename    0\n",
       "title       0\n",
       "content     0\n",
       "dtype: int64"
      ]
     },
     "execution_count": 2,
     "metadata": {},
     "output_type": "execute_result"
    }
   ],
   "source": [
    "data.isnull().sum()"
   ]
  },
  {
   "cell_type": "markdown",
   "id": "9d32ff4f",
   "metadata": {},
   "source": [
    "The labels that we need to classify from this dataset are present in the category column of this data, let’s have a look at the distribution of all the categories of news:"
   ]
  },
  {
   "cell_type": "code",
   "execution_count": 3,
   "id": "e00f900b",
   "metadata": {},
   "outputs": [
    {
     "data": {
      "text/plain": [
       "sport            511\n",
       "business         510\n",
       "politics         417\n",
       "tech             401\n",
       "entertainment    386\n",
       "Name: category, dtype: int64"
      ]
     },
     "execution_count": 3,
     "metadata": {},
     "output_type": "execute_result"
    }
   ],
   "source": [
    "data[\"category\"].value_counts()"
   ]
  },
  {
   "cell_type": "markdown",
   "id": "ce025bb7",
   "metadata": {},
   "source": [
    "## News Classification Model"
   ]
  },
  {
   "cell_type": "markdown",
   "id": "bff27bc7",
   "metadata": {},
   "source": [
    "Now let’s prepare the data for the task of training a news classification model:"
   ]
  },
  {
   "cell_type": "code",
   "execution_count": 4,
   "id": "6447f243",
   "metadata": {},
   "outputs": [],
   "source": [
    "data = data[[\"title\", \"category\"]]\n",
    "\n",
    "x = np.array(data[\"title\"])\n",
    "y = np.array(data[\"category\"])\n",
    "\n",
    "cv = CountVectorizer()\n",
    "X = cv.fit_transform(x)\n",
    "X_train, X_test, y_train, y_test = train_test_split(X, y, test_size=0.33, random_state=42)"
   ]
  },
  {
   "cell_type": "markdown",
   "id": "35bc85f2",
   "metadata": {},
   "source": [
    "Now I will be using the Multinomial Naive Bayes algorithm to train a news classification model:"
   ]
  },
  {
   "cell_type": "code",
   "execution_count": 5,
   "id": "79c69155",
   "metadata": {},
   "outputs": [
    {
     "data": {
      "text/plain": [
       "MultinomialNB()"
      ]
     },
     "execution_count": 5,
     "metadata": {},
     "output_type": "execute_result"
    }
   ],
   "source": [
    "model = MultinomialNB()\n",
    "model.fit(X_train,y_train)"
   ]
  },
  {
   "cell_type": "markdown",
   "id": "4004de18",
   "metadata": {},
   "source": [
    "Finally, let’s test how this model works on one of the headlines in today’s news:"
   ]
  },
  {
   "cell_type": "code",
   "execution_count": 6,
   "id": "7534c6c9",
   "metadata": {},
   "outputs": [
    {
     "name": "stdout",
     "output_type": "stream",
     "text": [
      "Enter a Text: Latest Apple iPhone SE 3 concept renders show a compact smartphone in the style of the iPhone 4\n",
      "['tech']\n"
     ]
    }
   ],
   "source": [
    "user = input(\"Enter a Text: \")\n",
    "data = cv.transform([user]).toarray()\n",
    "output = model.predict(data)\n",
    "print(output)"
   ]
  },
  {
   "cell_type": "markdown",
   "id": "847b3fa1",
   "metadata": {},
   "source": [
    "## Summary"
   ]
  },
  {
   "cell_type": "markdown",
   "id": "430e085c",
   "metadata": {},
   "source": [
    "So this is how we can use machine learning to classify the categories of news. Every news website classifies the news article before publishing it so that every time visitors visit their website can easily click on the type of news that interests them."
   ]
  }
 ],
 "metadata": {
  "kernelspec": {
   "display_name": "Python 3 (ipykernel)",
   "language": "python",
   "name": "python3"
  },
  "language_info": {
   "codemirror_mode": {
    "name": "ipython",
    "version": 3
   },
   "file_extension": ".py",
   "mimetype": "text/x-python",
   "name": "python",
   "nbconvert_exporter": "python",
   "pygments_lexer": "ipython3",
   "version": "3.8.8"
  }
 },
 "nbformat": 4,
 "nbformat_minor": 5
}
