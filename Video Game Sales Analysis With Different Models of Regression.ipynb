{
 "cells": [
  {
   "cell_type": "code",
   "execution_count": 1,
   "id": "0aa6a6a5",
   "metadata": {},
   "outputs": [],
   "source": [
    "# Importing necessary libraries\n",
    "\n",
    "import numpy as np\n",
    "import pandas as pd\n",
    "import seaborn as sns\n",
    "import matplotlib.pyplot as plt\n",
    "\n",
    "from sklearn.preprocessing import LabelEncoder, StandardScaler\n",
    "from sklearn.model_selection import train_test_split\n",
    "from sklearn.linear_model import LinearRegression\n",
    "from sklearn.svm import SVR\n",
    "from sklearn.neighbors import KNeighborsRegressor\n",
    "from sklearn.ensemble import GradientBoostingRegressor, RandomForestRegressor\n",
    "from sklearn.tree import DecisionTreeRegressor\n",
    "from sklearn.metrics import mean_squared_error, r2_score"
   ]
  },
  {
   "cell_type": "code",
   "execution_count": 2,
   "id": "928e18cb",
   "metadata": {},
   "outputs": [
    {
     "data": {
      "text/html": [
       "<div>\n",
       "<style scoped>\n",
       "    .dataframe tbody tr th:only-of-type {\n",
       "        vertical-align: middle;\n",
       "    }\n",
       "\n",
       "    .dataframe tbody tr th {\n",
       "        vertical-align: top;\n",
       "    }\n",
       "\n",
       "    .dataframe thead th {\n",
       "        text-align: right;\n",
       "    }\n",
       "</style>\n",
       "<table border=\"1\" class=\"dataframe\">\n",
       "  <thead>\n",
       "    <tr style=\"text-align: right;\">\n",
       "      <th></th>\n",
       "      <th>Rank</th>\n",
       "      <th>Name</th>\n",
       "      <th>Platform</th>\n",
       "      <th>Year</th>\n",
       "      <th>Genre</th>\n",
       "      <th>Publisher</th>\n",
       "      <th>NA_Sales</th>\n",
       "      <th>EU_Sales</th>\n",
       "      <th>JP_Sales</th>\n",
       "      <th>Other_Sales</th>\n",
       "      <th>Global_Sales</th>\n",
       "    </tr>\n",
       "  </thead>\n",
       "  <tbody>\n",
       "    <tr>\n",
       "      <th>0</th>\n",
       "      <td>1</td>\n",
       "      <td>Wii Sports</td>\n",
       "      <td>Wii</td>\n",
       "      <td>2006.0</td>\n",
       "      <td>Sports</td>\n",
       "      <td>Nintendo</td>\n",
       "      <td>41.49</td>\n",
       "      <td>29.02</td>\n",
       "      <td>3.77</td>\n",
       "      <td>8.46</td>\n",
       "      <td>82.74</td>\n",
       "    </tr>\n",
       "    <tr>\n",
       "      <th>1</th>\n",
       "      <td>2</td>\n",
       "      <td>Super Mario Bros.</td>\n",
       "      <td>NES</td>\n",
       "      <td>1985.0</td>\n",
       "      <td>Platform</td>\n",
       "      <td>Nintendo</td>\n",
       "      <td>29.08</td>\n",
       "      <td>3.58</td>\n",
       "      <td>6.81</td>\n",
       "      <td>0.77</td>\n",
       "      <td>40.24</td>\n",
       "    </tr>\n",
       "    <tr>\n",
       "      <th>2</th>\n",
       "      <td>3</td>\n",
       "      <td>Mario Kart Wii</td>\n",
       "      <td>Wii</td>\n",
       "      <td>2008.0</td>\n",
       "      <td>Racing</td>\n",
       "      <td>Nintendo</td>\n",
       "      <td>15.85</td>\n",
       "      <td>12.88</td>\n",
       "      <td>3.79</td>\n",
       "      <td>3.31</td>\n",
       "      <td>35.82</td>\n",
       "    </tr>\n",
       "    <tr>\n",
       "      <th>3</th>\n",
       "      <td>4</td>\n",
       "      <td>Wii Sports Resort</td>\n",
       "      <td>Wii</td>\n",
       "      <td>2009.0</td>\n",
       "      <td>Sports</td>\n",
       "      <td>Nintendo</td>\n",
       "      <td>15.75</td>\n",
       "      <td>11.01</td>\n",
       "      <td>3.28</td>\n",
       "      <td>2.96</td>\n",
       "      <td>33.00</td>\n",
       "    </tr>\n",
       "    <tr>\n",
       "      <th>4</th>\n",
       "      <td>5</td>\n",
       "      <td>Pokemon Red/Pokemon Blue</td>\n",
       "      <td>GB</td>\n",
       "      <td>1996.0</td>\n",
       "      <td>Role-Playing</td>\n",
       "      <td>Nintendo</td>\n",
       "      <td>11.27</td>\n",
       "      <td>8.89</td>\n",
       "      <td>10.22</td>\n",
       "      <td>1.00</td>\n",
       "      <td>31.37</td>\n",
       "    </tr>\n",
       "  </tbody>\n",
       "</table>\n",
       "</div>"
      ],
      "text/plain": [
       "   Rank                      Name Platform    Year         Genre Publisher  \\\n",
       "0     1                Wii Sports      Wii  2006.0        Sports  Nintendo   \n",
       "1     2         Super Mario Bros.      NES  1985.0      Platform  Nintendo   \n",
       "2     3            Mario Kart Wii      Wii  2008.0        Racing  Nintendo   \n",
       "3     4         Wii Sports Resort      Wii  2009.0        Sports  Nintendo   \n",
       "4     5  Pokemon Red/Pokemon Blue       GB  1996.0  Role-Playing  Nintendo   \n",
       "\n",
       "   NA_Sales  EU_Sales  JP_Sales  Other_Sales  Global_Sales  \n",
       "0     41.49     29.02      3.77         8.46         82.74  \n",
       "1     29.08      3.58      6.81         0.77         40.24  \n",
       "2     15.85     12.88      3.79         3.31         35.82  \n",
       "3     15.75     11.01      3.28         2.96         33.00  \n",
       "4     11.27      8.89     10.22         1.00         31.37  "
      ]
     },
     "execution_count": 2,
     "metadata": {},
     "output_type": "execute_result"
    }
   ],
   "source": [
    "# Importing data\n",
    "\n",
    "data_df = pd.read_csv(r'C:\\Users\\SHREE\\Downloads\\Python CODES\\Video Games Sales Analysis\\vgsales.csv')\n",
    "data_df.head()"
   ]
  },
  {
   "cell_type": "code",
   "execution_count": 3,
   "id": "bc2b706d",
   "metadata": {},
   "outputs": [
    {
     "name": "stdout",
     "output_type": "stream",
     "text": [
      "<class 'pandas.core.frame.DataFrame'>\n",
      "RangeIndex: 16598 entries, 0 to 16597\n",
      "Data columns (total 11 columns):\n",
      " #   Column        Non-Null Count  Dtype  \n",
      "---  ------        --------------  -----  \n",
      " 0   Rank          16598 non-null  int64  \n",
      " 1   Name          16598 non-null  object \n",
      " 2   Platform      16598 non-null  object \n",
      " 3   Year          16327 non-null  float64\n",
      " 4   Genre         16598 non-null  object \n",
      " 5   Publisher     16540 non-null  object \n",
      " 6   NA_Sales      16598 non-null  float64\n",
      " 7   EU_Sales      16598 non-null  float64\n",
      " 8   JP_Sales      16598 non-null  float64\n",
      " 9   Other_Sales   16598 non-null  float64\n",
      " 10  Global_Sales  16598 non-null  float64\n",
      "dtypes: float64(6), int64(1), object(4)\n",
      "memory usage: 1.4+ MB\n"
     ]
    }
   ],
   "source": [
    "# Getting som information about data\n",
    "\n",
    "data_df.info()"
   ]
  },
  {
   "cell_type": "code",
   "execution_count": 4,
   "id": "88933620",
   "metadata": {},
   "outputs": [
    {
     "data": {
      "text/plain": [
       "Rank              0\n",
       "Name              0\n",
       "Platform          0\n",
       "Year            271\n",
       "Genre             0\n",
       "Publisher        58\n",
       "NA_Sales          0\n",
       "EU_Sales          0\n",
       "JP_Sales          0\n",
       "Other_Sales       0\n",
       "Global_Sales      0\n",
       "dtype: int64"
      ]
     },
     "execution_count": 4,
     "metadata": {},
     "output_type": "execute_result"
    }
   ],
   "source": [
    "# Checking for missing values\n",
    "\n",
    "data_df.isnull().sum()"
   ]
  },
  {
   "cell_type": "code",
   "execution_count": 5,
   "id": "7a4707e4",
   "metadata": {},
   "outputs": [
    {
     "data": {
      "text/plain": [
       "Rank            0\n",
       "Name            0\n",
       "Platform        0\n",
       "Year            0\n",
       "Genre           0\n",
       "Publisher       0\n",
       "NA_Sales        0\n",
       "EU_Sales        0\n",
       "JP_Sales        0\n",
       "Other_Sales     0\n",
       "Global_Sales    0\n",
       "dtype: int64"
      ]
     },
     "execution_count": 5,
     "metadata": {},
     "output_type": "execute_result"
    }
   ],
   "source": [
    "# Dropping missing values\n",
    "\n",
    "data_df = data_df.dropna(subset=['Year','Publisher'],axis=0)\n",
    "data_df.isnull().sum()"
   ]
  },
  {
   "cell_type": "markdown",
   "id": "c32a706b",
   "metadata": {},
   "source": [
    "Plotting Sales VS Year"
   ]
  },
  {
   "cell_type": "code",
   "execution_count": 6,
   "id": "3104c827",
   "metadata": {},
   "outputs": [
    {
     "data": {
      "image/png": "[encoded data removed]",
      "text/plain": [
       "<Figure size 432x288 with 1 Axes>"
      ]
     },
     "metadata": {
      "needs_background": "light"
     },
     "output_type": "display_data"
    }
   ],
   "source": [
    "AnnualSalesMarket = data_df.groupby('Year')[['NA_Sales', 'EU_Sales', 'JP_Sales', 'Other_Sales']].sum().reset_index()\n",
    "plt.plot(AnnualSalesMarket['Year'], AnnualSalesMarket['NA_Sales'], label='North America Sales')\n",
    "plt.plot(AnnualSalesMarket['Year'], AnnualSalesMarket['EU_Sales'], label='Europe Sales')\n",
    "plt.plot(AnnualSalesMarket['Year'], AnnualSalesMarket['JP_Sales'], label='Japan Sales')\n",
    "plt.plot(AnnualSalesMarket['Year'], AnnualSalesMarket['Other_Sales'], label='Other Sales')\n",
    "plt.ylabel('Sales')\n",
    "plt.xlabel('Years')\n",
    "plt.title('Sales VS Years')\n",
    "plt.legend()\n",
    "plt.show()"
   ]
  },
  {
   "cell_type": "code",
   "execution_count": 7,
   "id": "23a798c6",
   "metadata": {},
   "outputs": [
    {
     "data": {
      "text/html": [
       "<div>\n",
       "<style scoped>\n",
       "    .dataframe tbody tr th:only-of-type {\n",
       "        vertical-align: middle;\n",
       "    }\n",
       "\n",
       "    .dataframe tbody tr th {\n",
       "        vertical-align: top;\n",
       "    }\n",
       "\n",
       "    .dataframe thead th {\n",
       "        text-align: right;\n",
       "    }\n",
       "</style>\n",
       "<table border=\"1\" class=\"dataframe\">\n",
       "  <thead>\n",
       "    <tr style=\"text-align: right;\">\n",
       "      <th></th>\n",
       "      <th>Platform</th>\n",
       "      <th>Genre</th>\n",
       "      <th>Publisher</th>\n",
       "      <th>NA_Sales</th>\n",
       "      <th>EU_Sales</th>\n",
       "    </tr>\n",
       "  </thead>\n",
       "  <tbody>\n",
       "    <tr>\n",
       "      <th>0</th>\n",
       "      <td>Wii</td>\n",
       "      <td>Sports</td>\n",
       "      <td>Nintendo</td>\n",
       "      <td>41.49</td>\n",
       "      <td>29.02</td>\n",
       "    </tr>\n",
       "    <tr>\n",
       "      <th>1</th>\n",
       "      <td>NES</td>\n",
       "      <td>Platform</td>\n",
       "      <td>Nintendo</td>\n",
       "      <td>29.08</td>\n",
       "      <td>3.58</td>\n",
       "    </tr>\n",
       "    <tr>\n",
       "      <th>2</th>\n",
       "      <td>Wii</td>\n",
       "      <td>Racing</td>\n",
       "      <td>Nintendo</td>\n",
       "      <td>15.85</td>\n",
       "      <td>12.88</td>\n",
       "    </tr>\n",
       "    <tr>\n",
       "      <th>3</th>\n",
       "      <td>Wii</td>\n",
       "      <td>Sports</td>\n",
       "      <td>Nintendo</td>\n",
       "      <td>15.75</td>\n",
       "      <td>11.01</td>\n",
       "    </tr>\n",
       "    <tr>\n",
       "      <th>4</th>\n",
       "      <td>GB</td>\n",
       "      <td>Role-Playing</td>\n",
       "      <td>Nintendo</td>\n",
       "      <td>11.27</td>\n",
       "      <td>8.89</td>\n",
       "    </tr>\n",
       "  </tbody>\n",
       "</table>\n",
       "</div>"
      ],
      "text/plain": [
       "  Platform         Genre Publisher  NA_Sales  EU_Sales\n",
       "0      Wii        Sports  Nintendo     41.49     29.02\n",
       "1      NES      Platform  Nintendo     29.08      3.58\n",
       "2      Wii        Racing  Nintendo     15.85     12.88\n",
       "3      Wii        Sports  Nintendo     15.75     11.01\n",
       "4       GB  Role-Playing  Nintendo     11.27      8.89"
      ]
     },
     "execution_count": 7,
     "metadata": {},
     "output_type": "execute_result"
    }
   ],
   "source": [
    "# Dropping unwanted columns\n",
    "\n",
    "data = data_df.drop(['Rank','Name','Year','JP_Sales','Other_Sales','Global_Sales'], axis=1)\n",
    "data.head()"
   ]
  },
  {
   "cell_type": "code",
   "execution_count": 9,
   "id": "a95948da",
   "metadata": {},
   "outputs": [
    {
     "data": {
      "text/html": [
       "<div>\n",
       "<style scoped>\n",
       "    .dataframe tbody tr th:only-of-type {\n",
       "        vertical-align: middle;\n",
       "    }\n",
       "\n",
       "    .dataframe tbody tr th {\n",
       "        vertical-align: top;\n",
       "    }\n",
       "\n",
       "    .dataframe thead th {\n",
       "        text-align: right;\n",
       "    }\n",
       "</style>\n",
       "<table border=\"1\" class=\"dataframe\">\n",
       "  <thead>\n",
       "    <tr style=\"text-align: right;\">\n",
       "      <th></th>\n",
       "      <th>Platform</th>\n",
       "      <th>Genre</th>\n",
       "      <th>Publisher</th>\n",
       "      <th>NA_Sales</th>\n",
       "      <th>EU_Sales</th>\n",
       "    </tr>\n",
       "  </thead>\n",
       "  <tbody>\n",
       "    <tr>\n",
       "      <th>0</th>\n",
       "      <td>19</td>\n",
       "      <td>2</td>\n",
       "      <td>289</td>\n",
       "      <td>41.49</td>\n",
       "      <td>29.02</td>\n",
       "    </tr>\n",
       "    <tr>\n",
       "      <th>1</th>\n",
       "      <td>3</td>\n",
       "      <td>6</td>\n",
       "      <td>289</td>\n",
       "      <td>29.08</td>\n",
       "      <td>3.58</td>\n",
       "    </tr>\n",
       "    <tr>\n",
       "      <th>2</th>\n",
       "      <td>19</td>\n",
       "      <td>8</td>\n",
       "      <td>289</td>\n",
       "      <td>15.85</td>\n",
       "      <td>12.88</td>\n",
       "    </tr>\n",
       "    <tr>\n",
       "      <th>3</th>\n",
       "      <td>19</td>\n",
       "      <td>2</td>\n",
       "      <td>289</td>\n",
       "      <td>15.75</td>\n",
       "      <td>11.01</td>\n",
       "    </tr>\n",
       "    <tr>\n",
       "      <th>4</th>\n",
       "      <td>26</td>\n",
       "      <td>9</td>\n",
       "      <td>289</td>\n",
       "      <td>11.27</td>\n",
       "      <td>8.89</td>\n",
       "    </tr>\n",
       "  </tbody>\n",
       "</table>\n",
       "</div>"
      ],
      "text/plain": [
       "   Platform  Genre  Publisher  NA_Sales  EU_Sales\n",
       "0        19      2        289     41.49     29.02\n",
       "1         3      6        289     29.08      3.58\n",
       "2        19      8        289     15.85     12.88\n",
       "3        19      2        289     15.75     11.01\n",
       "4        26      9        289     11.27      8.89"
      ]
     },
     "execution_count": 9,
     "metadata": {},
     "output_type": "execute_result"
    }
   ],
   "source": [
    "# Converting the object data type columns to string\n",
    "# Using Label Encoder for coversion of categorical columns to numerical columns \n",
    "\n",
    "le = LabelEncoder()\n",
    "data['Platform'] = le.fit_transform(data['Platform'].astype('str'))\n",
    "data['Genre'] = le.fit_transform(data['Genre'].astype('str'))\n",
    "data['Publisher'] = le.fit_transform(data['Publisher'].astype('str'))\n",
    "data.head()"
   ]
  },
  {
   "cell_type": "code",
   "execution_count": 10,
   "id": "12df371a",
   "metadata": {},
   "outputs": [],
   "source": [
    "y = data_df['Global_Sales']"
   ]
  },
  {
   "cell_type": "markdown",
   "id": "9b2a3dd4",
   "metadata": {},
   "source": [
    "Feature Scaling\n",
    "\n",
    "Why is scaling important in machine learning?\n",
    "Scaling the target value is a good idea in regression modelling; scaling of the data makes it easy for a model to learn and understand the problem. Scaling of the data comes under the set of steps of data pre-processing when we are performing machine learning algorithms in the data set.\n",
    "\n",
    "Here we are scaling the data by standardizing it using Standard Scaler.\n",
    "\n",
    "- Standardizing the data\n",
    "\n",
    "Data Standardization - \n",
    "\n",
    "Data standardization is the process of rescaling the attributes so that they have mean as 0 and variance as 1. The ultimate goal to perform standardization is to bring down all the features to a common scale without distorting the differences in the range of the values\n",
    "\n",
    "Standard Scaler - \n",
    "\n",
    "StandardScaler removes the mean and scales each feature/variable to unit variance. This operation is performed feature-wise in an independent way. StandardScaler can be influenced by outliers (if they exist in the dataset) since it involves the estimation of the empirical mean and standard deviation of each feature.\n",
    "\n",
    "In Machine Learning, StandardScaler is used to resize the distribution of values ​​so that the mean of the observed values ​​is 0 and the standard deviation is 1"
   ]
  },
  {
   "cell_type": "code",
   "execution_count": 11,
   "id": "d8435208",
   "metadata": {},
   "outputs": [],
   "source": [
    "scaler = StandardScaler()\n",
    "scaler.fit(data)\n",
    "data = scaler.transform(data)"
   ]
  },
  {
   "cell_type": "markdown",
   "id": "79a9262a",
   "metadata": {},
   "source": [
    "Splitting the data into train & test"
   ]
  },
  {
   "cell_type": "code",
   "execution_count": 12,
   "id": "1365f6b8",
   "metadata": {},
   "outputs": [],
   "source": [
    "X_train, X_test, y_train, y_test = train_test_split(data, y, test_size=0.30)"
   ]
  },
  {
   "cell_type": "markdown",
   "id": "13134745",
   "metadata": {},
   "source": [
    "### Linear Regression\n",
    "\n",
    "- When can I use linear regression?\n",
    "\n",
    "Regression analysis is used when you want to predict a continuous dependent variable from a number of independent variables. If the dependent variable is dichotomous, then logistic regression should be used.\n",
    "\n",
    "You can use simple linear regression when you want to know: How strong the relationship is between two variables (e.g. the relationship between rainfall and soil erosion). The value of the dependent variable at a certain value of the independent variable (e.g. the amount of soil erosion at a certain level of rainfall).\n",
    "\n",
    "Linear Regression, intuitively is a regression algorithm with a Linear approach. We try to predict a continuous value of a given data point by generalising on the data that we have in hand. The linear part indicates that we are using a linear approach in generalising over the data.\n",
    "\n",
    "Linear regression analysis is used to predict the value of a variable based on the value of another variable. The variable you want to predict is called the dependent variable. The variable you are using to predict the other variable's value is called the independent variable.\n",
    "\n",
    "Linear Regression, as the name suggests, simply means fitting a line to the data that establishes a relationship between a target 'y' variable with the explanatory 'x' variables.\n",
    "\n",
    "- How is linear regression used in real life?\n",
    "\n",
    "Medical researchers often use linear regression to understand the relationship between drug dosage and blood pressure of patients. For example, researchers might administer various dosages of a certain drug to patients and observe how their blood pressure responds.\n",
    "\n",
    "- How do you choose the best linear regression model?\n",
    "\n",
    "When choosing a linear model, these are factors to keep in mind:\n",
    "\n",
    "Only compare linear models for the same dataset.\n",
    "\n",
    "Find a model with a high adjusted R2.\n",
    "\n",
    "Make sure this model has equally distributed residuals around zero.\n",
    "\n",
    "Make sure the errors of this model are within a small bandwidth.\n",
    "\n",
    "- How do you know if a linear relationship is statistically significant?\n",
    "\n",
    "To determine whether the correlation between variables is significant, compare the p-value to your significance level. Usually, a significance level (denoted as α or alpha) of 0.05 works well. An α of 0.05 indicates that the risk of concluding that a correlation exists—when, actually, no correlation exists—is 5%.\n",
    "\n",
    "- In a regression context, the slope is the heart and soul of the equation because it tells you how much you can expect Y to change as X increases. In general, the units for slope are the units of the Y variable per units of the X variable.\n",
    "\n",
    "- How do you know if a linear regression is appropriate?\n",
    "\n",
    "If a linear model is appropriate, the histogram should look approximately normal and the scatterplot of residuals should show random scatter . If we see a curved relationship in the residual plot, the linear model is not appropriate. Another type of residual plot shows the residuals versus the explanatory variable.\n",
    "\n",
    "- There are four assumptions associated with a linear regression model: Linearity: The relationship between X and the mean of Y is linear. Homoscedasticity: The variance of residual is the same for any value of X. Independence: Observations are independent of each other.\n",
    "\n",
    "- The correlation\n",
    "\n",
    "R: The correlation between the predictor variable, x, and the response variable, y. \n",
    "\n",
    "R2: The proportion of the variance in the response variable that can be explained by the predictor variable in the regression model.\n",
    "\n",
    "- What does the regression coefficient tell us?\n",
    "\n",
    "In regression with a single independent variable, the coefficient tells you how much the dependent variable is expected to increase (if the coefficient is positive) or decrease (if the coefficient is negative) when that independent variable increases by one.\n",
    "\n",
    "- The Correlation Coefficient\n",
    "\n",
    "When the r value is closer to +1 or -1, it indicates that there is a stronger linear relationship between the two variables. A correlation of -0.97 is a strong negative correlation while a correlation of 0.10 would be a weak positive correlation.\n",
    "\n",
    "- How do you know if a regression coefficient is significant?\n",
    "\n",
    "If the p-value is less than the chosen threshold then it is significant. The significance of a regression coefficient in a regression model is determined by dividing the estimated coefficient over the standard deviation of this estimate.\n",
    "\n",
    "- What is R value in regression?\n",
    "\n",
    "Simply put, R is the correlation between the predicted values and the observed values of Y. R square is the square of this coefficient and indicates the percentage of variation explained by your regression line out of the total variation. This value tends to increase as you include additional predictors in the model.\n",
    "\n",
    "- What does a positive R value mean?\n",
    "\n",
    "The correlation coefficient r ranges between -1 and +1. A positive r values indicates that as one variable increases so does the other, and an r of +1 indicates that knowing the value of one variable allows perfect prediction of the other.\n",
    "\n",
    "- What is a good regression coefficient?\n",
    "\n",
    "A value of 1.0 indicates a perfect fit, and is thus a highly reliable model for future forecasts, while a value of 0.0 would indicate that the calculation fails to accurately model the data at all.\n",
    "\n",
    "- How is r2 value calculated?\n",
    "\n",
    "R 2 = 1 − sum squared regression (SSR) total sum of squares (SST) , = 1 − ∑ ( y i − y i ^ ) 2 ∑ ( y i − y ¯ ) 2 . The sum squared regression is the sum of the residuals squared, and the total sum of squares is the sum of the distance the data is away from the mean all squared.\n",
    "\n",
    "- How do you increase R-squared in regression?\n",
    "\n",
    "When more variables are added, r-squared values typically increase. They can never decrease when adding a variable; and if the fit is not 100% perfect, then adding a variable that represents random data will increase the r-squared value with probability 1.\n",
    "\n",
    "- How do you interpret R & r2?\n",
    "\n",
    "The coefficient of determination, R2, is similar to the correlation coefficient, R. The correlation coefficient formula will tell you how strong of a linear relationship there is between two variables. R Squared is the square of the correlation coefficient, r (hence the term r squared).\n",
    "\n",
    "The most common interpretation of r-squared is how well the regression model fits the observed data. For example, an r-squared of 60% reveals that 60% of the data fit the regression model. Generally, a higher r-squared indicates a better fit for the model.\n",
    "\n",
    "- Should I report R or R-squared?\n",
    "\n",
    "If strength and direction of a linear relationship should be presented, then r is the correct statistic. If the proportion of explained variance should be presented, then r² is the correct statistic.\n",
    "\n",
    "- Is higher adjusted R-squared better?\n",
    "\n",
    "A higher R-squared value indicates a higher amount of variability being explained by our model and vice-versa. If we had a really low RSS value, it would mean that the regression line was very close to the actual points. This means the independent variables explain the majority of variation in the target variable\n",
    "\n",
    "- What does P value mean in linear regression?\n",
    "\n",
    "P-Value is a statistical test that determines the probability of extreme results of the statistical hypothesis test,taking the Null Hypothesis to be correct. It is mostly used as an alternative to rejection points that provides the smallest level of significance at which the Null-Hypothesis would be rejected.\n",
    "\n",
    "- When interpreting a correlation coefficient it is important to look at?\n",
    "\n",
    "The correct answer is a) Scores on one variable plotted against scores on a second variable. 3. When interpreting a correlation coefficient, it is important to look at: The +/– sign of the correlation coefficient.\n",
    "\n",
    "- How do you interpret correlation and regression results?\n",
    "\n",
    "Both quantify the direction and strength of the relationship between two numeric variables. When the correlation (r) is negative, the regression slope (b) will be negative. When the correlation is positive, the regression slope will be positive.\n",
    "\n",
    "- How do you tell if a regression model is a good fit?\n",
    "\n",
    "If the model fit to the data were correct, the residuals would approximate the random errors that make the relationship between the explanatory variables and the response variable a statistical relationship. Therefore, if the residuals appear to behave randomly, it suggests that the model fits the data well.\n",
    "\n",
    "- How do you interpret a linear regression model?\n",
    "\n",
    "Linear Regression is the most talked-about term for those who are working on ML and statistical analysis. Linear Regression, as the name suggests, simply means fitting a line to the data that establishes a relationship between a target 'y' variable with the explanatory 'x' variables.\n",
    "\n",
    "- What are the advantages and disadvantages of linear regression?\n",
    "\n",
    "Advantages\n",
    "\n",
    "Linear regression performs exceptionally well for linearly separable data\t\n",
    "\n",
    "Easier to implement, interpret and efficient to train\n",
    "\n",
    "Disadvantages\n",
    "\n",
    "The assumption of linearity between dependent and independent variables\n",
    "\n",
    "It is often quite prone to noise and overfitting\n",
    "\n",
    "- What are the advantages of linear regression?\n",
    "\n",
    "The principal advantage of linear regression is its simplicity, interpretability, scientific acceptance, and widespread availability. Linear regression is the first method to use for many problems. Analysts can use linear regression together with techniques such as variable recoding, transformation, or segmentation.\n",
    "\n",
    "- What are the limitations of linear regression?\n",
    "\n",
    "Main limitation of Linear Regression is the assumption of linearity between the dependent variable and the independent variables. In the real world, the data is rarely linearly separable. It assumes that there is a straight-line relationship between the dependent and independent variables which is incorrect many times.\n",
    "\n",
    "- What is Karl Pearson coefficient of correlation?\n",
    "\n",
    "Karl Pearson's coefficient of correlation is defined as a linear correlation coefficient that falls in the value range of -1 to +1. Value of -1 signifies strong negative correlation while +1 indicates strong positive correlation.\n",
    "\n",
    "- What are the three strengths of linear regression?\n",
    "\n",
    "Three major uses for regression analysis are (1) determining the strength of predictors, (2) forecasting an effect, and (3) trend forecasting.\n",
    "\n"
   ]
  },
  {
   "cell_type": "code",
   "execution_count": 15,
   "id": "f39efdb7",
   "metadata": {},
   "outputs": [
    {
     "data": {
      "text/plain": [
       "LinearRegression()"
      ]
     },
     "execution_count": 15,
     "metadata": {},
     "output_type": "execute_result"
    }
   ],
   "source": [
    "# Model creating & fitting the data in the model\n",
    "\n",
    "reg = LinearRegression()\n",
    "reg.fit(X_train,y_train)"
   ]
  },
  {
   "cell_type": "code",
   "execution_count": 16,
   "id": "e16af4fe",
   "metadata": {},
   "outputs": [],
   "source": [
    "# Predicting on test data\n",
    "\n",
    "y_pred = reg.predict(X_test)"
   ]
  },
  {
   "cell_type": "code",
   "execution_count": 17,
   "id": "90796563",
   "metadata": {},
   "outputs": [
    {
     "name": "stdout",
     "output_type": "stream",
     "text": [
      "Train Accuracy : 95.97%\n",
      "Test Accuracy : 97.23%\n"
     ]
    }
   ],
   "source": [
    "# Checking accuracy\n",
    "\n",
    "Acc_reg = reg.score(X_train, y_train)\n",
    "acc_reg = reg.score(X_test, y_test)\n",
    "print ('Train Accuracy : {:.2f}%'.format(Acc_reg*100))\n",
    "print ('Test Accuracy : {:.2f}%'.format(acc_reg*100))"
   ]
  },
  {
   "cell_type": "code",
   "execution_count": 19,
   "id": "17b54caf",
   "metadata": {},
   "outputs": [
    {
     "name": "stdout",
     "output_type": "stream",
     "text": [
      "Mean squared error: 0.09\n",
      "Variance Score: 0.97\n"
     ]
    }
   ],
   "source": [
    "# Checking error & r2 score\n",
    "\n",
    "print('Mean squared error: %.2f'% mean_squared_error(y_test, y_pred))\n",
    "print('Variance Score: %.2f'% r2_score(y_test, y_pred))"
   ]
  },
  {
   "cell_type": "markdown",
   "id": "9bd24581",
   "metadata": {},
   "source": [
    "### Support Vector Regressor\n",
    "\n",
    "An intuitive overview of Support vector Regression -\n",
    "\n",
    "Support Vector Machines(SVM) are one of the state-of-the-art machine learning algorithm based on Maximal Margin Classifier.\n",
    "SVM support linear as well as non-linear regression called Support Vector Regression(SVR).\n",
    "\n",
    "Support vector machines (SVM) are a set of supervised learning methods; used for regression, classification. Unlike other learning methods; SVM tries to fit the best decision boundary or hyperplane using some data samples from given training data which are called support vectors. Hyperplane means a flat affine subspace of the dimension p-1 in p dimensional space; in machine learning lingo p are the features.\n",
    "\n",
    "Support Vector Regression is a supervised learning algorithm that is used to predict discrete values. Support Vector Regression uses the same principle as the SVMs. The basic idea behind SVR is to find the best fit line. In SVR, the best fit line is the hyperplane that has the maximum number of points.\n",
    "\n",
    "The idea of SVM is simple: The algorithm creates a line or a hyperplane which separates the data into classes.\n",
    "\n",
    "- What is the objective of the support vector machine algorithm?\n",
    "\n",
    "The objective of SVM algorithm is to find a hyperplane in an N-dimensional space that distinctly classifies the data points. The dimension of the hyperplane depends upon the number of features. If the number of input features is two, then the hyperplane is just a line.\n",
    "\n",
    "The goal of SVM is to divide the datasets into classes to find a maximum marginal hyperplane (MMH).\n",
    "\n",
    "To find the optimal hyperplane with maximum margin; some of the training data points which helps to find it are called support vectors. Support vectors determine the shape of the hyperplane. Other than support vectors does not play any role to decide optimal decision hyperplane.That’s it this is the intuitive explanation of SVM.\n",
    "\n",
    "Let me give you an analogy:\n",
    "\n",
    "Linear Regression : Support vector regression : : Logistic regression : Support vector Machine\n",
    "\n",
    "The difference dwells on the input feature space dimensions.\n",
    "A linear regression models a line to classify the data points, while a support vector regression can also model a hyperplane.\n",
    "\n",
    "- Hyperplane\n",
    "\n",
    "Hyperplane acts as a classifier that splits the input feature space.\n",
    "\n",
    "A hyperplane is a line that splits the input variable space. In SVM, a hyperplane is selected to best separate the points in the input variable space by their class, either class 0 or class 1.\n",
    "\n",
    "For a two-variable space, the hyperplane would be a line b0+b1*x1+b2*x2\n",
    "\n",
    "Where the coefficients (B1 and B2) that determine the slope of the line and the intercept (B0) are found by the learning algorithm, and X1 and X2 are the two input variables.\n",
    "\n",
    "You can make classifications using this line. By plugging in input values into the line equation, you can calculate whether a new point is above or below the line.\n",
    "\n",
    "Above the line, the equation returns a value greater than 0 and the point belongs to the first class (class 0).\n",
    "Below the line, the equation returns a value less than 0 and the point belongs to the second class (class 1).\n",
    "A value close to the line returns a value close to zero and the point may be difficult to classify.\n",
    "If the magnitude of the value is large, the model may have more confidence in the prediction.\n",
    "\n",
    "In case of SVM,\n",
    "\n",
    "A point above the line gets a label `1`\n",
    "\n",
    "A point below the line gets a label `0`\n",
    "\n",
    "A point close to the line return a value close to `0` and the point may be difficult to classify.\n",
    "\n",
    "If the magnitude of value is large for a test data point, the model will have more confidence in prediction.\n",
    "Thus, comes the concept of maximising the margin.\n",
    "\n",
    "- Margin\n",
    "\n",
    "The points closest to the hyperplane has an uncertain class label or has a class label with nearly equal probability as the other class label.\n",
    "\n",
    "Margin is the perpendicular distance between the hyperplane and the closest points.\n",
    "\n",
    "Therefore, SVM tries to maximise this margin and works as `Maximal Margin Classifier`\n",
    "\n",
    "The distance between the line and the closest data points is referred to as the margin. The best or optimal line that can separate the two classes is the line that as the largest margin. This is called the Maximal-Margin hyperplane.\n",
    "\n",
    "The margin is calculated as the perpendicular distance from the line to only the closest points. Only these points are relevant in defining the line and in the construction of the classifier. These points are called the support vectors. They support or define the hyperplane.\n",
    "\n",
    "The hyperplane is learned from training data using an optimization procedure that maximizes the margin.\n",
    "\n",
    "- Support Vectors\n",
    "\n",
    "The training instances closest to the hyperplane that help define the margin are called Support Vectors.\n",
    "\n",
    "Real data is messy!\n",
    "\n",
    "Thus, we can’t have a perfect hyperplane splitting the data points perfectly into two classes.\n",
    "\n",
    "We tend to relax the constraint of maximising the margin and allow some points to violate the margin(that is, allow some points to have wrong label as per our model for a good overall performance).\n",
    "\n",
    "- SVR working\n",
    "\n",
    "SVR tries to have as many support vectors as possible within the boundary lines without much margin violation, thus keeping the error within the threshold decided by the boundary lines.\n",
    "\n",
    "Intuitively,these support vectors contribute to the error made by the SVR and thus, we want most of the support vectors to be in that threshold.\n",
    "\n",
    "We can model SVM as well as SVR through kernels that indicates the similarity measure between the test data point and the support vectors.\n",
    "\n",
    "- Support Vector Machines (Kernels)\n",
    "\n",
    "The SVM algorithm is implemented in practice using a kernel.\n",
    "\n",
    "The learning of the hyperplane in linear SVM is done by transforming the problem using some linear algebra, which is out of the scope of this introduction to SVM.\n",
    "\n",
    "A powerful insight is that the linear SVM can be rephrased using the inner product of any two given observations, rather than the observations themselves. The inner product between two vectors is the sum of the multiplication of each pair of input values.\n",
    "\n",
    "For example, the inner product of the vectors [2, 3] and [5, 6] is 2*5 + 3*6 or 28.\n",
    "\n",
    "The equation for making a prediction for a new input using the dot product between the input (x) and each support vector (xi) is calculated as follows:\n",
    "\n",
    "f(x) = B0 + sum(ai * (x,xi))\n",
    "\n",
    "This is an equation that involves calculating the inner products of a new input vector (x) with all support vectors in training data. The coefficients B0 and ai (for each input) must be estimated from the training data by the learning algorithm.\n",
    "\n",
    "- Linear Kernel SVM\n",
    "\n",
    "The dot-product is called the kernel and can be re-written as:\n",
    "\n",
    "K(x, xi) = sum(x * xi)\n",
    "\n",
    "The kernel defines the similarity or a distance measure between new data and the support vectors. The dot product is the similarity measure used for linear SVM or a linear kernel because the distance is a linear combination of the inputs.\n",
    "\n",
    "Other kernels can be used that transform the input space into higher dimensions such as a Polynomial Kernel and a Radial Kernel. This is called the Kernel Trick.\n",
    "\n",
    "It is desirable to use more complex kernels as it allows lines to separate the classes that are curved or even more complex. This in turn can lead to more accurate classifiers.\n",
    "\n",
    "- Polynomial Kernel SVM\n",
    "\n",
    "Instead of the dot-product, we can use a polynomial kernel, for example:\n",
    "\n",
    "K(x,xi) = 1 + sum(x * xi)^d\n",
    "\n",
    "Where the degree of the polynomial must be specified by hand to the learning algorithm. When d=1 this is the same as the linear kernel. The polynomial kernel allows for curved lines in the input space.\n",
    "\n",
    "- Radial Kernel SVM\n",
    "\n",
    "Finally, we can also have a more complex radial kernel. For example:\n",
    "\n",
    "K(x,xi) = exp(-gamma * sum((x – xi^2))\n",
    "\n",
    "Where gamma is a parameter that must be specified to the learning algorithm. A good default value for gamma is 0.1, where gamma is often 0 < gamma < 1. The radial kernel is very local and can create complex regions within the feature space, like closed polygons in two-dimensional space.\n",
    "\n",
    "- How to Learn a SVM Model\n",
    "\n",
    "The SVM model needs to be solved using an optimization procedure.\n",
    "\n",
    "You can use a numerical optimization procedure to search for the coefficients of the hyperplane. This is inefficient and is not the approach used in widely used SVM implementations like LIBSVM. If implementing the algorithm as an exercise, you could use stochastic gradient descent.\n",
    "\n",
    "There are specialized optimization procedures that re-formulate the optimization problem to be a Quadratic Programming problem. The most popular method for fitting SVM is the Sequential Minimal Optimization (SMO) method that is very efficient. It breaks the problem down into sub-problems that can be solved analytically (by calculating) rather than numerically (by searching or optimizing).\n",
    "\n",
    "- Data Preparation for SVM\n",
    "\n",
    "This section lists some suggestions for how to best prepare your training data when learning an SVM model.\n",
    "\n",
    "- Numerical Inputs: \n",
    "\n",
    "SVM assumes that your inputs are numeric. If you have categorical inputs you may need to covert them to binary dummy variables (one variable for each category).\n",
    "\n",
    "- Binary Classification: \n",
    "\n",
    "Basic SVM as described in this post is intended for binary (two-class) classification problems. Although, extensions have been developed for regression and multi-class classification.\n",
    "\n",
    "- Conclusion\n",
    "\n",
    "Lastly, a major difference between Linear regression and SVR lies on the fact that Linear regression tends to minimize the error and SVR tends to keep it within a threshold.\n",
    "\n",
    "You can, easily implement SVR(for regression tasks) and SVM(for classification purposes) using the model provided by the skicit-learn library.\n",
    "\n",
    "from sklearn.svm import SVR\n",
    "\n",
    "regressor=SVR(kernel=’linear’,degree=1)\n",
    "\n",
    "Then, fit the model and predict."
   ]
  },
  {
   "cell_type": "code",
   "execution_count": 21,
   "id": "019033cf",
   "metadata": {},
   "outputs": [
    {
     "data": {
      "text/plain": [
       "SVR()"
      ]
     },
     "execution_count": 21,
     "metadata": {},
     "output_type": "execute_result"
    }
   ],
   "source": [
    "# Creating the model & fitting data\n",
    "\n",
    "model_svr = SVR()\n",
    "model_svr.fit(X_train, y_train)"
   ]
  },
  {
   "cell_type": "code",
   "execution_count": 22,
   "id": "0f630489",
   "metadata": {},
   "outputs": [],
   "source": [
    "#Prediction on test data\n",
    "\n",
    "pred_svr = model_svr.predict(X_test)"
   ]
  },
  {
   "cell_type": "code",
   "execution_count": 23,
   "id": "ef95bc8e",
   "metadata": {},
   "outputs": [
    {
     "name": "stdout",
     "output_type": "stream",
     "text": [
      "Train Accuracy : 65.55%\n",
      "Test Accuracy : 45.08%\n"
     ]
    }
   ],
   "source": [
    "# Checking accuracy\n",
    "\n",
    "Acc_svr = model_svr.score(X_train, y_train)\n",
    "acc_svr = model_svr.score(X_test, y_test)\n",
    "print ('Train Accuracy : {:.2f}%'.format(Acc_svr*100))\n",
    "print ('Test Accuracy : {:.2f}%'.format(acc_svr*100))"
   ]
  },
  {
   "cell_type": "code",
   "execution_count": 24,
   "id": "2b63b114",
   "metadata": {},
   "outputs": [
    {
     "name": "stdout",
     "output_type": "stream",
     "text": [
      "Mean squared error: 1.80\n",
      "Variance Score: 0.45\n"
     ]
    }
   ],
   "source": [
    "# Checking error & r2 score\n",
    "\n",
    "print('Mean squared error: %.2f'% mean_squared_error(y_test, pred_svr))\n",
    "print('Variance Score: %.2f'% r2_score(y_test, pred_svr))"
   ]
  },
  {
   "cell_type": "markdown",
   "id": "999ac83d",
   "metadata": {},
   "source": [
    "### K Neighbors Regressor\n",
    "\n",
    "KNN regression is a non-parametric method that, in an intuitive manner, approximates the association between independent variables and the continuous outcome by averaging the observations in the same neighbourhood.\n",
    "\n",
    "The KNN algorithm uses 'feature similarity' to predict the values of any new data points. This means that the new point is assigned a value based on how closely it resembles the points in the training set.\n",
    "\n",
    "KNN works by finding the distances between a query and all the examples in the data, selecting the specified number examples (K) closest to the query, then votes for the most frequent label (in the case of classification) or averages the labels (in the case of regression)."
   ]
  },
  {
   "cell_type": "code",
   "execution_count": 25,
   "id": "c0f9e69d",
   "metadata": {},
   "outputs": [
    {
     "data": {
      "text/plain": [
       "KNeighborsRegressor()"
      ]
     },
     "execution_count": 25,
     "metadata": {},
     "output_type": "execute_result"
    }
   ],
   "source": [
    "# Creating model & fitting the training data to model\n",
    "\n",
    "neigh = KNeighborsRegressor()\n",
    "neigh.fit(X_train, y_train)"
   ]
  },
  {
   "cell_type": "code",
   "execution_count": 26,
   "id": "d121a335",
   "metadata": {},
   "outputs": [],
   "source": [
    "# Predicting on test data\n",
    "\n",
    "pred_neigh = neigh.predict(X_test)"
   ]
  },
  {
   "cell_type": "code",
   "execution_count": 27,
   "id": "aa4ac973",
   "metadata": {},
   "outputs": [
    {
     "name": "stdout",
     "output_type": "stream",
     "text": [
      "Train Accuracy : 96.44%\n",
      "Test Accuracy : 81.63%\n"
     ]
    }
   ],
   "source": [
    "# Checking the accuracy\n",
    "\n",
    "Acc_neigh = neigh.score(X_train, y_train)\n",
    "acc_neigh = neigh.score(X_test, y_test)\n",
    "print ('Train Accuracy : {:.2f}%'.format(Acc_neigh*100))\n",
    "print ('Test Accuracy : {:.2f}%'.format(acc_neigh*100))"
   ]
  },
  {
   "cell_type": "code",
   "execution_count": 28,
   "id": "25ef1b1b",
   "metadata": {},
   "outputs": [
    {
     "name": "stdout",
     "output_type": "stream",
     "text": [
      "Mean squared error: 0.60\n",
      "Variance Score: 0.82\n"
     ]
    }
   ],
   "source": [
    "# Checking the error & r2 score\n",
    "\n",
    "print('Mean squared error: %.2f'% mean_squared_error(y_test, pred_neigh))\n",
    "print('Variance Score: %.2f'% r2_score(y_test, pred_neigh))"
   ]
  },
  {
   "cell_type": "markdown",
   "id": "ff212f31",
   "metadata": {},
   "source": [
    "### Gradient Boosting Regressor\n",
    "\n",
    "- Ensembles and boosting\n",
    "\n",
    "Machine learning models can be fitted to data individually, or combined in an ensemble. An ensemble is a combination of simple individual models that together create a more powerful new model.\n",
    "\n",
    "Machine learning boosting is a method for creating an ensemble. It starts by fitting an initial model (e.g. a tree or linear regression) to the data. Then a second model is built that focuses on accurately predicting the cases where the first model performs poorly. The combination of these two models is expected to be better than either model alone. Then you repeat this process of boosting many times.  Each successive model attempts to correct for the shortcomings of the combined boosted ensemble of all previous models.\n",
    "\n",
    "- Gradient boosting explained\n",
    "\n",
    "Gradient boosting is a type of machine learning boosting. It relies on the intuition that the best possible next model, when combined with previous models, minimizes the overall prediction error. The key idea is to set the target outcomes for this next model in order to minimize the error. \n",
    "\n",
    "- How are the targets calculated? \n",
    "\n",
    "The target outcome for each case in the data depends on how much changing that case's prediction impacts the overall prediction error.\n",
    "\n",
    "- Prediction error\n",
    "\n",
    "If a small change in the prediction for a case causes a large drop in error, then next target outcome of the case is a high value. Predictions from the new model that are close to its targets will reduce the error.\n",
    "If a small change in the prediction for a case causes no change in error, then next target outcome of the case is zero. Changing this prediction does not decrease the error.\n",
    "The name gradient boosting arises because target outcomes for each case are set based on the gradient of the error with respect to the prediction. Each new model takes a step in the direction that minimizes prediction error, in the space of possible predictions for each training case.\n",
    "\n",
    "- Why is boosting used?\n",
    "\n",
    "Boosting is an ensemble learning method that combines a set of weak learners into a strong learner to minimize training errors. In boosting, a random sample of data is selected, fitted with a model and then trained sequentially—that is, each model tries to compensate for the weaknesses of its predecessor.\n",
    "\n",
    "Gradient Boosting Machine (GBM) A Gradient Boosting Machine or GBM combines the predictions from multiple decision trees to generate the final predictions. Keep in mind that all the weak learners in a gradient boosting machine are decision trees.\n",
    "\n",
    "In gradient boosting, we predict and adjust our predictions in the opposite (negative gradient) direction. This achieves the opposite (minimize the loss). Since, the loss of a model inversely relates to its performance and accuracy, doing so improves its performance.\n",
    "\n",
    "Gradient Boosting is a generic algorithm that assists in searching the approximate solutions to the additive modelling problem.\n",
    "\n",
    "- How does gradient boosting Regressor work?\n",
    "\n",
    "Gradient boosting algorithm is one of the most powerful algorithms in the field of machine learning. As we know that the errors in machine learning algorithms are broadly classified into two categories i.e. Bias Error and Variance Error. As gradient boosting is one of the boosting algorithms it is used to minimize bias error of the model.\n",
    "\n",
    "Unlike, Adaboosting algorithm, the base estimator in the gradient boosting algorithm cannot be mentioned by us. The base estimator for the Gradient Boost algorithm is fixed and i.e. Decision Stump. Like, AdaBoost, we can tune the n_estimator of the gradient boosting algorithm. However, if we do not mention the value of n_estimator, the default value of n_estimator for this algorithm is 100.\n",
    "\n",
    "Gradient boosting algorithm can be used for predicting not only continuous target variable (as a Regressor) but also categorical target variable (as a Classifier). When it is used as a regressor, the cost function is Mean Square Error (MSE) and when it is used as a classifier then the cost function is Log loss.\n",
    "\n",
    "Gradient boosting involves three elements:\n",
    "\n",
    "A loss function to be optimized.\n",
    "\n",
    "A weak learner to make predictions.\n",
    "\n",
    "An additive model to add weak learners to minimize the loss function.\n",
    "\n",
    "1. Loss Function\n",
    "\n",
    "The loss function used depends on the type of problem being solved.\n",
    "\n",
    "It must be differentiable, but many standard loss functions are supported and you can define your own.\n",
    "\n",
    "For example, regression may use a squared error and classification may use logarithmic loss.\n",
    "\n",
    "A benefit of the gradient boosting framework is that a new boosting algorithm does not have to be derived for each loss function that may want to be used, instead, it is a generic enough framework that any differentiable loss function can be used.\n",
    "\n",
    "2. Weak Learner\n",
    "\n",
    "Decision trees are used as the weak learner in gradient boosting.\n",
    "\n",
    "Specifically regression trees are used that output real values for splits and whose output can be added together, allowing subsequent models outputs to be added and “correct” the residuals in the predictions.\n",
    "\n",
    "Trees are constructed in a greedy manner, choosing the best split points based on purity scores like Gini or to minimize the loss.\n",
    "\n",
    "Initially, such as in the case of AdaBoost, very short decision trees were used that only had a single split, called a decision stump. Larger trees can be used generally with 4-to-8 levels.\n",
    "\n",
    "It is common to constrain the weak learners in specific ways, such as a maximum number of layers, nodes, splits or leaf nodes.\n",
    "\n",
    "This is to ensure that the learners remain weak, but can still be constructed in a greedy manner.\n",
    "\n",
    "3. Additive Model\n",
    "\n",
    "Trees are added one at a time, and existing trees in the model are not changed.\n",
    "\n",
    "A gradient descent procedure is used to minimize the loss when adding trees.\n",
    "\n",
    "Traditionally, gradient descent is used to minimize a set of parameters, such as the coefficients in a regression equation or weights in a neural network. After calculating error or loss, the weights are updated to minimize that error.\n",
    "\n",
    "Instead of parameters, we have weak learner sub-models or more specifically decision trees. After calculating the loss, to perform the gradient descent procedure, we must add a tree to the model that reduces the loss (i.e. follow the gradient). We do this by parameterizing the tree, then modify the parameters of the tree and move in the right direction by (reducing the residual loss.\n",
    "\n",
    "Generally this approach is called functional gradient descent or gradient descent with functions.\n",
    "\n",
    "One way to produce a weighted combination of classifiers which optimizes [the cost] is by gradient descent in function space\n",
    "\n",
    "— Boosting Algorithms as Gradient Descent in Function Space\n",
    "\n",
    "The output for the new tree is then added to the output of the existing sequence of trees in an effort to correct or improve the final output of the model.\n",
    "\n",
    "A fixed number of trees are added or training stops once loss reaches an acceptable level or no longer improves on an external validation dataset.\n",
    "\n",
    "Improvements to Basic Gradient Boosting\n",
    "\n",
    "Gradient boosting is a greedy algorithm and can overfit a training dataset quickly.\n",
    "\n",
    "It can benefit from regularization methods that penalize various parts of the algorithm and generally improve the performance of the algorithm by reducing overfitting.\n",
    "\n",
    "In this this section we will look at 4 enhancements to basic gradient boosting:\n",
    "\n",
    "Tree Constraints\n",
    "\n",
    "Shrinkage\n",
    "\n",
    "Random sampling\n",
    "\n",
    "Penalized Learning\n",
    "\n",
    "1. Tree Constraints\n",
    "\n",
    "It is important that the weak learners have skill but remain weak.\n",
    "\n",
    "There are a number of ways that the trees can be constrained.\n",
    "\n",
    "A good general heuristic is that the more constrained tree creation is, the more trees you will need in the model, and the reverse, where less constrained individual trees, the fewer trees that will be required.\n",
    "\n",
    "Below are some constraints that can be imposed on the construction of decision trees:\n",
    "\n",
    "Number of trees, generally adding more trees to the model can be very slow to overfit. The advice is to keep adding trees until no further improvement is observed.\n",
    "Tree depth, deeper trees are more complex trees and shorter trees are preferred. Generally, better results are seen with 4-8 levels.\n",
    "Number of nodes or number of leaves, like depth, this can constrain the size of the tree, but is not constrained to a symmetrical structure if other constraints are used.\n",
    "Number of observations per split imposes a minimum constraint on the amount of training data at a training node before a split can be considered\n",
    "Minimim improvement to loss is a constraint on the improvement of any split added to a tree.\n",
    "\n",
    "2. Weighted Updates\n",
    "\n",
    "The predictions of each tree are added together sequentially.\n",
    "\n",
    "The contribution of each tree to this sum can be weighted to slow down the learning by the algorithm. This weighting is called a shrinkage or a learning rate.\n",
    "\n",
    "Each update is simply scaled by the value of the “learning rate parameter v”\n",
    "\n",
    "The effect is that learning is slowed down, in turn require more trees to be added to the model, in turn taking longer to train, providing a configuration trade-off between the number of trees and learning rate.\n",
    "\n",
    "Decreasing the value of v [the learning rate] increases the best value for M [the number of trees].\n",
    "\n",
    "— Greedy Function Approximation: A Gradient Boosting Machine\n",
    "\n",
    "It is common to have small values in the range of 0.1 to 0.3, as well as values less than 0.1.\n",
    "\n",
    "Similar to a learning rate in stochastic optimization, shrinkage reduces the influence of each individual tree and leaves space for future trees to improve the model.\n",
    "\n",
    "- Stochastic Gradient Boosting\n",
    "\n",
    "3. Stochastic Gradient Boosting\n",
    "\n",
    "A big insight into bagging ensembles and random forest was allowing trees to be greedily created from subsamples of the training dataset.\n",
    "\n",
    "This same benefit can be used to reduce the correlation between the trees in the sequence in gradient boosting models.\n",
    "\n",
    "This variation of boosting is called stochastic gradient boosting.\n",
    "\n",
    "at each iteration a subsample of the training data is drawn at random (without replacement) from the full training dataset. The randomly selected subsample is then used, instead of the full sample, to fit the base learner.\n",
    "\n",
    "A few variants of stochastic boosting that can be used:\n",
    "\n",
    "Subsample rows before creating each tree.\n",
    "\n",
    "Subsample columns before creating each tree\n",
    "\n",
    "Subsample columns before considering each split.\n",
    "\n",
    "Generally, aggressive sub-sampling such as selecting only 50% of the data has shown to be beneficial.\n",
    "\n",
    "According to user feedback, using column sub-sampling prevents over-fitting even more so than the traditional row sub-sampling\n",
    "\n",
    "4. Penalized Gradient Boosting\n",
    "\n",
    "Additional constraints can be imposed on the parameterized trees in addition to their structure.\n",
    "\n",
    "Classical decision trees like CART are not used as weak learners, instead a modified form called a regression tree is used that has numeric values in the leaf nodes (also called terminal nodes). The values in the leaves of the trees can be called weights in some literature.\n",
    "\n",
    "As such, the leaf weight values of the trees can be regularized using popular regularization functions, such as:\n",
    "\n",
    "L1 regularization of weights.\n",
    "L2 regularization of weights.\n",
    "The additional regularization term helps to smooth the final learnt weights to avoid over-fitting. Intuitively, the regularized objective will tend to select a model employing simple and predictive functions.\n",
    "\n",
    "- How does gradient boosting predict?\n",
    "\n",
    "Gradient boosting is a type of machine learning boosting. It relies on the intuition that the best possible next model, when combined with previous models, minimizes the overall prediction error. The key idea is to set the target outcomes for this next model in order to minimize the error.\n",
    "\n",
    "It gives a prediction model in the form of an ensemble of weak prediction models, which are typically decision trees.\n",
    "\n",
    "Applications: Gradient Boosting Algorithm is generally used when we want to decrease the Bias error.\n",
    "\n",
    "- What is a gradient boosted decision tree?\n",
    "\n",
    "Gradient-boosted decision trees are a machine learning technique for optimizing the predictive value of a model through successive steps in the learning process.\n",
    "\n",
    "- 1st-Estimator\n",
    "\n",
    "For estimator-1, the root level (level 0) will consist of all the records. The outcome at this level is equal to the mean of the entire predictor column (addition of all values in Predictor column divided by a number of records). Let us find out what is the MSE for this level. MSE is calculated as the mean of the square of errors. Here error is equal to actual predictor-predicted outcome. The outcome for the particular node is always equal to the mean of prdictor records of that node. So, the MSE of the root node of the 1st estimator is calculated as given below.\n",
    "\n",
    "                                 MSE=(∑(Agei –mu)2 )/9=577.11\n",
    "\n",
    "The cost function hers is MSE and the objective of the algorithm here is to minimize the MSE.\n",
    "\n",
    "- Decision Stump\n",
    "\n",
    "Now, one of the independent variables will be used by the Gradient boosting to create the Decision Stump. Let us suppose that the x1 is used here for prediction. So, the records with False x1 will go in one child node, and records with True x2 will go in another child node.\n",
    "\n",
    "- 2nd-Estimator:\n",
    "\n",
    "Let us now find out the estimator-2. Unlike AdaBoost, in the Gradient boosting algorithm, residuals of the first estimator are taken as root nodes. Let us suppose for this estimator another dependent variable is used for prediction. So, the records with False x2 will go in one child node, and records with True x2 will go in another child node.\n",
    "\n",
    "The prediction of predictor here is slightly tricky. First, the predictor will be predicted from estimator 1 as per the value of x1, and then the mean from the estimator is found out with the help of the value of x2 and then that means is added to x predicted from the first estimator and that is the final prediction of Gradient boosting with two estimators.\n",
    "\n",
    "The final MSE is much better than the MSE of the root node of the 1st Estimator. This is only for 2 estimators. There can be n number of estimators in gradient boosting algorithm.\n",
    "\n",
    "The most important thing in this algorithm is to find the best value of n_estimators. Can Find the best estimator with GridSearchCV.\n",
    "\n",
    "- General Approach for Parameter Tuning\n",
    "\n",
    "Choose a relatively high learning rate.\n",
    "\n",
    "Determine the optimum number of trees for this learning rate.\n",
    "\n",
    "Tune tree-specific parameters for decided learning rate and number of trees.\n",
    "\n",
    "Lower the learning rate and increase the estimators proportionally to get more robust models."
   ]
  },
  {
   "cell_type": "code",
   "execution_count": 29,
   "id": "2bf68dd5",
   "metadata": {},
   "outputs": [
    {
     "data": {
      "text/plain": [
       "GradientBoostingRegressor()"
      ]
     },
     "execution_count": 29,
     "metadata": {},
     "output_type": "execute_result"
    }
   ],
   "source": [
    "# Creating model & fitting the training data\n",
    "\n",
    "gbr = GradientBoostingRegressor()\n",
    "gbr.fit(X_train,y_train)"
   ]
  },
  {
   "cell_type": "code",
   "execution_count": 30,
   "id": "438936de",
   "metadata": {},
   "outputs": [],
   "source": [
    "# Predicting on test data\n",
    "\n",
    "pred_gbr = gbr.predict(X_test)"
   ]
  },
  {
   "cell_type": "code",
   "execution_count": 31,
   "id": "7be0716d",
   "metadata": {},
   "outputs": [
    {
     "name": "stdout",
     "output_type": "stream",
     "text": [
      "Train Accuracy : 98.18%\n",
      "Test Accuracy : 84.71%\n"
     ]
    }
   ],
   "source": [
    "# Checking accuracy\n",
    "\n",
    "Acc_gbr = gbr.score(X_train, y_train)\n",
    "acc_gbr = gbr.score(X_test, y_test)\n",
    "print ('Train Accuracy : {:.2f}%'.format(Acc_gbr*100))\n",
    "print ('Test Accuracy : {:.2f}%'.format(acc_gbr*100))"
   ]
  },
  {
   "cell_type": "code",
   "execution_count": 32,
   "id": "05b77a3e",
   "metadata": {},
   "outputs": [
    {
     "name": "stdout",
     "output_type": "stream",
     "text": [
      "Mean squared error: 0.50\n",
      "Variance Score: 0.85\n"
     ]
    }
   ],
   "source": [
    "# Checking error & r2 score\n",
    "\n",
    "print('Mean squared error: %.2f'% mean_squared_error(y_test, pred_gbr))\n",
    "print('Variance Score: %.2f'% r2_score(y_test, pred_gbr))"
   ]
  },
  {
   "cell_type": "markdown",
   "id": "041d4ce6",
   "metadata": {},
   "source": [
    "### Decision Tree Regressor\n",
    "\n",
    "- What is decision tree intuition?\n",
    "\n",
    "Decision Trees are easy & Simple to implement & interpreted. Decision Tree is a diagram (flow) that is used to predict the course of action or a probability. Each branch of the decision tree represents an outcome or decision or a reaction.\n",
    "\n",
    "Decision Tree Learning is a classic algorithm used in machine learning for classification and regression purposes. The basic intuition behind a decision tree is to map out all possible decision paths in the form of a tree. Each path from the root to a leaf of the tree signifies a decision process.\n",
    "\n",
    "Conceptually, decision trees are quite simple. We split a dataset into smaller and smaller groups, attempting to make each one as “pure” or “homogenous” as possible. Once we finish splitting, we use the final groups to make predictions on unseen data.\n",
    "\n",
    "- What is main goal of decision tree learning?\n",
    "\n",
    "The goal of this algorithm is to create a model that predicts the value of a target variable, for which the decision tree uses the tree representation to solve the problem in which the leaf node corresponds to a class label and attributes are represented on the internal node of the tree.\n",
    "\n",
    "Decision trees use a criteria (there are multiple criteria available) to decide to split a node in two or more sub-nodes\n",
    "The creation of sub-nodes increases the homogeneity of resultant sub-nodes. In other words, we can say that purity of the node increases with respect to the target variable\n",
    "Decision tree splits the nodes on all available variables and then selects the split which results in most homogeneous sub-nodes.\n",
    "\n",
    "- What is a child node decision tree?\n",
    "\n",
    "In a decision tree building process, two important decisions are to be made — what is the best split(s) and which is the best variable to split a node. Information Gain criteria helps in making these decisions. Using a independent variable value(s), the child nodes are created.\n",
    "\n",
    "- Important Terminology related to Decision Trees\n",
    "\n",
    "Root Node: It represents entire population or sample and this further gets divided into two or more homogeneous sets.\n",
    "\n",
    "Splitting: It is a process of dividing a node into two or more sub-nodes.\n",
    "\n",
    "Decision Node: When a sub-node splits into further sub-nodes, then it is called decision node.\n",
    "\n",
    "Leaf / Terminal Node: Nodes do not split is called Leaf or Terminal node.\n",
    "\n",
    "Pruning: When we remove sub-nodes of a decision node, this process is called pruning.\n",
    "\n",
    "Branch / Sub-Tree: A sub section of entire tree is called branch or sub-tree.\n",
    "\n",
    "Parent and Child Node: A node, which is divided into sub-nodes is called parent node of sub-nodes where as sub-nodes are the child of parent node.\n",
    "\n",
    "- What constitutes a good split?\n",
    "\n",
    "A successful decision tree is one that does a good job of “splitting” data into homogeneous groups. Therefore, in order to build a good decision tree algorithm, we’ll need a method for evaluating splits.\n",
    "One of the most popular methods for assessing the quality of a split is called “Gini Impurity”.\n",
    "\n",
    "Interpreting Gini Impurity is simple. A value of 0 means that a group is perfectly homogenous. In other words, all records in the group belong to the same class. A value of 0.5, on the other hand, means that a group is completely split between classes.\n",
    "When we evaluate potential splits, we want to choose the one that has the lowest Gini Impurity (ie. the one that is closest to perfect “purity”).\n",
    "\n",
    "- Calculating Gini Impurity is a bit convoluted, but it helps cement the intuition behind decision tree splits.\n",
    "\n",
    "First, we calculate the percentage of records that fall into each class (p). Then we square those numbers and add them together. Finally, we subtract that number from one.\n",
    "Because decision trees split data into more than one group, our final step is to calculate the weighted average of the Gini Impurity in each group.\n",
    "Note the difference between a “group” (also known as a “node” in decision tree terminology) and a “class”. Groups or nodes are what we create when we do a split. Classes are our target variables — the thing we are trying to predict.\n",
    "\n",
    "To start, we’ll need to choose a column and value to split on. Ex. Let’s use Sales Prior Year ≥ $100.\n",
    "Next, we separate our dataset into two groups — those with prior sales ≥ $100 and those with prior sales <$100.\n",
    "Third, we apply the Gini Impurity formula to each node.\n",
    "\n",
    "Finally, we take the weighted average of the two numbers. Because each node has the same number of records (n) this amounts to a simple average:\n",
    "\n",
    "Note that our first node (where prior sales < $100) has a Gini Impurity of 0 because all of the records fall into the same class. Our second node, on the other hand, has a Gini Impurity of .44 because class membership is divided.\n",
    "Now that we know how to evaluate the quality of each split.\n",
    "\n",
    "- How do we decide what to split on?\n",
    "\n",
    "In our above example, we evaluated the Gini Impurity on one potential split. But how do we know this was the right choice? And how do we know what to split on next?\n",
    "The simple answer is that we can’t know unless we try all options. So that’s exactly what we do.\n",
    "At any given node, we loop through all of the unique values in all of our columns and choose the one with the lowest Gini Index. By definition, this is what makes the decision tree a greedy algorithm — one in which we select the most optimal choice at each step.\n",
    "\n",
    "Once we identify the lowest Gini Impurity among these options, we make the split and then run the same process on each of the resulting nodes.\n",
    "\n",
    "- When do we stop splitting?\n",
    "\n",
    "We’re nearly there. The last step is to figure out when to stop splitting.\n",
    "But first, why do we need to stop at all? To answer that question, think about what would happen if we put no restrictions on splitting and we had a complex dataset…\n",
    "Chances are that our algorithm would be able to find lots of weird combinations of features to reach homogeneity for every node. This, of course, would be textbook overfitting. In other words, these decision rules would probably perform terribly on unseen data because they are far too complex.\n",
    "In order to solve this problem (at least partially), we set up rules for when we want to stop a split. There are many rules we can draw from; below are the two most common:\n",
    "Max depth: Here we set a limit on the depth of our tree. Depth is simply a measure of how far we are from the start of our tree. For example, if we set a max depth of two, we would stop expanding after splitting twice:\n",
    "\n",
    "- Minimum samples split: \n",
    "\n",
    "This is the minimum number of records that must be in a node in order to split. If we set our minimum samples to 50, then we would stop splitting any node with less than 50 records.\n",
    "\n",
    "- Closing Thoughts\n",
    "\n",
    "When we put it all together, decision trees are pretty easy to grasp. We take a dataset and split it continuously. Each time we split, we look at all possible options and choose the one that creates the most pure groups. Finally, we add some rules that govern when and how we stop splitting.\n",
    "The wonderful thing about tree-based models is that they build upon each other neatly. "
   ]
  },
  {
   "cell_type": "code",
   "execution_count": 33,
   "id": "096ce5ef",
   "metadata": {},
   "outputs": [
    {
     "data": {
      "text/plain": [
       "DecisionTreeRegressor()"
      ]
     },
     "execution_count": 33,
     "metadata": {},
     "output_type": "execute_result"
    }
   ],
   "source": [
    "# Creating model & fitting training data\n",
    "\n",
    "dtr = DecisionTreeRegressor()\n",
    "dtr.fit(X_train, y_train)"
   ]
  },
  {
   "cell_type": "code",
   "execution_count": 34,
   "id": "e0140621",
   "metadata": {},
   "outputs": [],
   "source": [
    "# Prediction on test data\n",
    "\n",
    "pred_dtr = dtr.predict(X_test)"
   ]
  },
  {
   "cell_type": "code",
   "execution_count": 35,
   "id": "ec77231c",
   "metadata": {},
   "outputs": [
    {
     "name": "stdout",
     "output_type": "stream",
     "text": [
      "Train Accuracy : 99.78%\n",
      "Test Accuracy : 83.97%\n"
     ]
    }
   ],
   "source": [
    "# Checking accuracy\n",
    "\n",
    "Acc_dtr = dtr.score(X_train, y_train)\n",
    "acc_dtr = dtr.score(X_test, y_test)\n",
    "print ('Train Accuracy : {:.2f}%'.format(Acc_dtr*100))\n",
    "print ('Test Accuracy : {:.2f}%'.format(acc_dtr*100))"
   ]
  },
  {
   "cell_type": "code",
   "execution_count": 36,
   "id": "d2710333",
   "metadata": {},
   "outputs": [
    {
     "name": "stdout",
     "output_type": "stream",
     "text": [
      "Mean squared error: 0.53\n",
      "Variance Score: 0.84\n"
     ]
    }
   ],
   "source": [
    "# Checking error & r2 score\n",
    "\n",
    "print('Mean squared error: %.2f'% mean_squared_error(y_test, pred_dtr))\n",
    "print('Variance Score: %.2f'% r2_score(y_test, pred_dtr))"
   ]
  },
  {
   "cell_type": "markdown",
   "id": "49e70ba4",
   "metadata": {},
   "source": [
    "### Random Forest Regressor\n",
    "\n",
    "The random forest is an algorithm that aggregates numerous, independently trained decision trees to make predictions. This “wisdom of the crowd” approach allows it to learn from a diverse set of data, leading to more stable and generalizable results.\n",
    "\n",
    "- How does a random forest Regressor work?\n",
    "\n",
    "Random forest is a type of supervised learning algorithm that uses ensemble methods (bagging) to solve both regression and classification problems. The algorithm operates by constructing a multitude of decision trees at training time and outputting the mean/mode of prediction of the individual trees.\n",
    "\n",
    "Ensemble learning method is a technique that combines predictions from multiple machine learning algorithms to make a more accurate prediction than a single model.\n",
    "\n",
    "The fundamental idea behind a random forest is to combine many decision trees into a single model. Individually, predictions made by decision trees (or humans) may not be accurate, but combined together, the predictions will be closer to the mark on average.\n",
    "\n",
    "1. Bagging – \n",
    "\n",
    "Suppose we have a dataset, and we make different models on the same dataset and combine it, will it be useful? No right? There is a high chance we’ll get the same results since we are giving the same input. So instead we use a technique called bootstrapping. In this, we create subsets of the original dataset with replacement. The size of the subsets is the same as the size of the original set. Since we do this with replacement so there is a high chance that we provide different data points to our models.\n",
    "\n",
    "2. Boosting – \n",
    "\n",
    "Suppose any data point in your observation has been incorrectly classified by your 1st model, and then the next (probably all the models), will combine the predictions provide better results? Off-course it’s a big NO.\n",
    "\n",
    "Boosting technique is a sequential process, where each model tries to correct the errors of the previous model. The succeeding models are dependent on the previous model.\n",
    "\n",
    "It combines weak learners into strong learners by creating sequential models such that the final model has the highest accuracy. For example, ADA BOOST, XG BOOST.\n",
    "\n",
    "- What is the Random Forest Algorithm?\n",
    "\n",
    "Random Forest is a technique that uses ensemble learning, that combines many weak classifiers to provide solutions to complex problems.\n",
    "\n",
    "As the name suggests random forest consists of many decision trees. Rather than depending on one tree it takes the prediction from each tree and based on the majority votes of predictions, predicts the final output.\n",
    "\n",
    "It consists of 3 components which are the root node, decision node, leaf node. The node from where the population starts dividing is called a root node. The nodes we get after splitting a root node are called decision nodes and the node where further splitting is not possible is called a leaf node. The question comes how do we know which feature will be the root node? In a dataset there can be 100’s of features so how do we decide which feature will be our root node. To answer this question, we need to understand something called the “Gini Index”\n",
    "\n",
    "- What is Gini Index?\n",
    "\n",
    "To select a feature to split further we need to know how impure or pure that split will be. A pure sub-split means that either you should be getting “yes” or “no”.\n",
    "\n",
    "gini index for Random Forest Algorithm\n",
    "\n",
    "We will see what output we get after splitting, taking each feature as our root node.\n",
    "\n",
    "splitting for Random Forest Algorithm\n",
    "\n",
    "When we take feature 1 as our root node, we get a pure split whereas when we take feature 2, the split is not pure. So how do we know that how much impurity this particular node has? This can be understood with the help of the “Gini Index”.\n",
    "\n",
    "We basically need to know the impurity of our dataset and we’ll take that feature as the root node which gives the lowest impurity or say which has the lowest Gini index.\n",
    "\n",
    "gini formula\n",
    "\n",
    "Where P+ is the probability of a positive class and P_ is the probability of a negative class.\n",
    "\n",
    "- Steps involved in Random Forest Algorithm\n",
    "\n",
    "Step-1 – We first make subsets of our original data. We will do row sampling and feature sampling that means we’ll select rows and columns with replacement and create subsets of the training dataset\n",
    "\n",
    "Step- 2 – We create an individual decision tree for each subset we take\n",
    "\n",
    "Step-3 – Each decision tree will give an output\n",
    "\n",
    "Step 4 – Final output is considered based on Majority Voting if it’s a classification problem and average if it’s a regression problem.\n",
    "\n",
    "- How do you increase the accuracy of a random forest Regressor?\n",
    "\n",
    "If you want to increase the accuracy of your model, increase the number of trees. Specify the maximum number of features to be included at each node split. This depends very heavily on your dataset. If your independent variables are highly correlated, you'll want to decrease the maximum number of features."
   ]
  },
  {
   "cell_type": "code",
   "execution_count": 37,
   "id": "53a8709f",
   "metadata": {},
   "outputs": [
    {
     "data": {
      "text/plain": [
       "RandomForestRegressor()"
      ]
     },
     "execution_count": 37,
     "metadata": {},
     "output_type": "execute_result"
    }
   ],
   "source": [
    "# Creating the model & fitting the train data\n",
    "\n",
    "rfr = RandomForestRegressor()\n",
    "rfr.fit(X_train, y_train)"
   ]
  },
  {
   "cell_type": "code",
   "execution_count": 38,
   "id": "3b28e3f0",
   "metadata": {},
   "outputs": [],
   "source": [
    "#Prediction on test data\n",
    "\n",
    "pred_rfr = rfr.predict(X_test)"
   ]
  },
  {
   "cell_type": "code",
   "execution_count": 39,
   "id": "b4b595db",
   "metadata": {},
   "outputs": [
    {
     "name": "stdout",
     "output_type": "stream",
     "text": [
      "Train Accuracy : 99.13%\n",
      "Test Accuracy : 83.89%\n"
     ]
    }
   ],
   "source": [
    "# Checking accuracy\n",
    "\n",
    "Acc_rfr = rfr.score(X_train, y_train)\n",
    "acc_rfr = rfr.score(X_test, y_test)\n",
    "print ('Train Accuracy : {:.2f}%'.format(Acc_rfr*100))\n",
    "print ('Test Accuracy : {:.2f}%'.format(acc_rfr*100))"
   ]
  },
  {
   "cell_type": "code",
   "execution_count": 40,
   "id": "96d73794",
   "metadata": {},
   "outputs": [
    {
     "name": "stdout",
     "output_type": "stream",
     "text": [
      "Mean squared error: 0.53\n",
      "Variance Score: 0.84\n"
     ]
    }
   ],
   "source": [
    "# Checking error & r2 score\n",
    "\n",
    "print('Mean squared error: %.2f'% mean_squared_error(y_test, pred_rfr))\n",
    "print('Variance Score: %.2f'% r2_score(y_test, pred_rfr))"
   ]
  },
  {
   "cell_type": "markdown",
   "id": "b81162a8",
   "metadata": {},
   "source": [
    "### Final Report"
   ]
  },
  {
   "cell_type": "code",
   "execution_count": 42,
   "id": "284fd2c6",
   "metadata": {},
   "outputs": [
    {
     "data": {
      "text/html": [
       "<div>\n",
       "<style scoped>\n",
       "    .dataframe tbody tr th:only-of-type {\n",
       "        vertical-align: middle;\n",
       "    }\n",
       "\n",
       "    .dataframe tbody tr th {\n",
       "        vertical-align: top;\n",
       "    }\n",
       "\n",
       "    .dataframe thead th {\n",
       "        text-align: right;\n",
       "    }\n",
       "</style>\n",
       "<table border=\"1\" class=\"dataframe\">\n",
       "  <thead>\n",
       "    <tr style=\"text-align: right;\">\n",
       "      <th></th>\n",
       "      <th>Model</th>\n",
       "      <th>Accuracy</th>\n",
       "    </tr>\n",
       "  </thead>\n",
       "  <tbody>\n",
       "    <tr>\n",
       "      <th>0</th>\n",
       "      <td>Linear Regression</td>\n",
       "      <td>0.972324</td>\n",
       "    </tr>\n",
       "    <tr>\n",
       "      <th>1</th>\n",
       "      <td>Support Vector Regressor</td>\n",
       "      <td>0.450810</td>\n",
       "    </tr>\n",
       "    <tr>\n",
       "      <th>2</th>\n",
       "      <td>K Neighbors Regressor</td>\n",
       "      <td>0.816287</td>\n",
       "    </tr>\n",
       "    <tr>\n",
       "      <th>3</th>\n",
       "      <td>Gradient Boosting Regressor</td>\n",
       "      <td>0.847138</td>\n",
       "    </tr>\n",
       "    <tr>\n",
       "      <th>4</th>\n",
       "      <td>Decision Tree Regressor</td>\n",
       "      <td>0.839698</td>\n",
       "    </tr>\n",
       "    <tr>\n",
       "      <th>5</th>\n",
       "      <td>Random Forest Regressor</td>\n",
       "      <td>0.838905</td>\n",
       "    </tr>\n",
       "  </tbody>\n",
       "</table>\n",
       "</div>"
      ],
      "text/plain": [
       "                         Model  Accuracy\n",
       "0            Linear Regression  0.972324\n",
       "1     Support Vector Regressor  0.450810\n",
       "2        K Neighbors Regressor  0.816287\n",
       "3  Gradient Boosting Regressor  0.847138\n",
       "4      Decision Tree Regressor  0.839698\n",
       "5      Random Forest Regressor  0.838905"
      ]
     },
     "execution_count": 42,
     "metadata": {},
     "output_type": "execute_result"
    }
   ],
   "source": [
    "output = pd.DataFrame({\"Model\":['Linear Regression','Support Vector Regressor','K Neighbors Regressor',\n",
    "                                'Gradient Boosting Regressor','Decision Tree Regressor',\n",
    "                               'Random Forest Regressor'],\n",
    "                      \"Accuracy\":[acc_reg, acc_svr, acc_neigh, acc_gbr, acc_dtr, acc_rfr]})\n",
    "output"
   ]
  },
  {
   "cell_type": "code",
   "execution_count": 43,
   "id": "0fb625be",
   "metadata": {},
   "outputs": [
    {
     "data": {
      "text/plain": [
       "<AxesSubplot:xlabel='Accuracy', ylabel='Model'>"
      ]
     },
     "execution_count": 43,
     "metadata": {},
     "output_type": "execute_result"
    },
    {
     "data": {
      "image/png": "[encoded data removed]",
      "text/plain": [
       "<Figure size 432x288 with 1 Axes>"
      ]
     },
     "metadata": {
      "needs_background": "light"
     },
     "output_type": "display_data"
    }
   ],
   "source": [
    "sns.barplot(x='Accuracy', y='Model', data=output)"
   ]
  }
 ],
 "metadata": {
  "kernelspec": {
   "display_name": "Python 3 (ipykernel)",
   "language": "python",
   "name": "python3"
  },
  "language_info": {
   "codemirror_mode": {
    "name": "ipython",
    "version": 3
   },
   "file_extension": ".py",
   "mimetype": "text/x-python",
   "name": "python",
   "nbconvert_exporter": "python",
   "pygments_lexer": "ipython3",
   "version": "3.8.8"
  }
 },
 "nbformat": 4,
 "nbformat_minor": 5
}
